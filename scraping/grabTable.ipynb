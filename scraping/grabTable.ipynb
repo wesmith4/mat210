{
 "cells": [
  {
   "cell_type": "markdown",
   "metadata": {},
   "source": [
    "# Scraping tables with python\n",
    "\n",
    "This notebook shows how to grab a table, much like we learned with Google Sheets. \n",
    "\n",
    "Created by Tim Chartier\n",
    "\n",
    "### Begin by importing the modules we need. "
   ]
  },
  {
   "cell_type": "code",
   "execution_count": 1,
   "metadata": {},
   "outputs": [],
   "source": [
    "from bs4 import BeautifulSoup\n",
    "from urllib.request import urlopen\n",
    "import pandas as pd"
   ]
  },
  {
   "cell_type": "markdown",
   "metadata": {},
   "source": [
    "### Grab the table and print it."
   ]
  },
  {
   "cell_type": "code",
   "execution_count": 2,
   "metadata": {},
   "outputs": [
    {
     "name": "stdout",
     "output_type": "stream",
     "text": [
      "    Rank  Time Wind (m/s)             Athlete              Country  \\\n",
      "0      1  9.58       +0.9          Usain Bolt              Jamaica   \n",
      "1      2  9.69       +2.0           Tyson Gay        United States   \n",
      "2      2  9.69       −0.1         Yohan Blake              Jamaica   \n",
      "3      4  9.72       +0.2        Asafa Powell              Jamaica   \n",
      "4      5  9.74       +0.9       Justin Gatlin        United States   \n",
      "5      6  9.76       +0.6   Christian Coleman        United States   \n",
      "6      7  9.78       +0.9        Nesta Carter              Jamaica   \n",
      "7      8  9.79       +0.1      Maurice Greene        United States   \n",
      "8      9  9.80       +1.3      Steve Mullings              Jamaica   \n",
      "9     10  9.82       +1.7    Richard Thompson  Trinidad and Tobago   \n",
      "10    11  9.84       +0.7      Donovan Bailey               Canada   \n",
      "11    11  9.84       +0.2         Bruny Surin               Canada   \n",
      "12    11  9.84       +1.3     Trayvon Bromell        United States   \n",
      "13    11  9.84       +1.6     Trayvon Bromell        United States   \n",
      "14    14  9.85       +1.2       Leroy Burrell        United States   \n",
      "15    14  9.85       +1.7      Olusoji Fasuba              Nigeria   \n",
      "16    14  9.85       +1.3        Mike Rodgers        United States   \n",
      "17    17  9.86       +1.2          Carl Lewis        United States   \n",
      "18    17  9.86       −0.7  Frankie Fredericks              Namibia   \n",
      "19    17  9.86       +1.8          Ato Boldon  Trinidad and Tobago   \n",
      "20    17  9.86       +0.6    Francis Obikwelu             Portugal   \n",
      "21    17  9.86       +1.4      Keston Bledman  Trinidad and Tobago   \n",
      "22    17  9.86       +1.3        Jimmy Vicaut               France   \n",
      "23    17  9.86       +0.9          Noah Lyles        United States   \n",
      "24    17  9.86       +0.8      Divine Oduduru              Nigeria   \n",
      "25    17  9.86       +1.6      Michael Norman        United States   \n",
      "\n",
      "                 Date          Place   Ref  \n",
      "0      16 August 2009         Berlin  [27]  \n",
      "1   20 September 2009       Shanghai  [28]  \n",
      "2      23 August 2012       Lausanne  [29]  \n",
      "3    2 September 2008       Lausanne  [30]  \n",
      "4         15 May 2015           Doha  [31]  \n",
      "5   28 September 2019           Doha  [32]  \n",
      "6      29 August 2010          Rieti  [33]  \n",
      "7        16 June 1999         Athens  [34]  \n",
      "8         4 June 2011         Eugene  [35]  \n",
      "9        21 June 2014  Port of Spain  [36]  \n",
      "10       27 July 1996        Atlanta   NaN  \n",
      "11     22 August 1999        Seville   NaN  \n",
      "12       25 June 2015         Eugene   NaN  \n",
      "13        3 July 2016         Eugene  [37]  \n",
      "14        6 July 1994       Lausanne  [38]  \n",
      "15        12 May 2006           Doha   NaN  \n",
      "16        4 June 2011         Eugene   NaN  \n",
      "17     25 August 1991          Tokyo  [39]  \n",
      "18        3 July 1996       Lausanne   NaN  \n",
      "19      19 April 1998         Walnut   NaN  \n",
      "20     22 August 2004         Athens   NaN  \n",
      "21       23 June 2012  Port of Spain   NaN  \n",
      "22        4 July 2015    Saint-Denis  [40]  \n",
      "23        18 May 2019       Shanghai  [41]  \n",
      "24        7 June 2019         Austin  [42]  \n",
      "25       20 July 2020     Fort Worth  [43]  \n"
     ]
    }
   ],
   "source": [
    "# What web page do we want? \n",
    "pageAddress = \"https://en.wikipedia.org/wiki/100_metres\"\n",
    "\n",
    "# Open and read in the web page \n",
    "soup = BeautifulSoup(urlopen(pageAddress), \"html.parser\")\n",
    "\n",
    "# Read the table of data into a Dataframe \n",
    "table = soup.find_all('table')[2] \n",
    "df = pd.read_html(str(table))\n",
    "print(df[0])"
   ]
  },
  {
   "cell_type": "code",
   "execution_count": null,
   "metadata": {},
   "outputs": [],
   "source": []
  }
 ],
 "metadata": {
  "kernelspec": {
   "display_name": "Python 3",
   "language": "python",
   "name": "python3"
  },
  "language_info": {
   "codemirror_mode": {
    "name": "ipython",
    "version": 3
   },
   "file_extension": ".py",
   "mimetype": "text/x-python",
   "name": "python",
   "nbconvert_exporter": "python",
   "pygments_lexer": "ipython3",
   "version": "3.7.6"
  }
 },
 "nbformat": 4,
 "nbformat_minor": 4
}
