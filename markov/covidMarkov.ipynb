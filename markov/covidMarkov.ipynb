{
 "cells": [
  {
   "cell_type": "markdown",
   "id": "available-friendship",
   "metadata": {},
   "source": [
    "## Markov and Covid-19"
   ]
  },
  {
   "cell_type": "code",
   "execution_count": 1,
   "id": "instant-sitting",
   "metadata": {},
   "outputs": [
    {
     "name": "stdout",
     "output_type": "stream",
     "text": [
      "[[0.9 0.  0. ]\n",
      " [0.1 0.8 0. ]\n",
      " [0.  0.2 1. ]]\n"
     ]
    }
   ],
   "source": [
    "import numpy as np\n",
    "\n",
    "A = np.array([[.9,0,0],\n",
    "              [.1,0.8,0],\n",
    "              [0,0.2,1]])\n",
    "print(A)"
   ]
  },
  {
   "cell_type": "code",
   "execution_count": 2,
   "id": "elementary-hearts",
   "metadata": {},
   "outputs": [
    {
     "name": "stdout",
     "output_type": "stream",
     "text": [
      "[77.12320755]\n"
     ]
    }
   ],
   "source": [
    "A = np.array([[.9,0,0],\n",
    "              [.1,0.8,0],\n",
    "              [0,0.2,1]])\n",
    "v0 = np.array([[1000],[0],[0]])\n",
    "T = np.linalg.matrix_power(A,14)@v0\n",
    "percentSick = (T[1]+T[2])/sum(T)\n",
    "print(percentSick*100)"
   ]
  },
  {
   "cell_type": "code",
   "execution_count": 3,
   "id": "spare-gambling",
   "metadata": {},
   "outputs": [
    {
     "name": "stdout",
     "output_type": "stream",
     "text": [
      "[95.60195349]\n"
     ]
    }
   ],
   "source": [
    "x = .8\n",
    "A = np.array([[x,0,0],\n",
    "              [1-x,0.8,0],\n",
    "              [0,0.2,1]])\n",
    "v0 = np.array([[1000],[0],[0]])\n",
    "T = np.linalg.matrix_power(A,14)@v0\n",
    "percentSick = (T[1]+T[2])/sum(T)\n",
    "print(percentSick*100)"
   ]
  },
  {
   "cell_type": "code",
   "execution_count": null,
   "id": "exposed-being",
   "metadata": {},
   "outputs": [],
   "source": []
  }
 ],
 "metadata": {
  "kernelspec": {
   "display_name": "Python 3",
   "language": "python",
   "name": "python3"
  },
  "language_info": {
   "codemirror_mode": {
    "name": "ipython",
    "version": 3
   },
   "file_extension": ".py",
   "mimetype": "text/x-python",
   "name": "python",
   "nbconvert_exporter": "python",
   "pygments_lexer": "ipython3",
   "version": "3.7.9"
  }
 },
 "nbformat": 4,
 "nbformat_minor": 5
}
