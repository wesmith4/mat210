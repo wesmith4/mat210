{
 "cells": [
  {
   "cell_type": "markdown",
   "id": "enclosed-hierarchy",
   "metadata": {},
   "source": [
    "## Hi Ho Cherry-O\n",
    "Author: Tim Chartier\n",
    "Program: cherryO.ipynb\n",
    "\n",
    "Description: Markov Chain analysis of the game Hi Ho Cherry-O\n",
    "\n",
    "***\n",
    "### Set up transition matrix "
   ]
  },
  {
   "cell_type": "code",
   "execution_count": 16,
   "id": "listed-refund",
   "metadata": {},
   "outputs": [
    {
     "name": "stdout",
     "output_type": "stream",
     "text": [
      "[0.02875754 0.00735005 0.00889175 0.00934919 0.01065117 0.00768204\n",
      " 0.00721059 0.00667864 0.00499066 0.00411396 0.90432442]\n"
     ]
    }
   ],
   "source": [
    "import numpy as np\n",
    "\n",
    "G = np.array([[3/7,3/7,3/7,1/7,1/7,1/7,1/7,1/7,1/7,1/7,  0],\n",
    "              [1/7,  0,  0,2/7,  0,  0,  0,  0,  0,  0,  0],\n",
    "              [1/7,1/7,  0,  0,2/7,  0,  0,  0,  0,  0,  0],\n",
    "              [1/7,1/7,1/7,  0,  0,2/7,  0,  0,  0,  0,  0],\n",
    "              [1/7,1/7,1/7,1/7,  0,  0,2/7,  0,  0,  0,  0],\n",
    "              [  0,1/7,1/7,1/7,1/7,  0,  0,2/7,  0,  0,  0],\n",
    "              [  0,  0,1/7,1/7,1/7,1/7,  0,  0,2/7,  0,  0],\n",
    "              [  0,  0,  0,1/7,1/7,1/7,1/7,  0,  0,2/7,  0],\n",
    "              [  0,  0,  0,  0,1/7,1/7,1/7,1/7,  0,  0,  0],\n",
    "              [  0,  0,  0,  0,  0,1/7,1/7,1/7,1/7,  0,  0],\n",
    "              [  0,  0,  0,  0,  0,  0,1/7,2/7,3/7,4/7,  1]])\n",
    "\n",
    "# Using Markov matrix to find minimum game length\n",
    "#  Notice how the final state is nonzero! \n",
    "firstTurn = np.zeros(11)\n",
    "firstTurn[0]= 1\n",
    "\n",
    "# Keep increasing power until the last state becomes nonzero. \n",
    "print(np.linalg.matrix_power(G,32)@firstTurn)"
   ]
  },
  {
   "cell_type": "code",
   "execution_count": 2,
   "id": "color-effects",
   "metadata": {},
   "outputs": [
    {
     "data": {
      "text/plain": [
       "array([1., 0., 0., 0., 0., 0., 0., 0., 0., 0., 0.])"
      ]
     },
     "execution_count": 2,
     "metadata": {},
     "output_type": "execute_result"
    }
   ],
   "source": [
    "firstTurn"
   ]
  },
  {
   "cell_type": "code",
   "execution_count": null,
   "id": "grand-senate",
   "metadata": {},
   "outputs": [],
   "source": []
  }
 ],
 "metadata": {
  "kernelspec": {
   "display_name": "Python 3",
   "language": "python",
   "name": "python3"
  },
  "language_info": {
   "codemirror_mode": {
    "name": "ipython",
    "version": 3
   },
   "file_extension": ".py",
   "mimetype": "text/x-python",
   "name": "python",
   "nbconvert_exporter": "python",
   "pygments_lexer": "ipython3",
   "version": "3.7.9"
  }
 },
 "nbformat": 4,
 "nbformat_minor": 5
}
