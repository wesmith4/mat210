{
  "nbformat": 4,
  "nbformat_minor": 5,
  "metadata": {
    "kernelspec": {
      "display_name": "Python 3",
      "language": "python",
      "name": "python3"
    },
    "language_info": {
      "codemirror_mode": {
        "name": "ipython",
        "version": 3
      },
      "file_extension": ".py",
      "mimetype": "text/x-python",
      "name": "python",
      "nbconvert_exporter": "python",
      "pygments_lexer": "ipython3",
      "version": "3.7.9"
    },
    "colab": {
      "name": "cherryO.ipynb",
      "provenance": [],
      "include_colab_link": true
    }
  },
  "cells": [
    {
      "cell_type": "markdown",
      "metadata": {
        "id": "view-in-github",
        "colab_type": "text"
      },
      "source": [
        "<a href=\"https://colab.research.google.com/github/wesmith4/mat210/blob/main/markov/cherryO.ipynb\" target=\"_parent\"><img src=\"https://colab.research.google.com/assets/colab-badge.svg\" alt=\"Open In Colab\"/></a>"
      ]
    },
    {
      "cell_type": "markdown",
      "metadata": {
        "id": "enclosed-hierarchy"
      },
      "source": [
        "## Hi Ho Cherry-O\n",
        "Author: Tim Chartier\n",
        "Program: cherryO.ipynb\n",
        "\n",
        "Description: Markov Chain analysis of the game Hi Ho Cherry-O\n",
        "\n",
        "***\n",
        "### Set up transition matrix "
      ],
      "id": "enclosed-hierarchy"
    },
    {
      "cell_type": "code",
      "metadata": {
        "id": "listed-refund",
        "outputId": "493c00e6-9e1f-4cd3-dae4-17b5b29bd724",
        "colab": {
          "base_uri": "https://localhost:8080/"
        }
      },
      "source": [
        "import numpy as np\n",
        "\n",
        "G = np.array([[3/7,3/7,3/7,1/7,1/7,1/7,1/7,1/7,1/7,1/7,  0],\n",
        "              [1/7,  0,  0,2/7,  0,  0,  0,  0,  0,  0,  0],\n",
        "              [1/7,1/7,  0,  0,2/7,  0,  0,  0,  0,  0,  0],\n",
        "              [1/7,1/7,1/7,  0,  0,2/7,  0,  0,  0,  0,  0],\n",
        "              [1/7,1/7,1/7,1/7,  0,  0,2/7,  0,  0,  0,  0],\n",
        "              [  0,1/7,1/7,1/7,1/7,  0,  0,2/7,  0,  0,  0],\n",
        "              [  0,  0,1/7,1/7,1/7,1/7,  0,  0,2/7,  0,  0],\n",
        "              [  0,  0,  0,1/7,1/7,1/7,1/7,  0,  0,2/7,  0],\n",
        "              [  0,  0,  0,  0,1/7,1/7,1/7,1/7,  0,  0,  0],\n",
        "              [  0,  0,  0,  0,  0,1/7,1/7,1/7,1/7,  0,  0],\n",
        "              [  0,  0,  0,  0,  0,  0,1/7,2/7,3/7,4/7,  1]])\n",
        "\n",
        "# Using Markov matrix to find minimum game length\n",
        "#  Notice how the final state is nonzero! \n",
        "firstTurn = np.zeros(11)\n",
        "firstTurn[0]= 1\n",
        "\n",
        "# Keep increasing power until the last state becomes nonzero. \n",
        "print(np.linalg.matrix_power(G,12)@firstTurn)"
      ],
      "id": "listed-refund",
      "execution_count": 4,
      "outputs": [
        {
          "output_type": "stream",
          "text": [
            "[0.14478166 0.03700421 0.04476623 0.04706924 0.053624   0.03867556\n",
            " 0.03630208 0.03362367 0.02512569 0.0207117  0.51831594]\n"
          ],
          "name": "stdout"
        }
      ]
    },
    {
      "cell_type": "code",
      "metadata": {
        "id": "color-effects",
        "outputId": "d952472f-eaa5-4009-c555-1b105c63203c",
        "colab": {
          "base_uri": "https://localhost:8080/"
        }
      },
      "source": [
        "firstTurn"
      ],
      "id": "color-effects",
      "execution_count": 2,
      "outputs": [
        {
          "output_type": "execute_result",
          "data": {
            "text/plain": [
              "array([1., 0., 0., 0., 0., 0., 0., 0., 0., 0., 0.])"
            ]
          },
          "metadata": {
            "tags": []
          },
          "execution_count": 2
        }
      ]
    },
    {
      "cell_type": "code",
      "metadata": {
        "id": "grand-senate"
      },
      "source": [
        ""
      ],
      "id": "grand-senate",
      "execution_count": 2,
      "outputs": []
    }
  ]
}