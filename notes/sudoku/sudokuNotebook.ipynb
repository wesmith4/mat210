{
 "cells": [
  {
   "cell_type": "markdown",
   "id": "theoretical-council",
   "metadata": {},
   "source": [
    "## Sudoku with Gurobi\n",
    "\n",
    "Copyright 2020, Gurobi Optimization, LLC\n",
    "\n",
    "The Sudoku board is a 9x9 grid, which is further divided into a 3x3 grid\n",
    "of 3x3 grids.  Each cell in the grid must take a value from 0 to 9.\n",
    "No two grid cells in the same row, column, or 3x3 subgrid may take the\n",
    "same value.\n",
    "\n",
    "In the MIP formulation, binary variables x[i,j,k] indicate whether\n",
    "cell <i,j> takes value 'k'.  The constraints are as follows:\n",
    "  1. Each cell must take exactly one value (sum_v x[i,j,k] = 1)\n",
    "  2. Each value is used exactly once per row (sum_i x[i,j,k] = 1)\n",
    "  3. Each value is used exactly once per column (sum_j x[i,j,k] = 1)\n",
    "  4. Each value is used exactly once per 3x3 subgrid (sum_grid x[i,j,k] = 1)\n",
    "  \n",
    "***  "
   ]
  },
  {
   "cell_type": "code",
   "execution_count": null,
   "id": "binary-kennedy",
   "metadata": {},
   "outputs": [],
   "source": [
    "# Import needed files\n",
    "import math\n",
    "import gurobipy as gp\n",
    "from gurobipy import GRB"
   ]
  },
  {
   "cell_type": "markdown",
   "id": "funded-sympathy",
   "metadata": {},
   "source": [
    "### Input the Sudoku puzzle"
   ]
  },
  {
   "cell_type": "code",
   "execution_count": null,
   "id": "statewide-ivory",
   "metadata": {},
   "outputs": [],
   "source": [
    "# Read the \"givens\" via a text file. \n",
    "f = open('sudoku.txt')\n",
    "\n",
    "# Read each row of the Sudoku puzzle as a string. \n",
    "grid = f.read().split()\n",
    "\n",
    "# n is the number of cells per row of the puzzle. \n",
    "# s is the size of the inner squares. \n",
    "n = len(grid[0])\n",
    "s = int(math.sqrt(n))"
   ]
  },
  {
   "cell_type": "markdown",
   "id": "vital-benefit",
   "metadata": {},
   "source": [
    "### Create our Gurobi BILP"
   ]
  },
  {
   "cell_type": "code",
   "execution_count": null,
   "id": "varying-australian",
   "metadata": {},
   "outputs": [],
   "source": [
    "# Create our 3-D array of model variables\n",
    "model = gp.Model('sudoku')\n",
    "\n",
    "vars = model.addVars(n, n, n, vtype=GRB.BINARY, name='G')"
   ]
  },
  {
   "cell_type": "markdown",
   "id": "western-capital",
   "metadata": {},
   "source": [
    "### Create the constraints"
   ]
  },
  {
   "cell_type": "code",
   "execution_count": null,
   "id": "meaningful-england",
   "metadata": {},
   "outputs": [],
   "source": [
    "# Fix variables associated with cells whose values are pre-specified\n",
    "for i in range(n):\n",
    "    for j in range(n):\n",
    "        if grid[i][j] != '.':\n",
    "            k = int(grid[i][j]) - 1\n",
    "            vars[i, j, k].LB = 1\n",
    "\n",
    "# Each cell must take one value\n",
    "model.addConstrs((vars.sum(i, j, '*') == 1\n",
    "                 for i in range(n)\n",
    "                 for j in range(n)), name='C')\n",
    "\n",
    "# Each value appears once per row\n",
    "model.addConstrs((vars.sum(i, '*', k) == 1\n",
    "                 for i in range(n)\n",
    "                 for k in range(n)), name='R')\n",
    "\n",
    "# Each value appears once per column\n",
    "model.addConstrs((vars.sum('*', j, k) == 1\n",
    "                 for j in range(n)\n",
    "                 for k in range(n)), name='C')\n",
    "\n",
    "# Each value appears once per subgrid\n",
    "model.addConstrs((\n",
    "    gp.quicksum(vars[i, j, k] for i in range(p*s, (p+1)*s)\n",
    "                for j in range(q*s, (q+1)*s)) == 1\n",
    "    for k in range(n)\n",
    "    for p in range(s)\n",
    "    for q in range(s)), name='Sub')\n",
    "\n",
    "# Set objective (this can be entirely omitted)\n",
    "model.setObjective(0, GRB.MAXIMIZE)\n",
    "\n",
    "# solve BILP with Gurobi\n",
    "model.optimize()\n",
    "\n",
    "# This is not necessary but does show you what the full BILP looks like\n",
    "# You'll find it in the file sudoku.lp\n",
    "model.write('sudoku.lp')\n"
   ]
  },
  {
   "cell_type": "markdown",
   "id": "prostate-redhead",
   "metadata": {},
   "source": [
    "### Output the solution"
   ]
  },
  {
   "cell_type": "code",
   "execution_count": null,
   "id": "brief-objective",
   "metadata": {},
   "outputs": [],
   "source": [
    "print('')\n",
    "print('Solution:')\n",
    "print('')\n",
    "\n",
    "# Retrieve optimization result\n",
    "\n",
    "solution = model.getAttr('X', vars)\n",
    "\n",
    "for i in range(n):\n",
    "    sol = ''\n",
    "    for j in range(n):\n",
    "        for k in range(n):\n",
    "            if solution[i, j, k] > 0.5:\n",
    "                sol += str(k+1)\n",
    "    print(sol)"
   ]
  },
  {
   "cell_type": "code",
   "execution_count": null,
   "id": "forbidden-guest",
   "metadata": {},
   "outputs": [],
   "source": []
  }
 ],
 "metadata": {
  "kernelspec": {
   "display_name": "Python 3",
   "language": "python",
   "name": "python3"
  },
  "language_info": {
   "codemirror_mode": {
    "name": "ipython",
    "version": 3
   },
   "file_extension": ".py",
   "mimetype": "text/x-python",
   "name": "python",
   "nbconvert_exporter": "python",
   "pygments_lexer": "ipython3",
   "version": "3.7.9"
  }
 },
 "nbformat": 4,
 "nbformat_minor": 5
}
