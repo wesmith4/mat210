{
 "cells": [
  {
   "cell_type": "markdown",
   "id": "celtic-gardening",
   "metadata": {},
   "source": [
    "## Average arriving customer computer\n",
    "\n",
    "Name: poisson1.ipynb\n",
    "Author: Tim Chartier\n",
    "\n",
    "Math 210 - Davidson College\n",
    "\n",
    "This program runs for ndays days where each day is split into nsub subintervals.  The average number of customers that arrive \n",
    "on a given day is a. "
   ]
  },
  {
   "cell_type": "code",
   "execution_count": 16,
   "id": "cardiac-marking",
   "metadata": {},
   "outputs": [
    {
     "name": "stdout",
     "output_type": "stream",
     "text": [
      "Number of days with 0, 1, 2, ... customers:\n",
      "1, 1, 2, 1\n",
      "Percentage of days with 0, 1, 2, ... customers:\n",
      "0.2, 0.2, 0.4, 0.2\n"
     ]
    }
   ],
   "source": [
    "import numpy as np\n",
    "\n",
    "numberOfDays = 5      # number of days in the simulation\n",
    "\n",
    "numberOfIntervals = 10            # split up each day into this many subunits\n",
    "averageNumberCustomers = 1        # average number of customers each day\n",
    "p = averageNumberCustomers/numberOfIntervals     # probability of a customer in each subunit\n",
    "\n",
    "randomNumberArray = np.random.rand(numberOfDays,numberOfIntervals)  # generate all the random numbers needed\n",
    "cust = [0]*numberOfDays  # initialize number of customers on each day to 0\n",
    "for i in range(numberOfDays):\n",
    "  for j in range(numberOfIntervals):\n",
    "     if randomNumberArray[i,j] < p:\n",
    "        cust[i] += 1\n",
    "\n",
    "cust_ave = np.sum(cust)/numberOfDays\n",
    "cust_max = np.max(cust)  # max number appearing on any one day\n",
    "\n",
    "distribution, binEdges = np.histogram(cust,cust_max+1)  # histogram\n",
    "print('Number of days with 0, 1, 2, ... customers:')\n",
    "print(*distribution, sep = \", \")\n",
    "\n",
    "percentageOfDays = distribution/numberOfDays\n",
    "print('Percentage of days with 0, 1, 2, ... customers:')\n",
    "print(*percentageOfDays, sep = \", \")\n"
   ]
  },
  {
   "cell_type": "code",
   "execution_count": null,
   "id": "conditional-future",
   "metadata": {},
   "outputs": [],
   "source": []
  }
 ],
 "metadata": {
  "kernelspec": {
   "display_name": "Python 3",
   "language": "python",
   "name": "python3"
  },
  "language_info": {
   "codemirror_mode": {
    "name": "ipython",
    "version": 3
   },
   "file_extension": ".py",
   "mimetype": "text/x-python",
   "name": "python",
   "nbconvert_exporter": "python",
   "pygments_lexer": "ipython3",
   "version": "3.7.9"
  }
 },
 "nbformat": 4,
 "nbformat_minor": 5
}
