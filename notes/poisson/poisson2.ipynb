{
  "nbformat": 4,
  "nbformat_minor": 5,
  "metadata": {
    "kernelspec": {
      "display_name": "Python 3",
      "language": "python",
      "name": "python3"
    },
    "language_info": {
      "codemirror_mode": {
        "name": "ipython",
        "version": 3
      },
      "file_extension": ".py",
      "mimetype": "text/x-python",
      "name": "python",
      "nbconvert_exporter": "python",
      "pygments_lexer": "ipython3",
      "version": "3.7.9"
    },
    "colab": {
      "name": "poisson2.ipynb",
      "provenance": [],
      "include_colab_link": true
    }
  },
  "cells": [
    {
      "cell_type": "markdown",
      "metadata": {
        "id": "view-in-github",
        "colab_type": "text"
      },
      "source": [
        "<a href=\"https://colab.research.google.com/github/wesmith4/mat210/blob/main/notes/poisson/poisson2.ipynb\" target=\"_parent\"><img src=\"https://colab.research.google.com/assets/colab-badge.svg\" alt=\"Open In Colab\"/></a>"
      ]
    },
    {
      "cell_type": "markdown",
      "metadata": {
        "id": "sonic-funeral"
      },
      "source": [
        "## Poisson process probability computer\n",
        "\n",
        "Name: poisson2.ipynb<br>\n",
        "Author: Tim Chartier\n",
        "\n",
        "Math 210 - Davidson College\n",
        "\n",
        "This program runs for numberOfDays (initially set at 10000) days where \n",
        "each day is split into numberOfIntervals subintervals.  The average number \n",
        "of customers that arrive on a given day is a. \n",
        "\n",
        "The program simulates ndays of customers arriving and determines\n",
        "from this the estimated probabilities that customers arrive on \n",
        "days 0, 1, 2, ....  These estimated probabilities can be compared\n",
        "with the reported exact probabilities from the Poisson distribution. "
      ],
      "id": "sonic-funeral"
    },
    {
      "cell_type": "code",
      "metadata": {
        "id": "animated-reading",
        "outputId": "2f5805b0-2fdb-428b-e5af-57d89b0f65fe",
        "colab": {
          "base_uri": "https://localhost:8080/"
        }
      },
      "source": [
        "import numpy as np\n",
        "\n",
        "numberOfDays = 10000  # number of days in the simulation\n",
        "numberOfIntervals = 20   # split up each day into this many subunits\n",
        "\n",
        "#To change to a fraction use something like: a = 1/3\n",
        "a = 1                    # average number of customers each day\n",
        "p = a/numberOfIntervals  # probability of a customer in each subunit\n",
        "\n",
        "randomNumberArray = np.random.rand(numberOfDays,numberOfIntervals)  # generate all the random numbers needed\n",
        "cust = np.zeros(numberOfDays)  # initialize number of customers on each day to 0\n",
        "for i in range(numberOfDays):\n",
        "  for j in range(numberOfIntervals):\n",
        "     if randomNumberArray[i,j] < p:\n",
        "        cust[i] += 1\n",
        "\n",
        "cust_ave = np.sum(cust)/numberOfDays\n",
        "cust_max = np.max(cust)  # max number appearing on any one day\n",
        "\n",
        "distribution, binEdges = np.histogram(cust,int(cust_max)+1)  # histogram\n",
        "print('Number of days with 0, 1, 2, ... customers:')\n",
        "print(*distribution, sep = \", \")\n",
        "\n",
        "percentageOfDays = distribution/numberOfDays\n",
        "print('\\nPercentage of days with 0, 1, 2, ... customers:')\n",
        "print(*percentageOfDays, sep = \", \")\n",
        "\n",
        "# compute expected percentage of days based on Poisson distribution:\n",
        "print('\\nExpected numbers from Poisson distribution:')\n",
        "pois = np.zeros(5)\n",
        "pois[0] = np.exp(-a)\n",
        "for k in range(1,5):\n",
        "  pois[k] = pois[k-1]*a/k\n",
        "\n",
        "np.set_printoptions(precision=4)\n",
        "print(pois)"
      ],
      "id": "animated-reading",
      "execution_count": 1,
      "outputs": [
        {
          "output_type": "stream",
          "text": [
            "Number of days with 0, 1, 2, ... customers:\n",
            "3628, 3702, 1912, 601, 140, 16, 1\n",
            "\n",
            "Percentage of days with 0, 1, 2, ... customers:\n",
            "0.3628, 0.3702, 0.1912, 0.0601, 0.014, 0.0016, 0.0001\n",
            "\n",
            "Expected numbers from Poisson distribution:\n",
            "[0.3679 0.3679 0.1839 0.0613 0.0153]\n"
          ],
          "name": "stdout"
        }
      ]
    }
  ]
}