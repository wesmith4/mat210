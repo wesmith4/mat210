{
  "nbformat": 4,
  "nbformat_minor": 0,
  "metadata": {
    "kernelspec": {
      "display_name": "Python 3",
      "language": "python",
      "name": "python3"
    },
    "language_info": {
      "codemirror_mode": {
        "name": "ipython",
        "version": 3
      },
      "file_extension": ".py",
      "mimetype": "text/x-python",
      "name": "python",
      "nbconvert_exporter": "python",
      "pygments_lexer": "ipython3",
      "version": "3.7.9"
    },
    "colab": {
      "name": "colleyRankingPython.ipynb",
      "provenance": [],
      "include_colab_link": true
    }
  },
  "cells": [
    {
      "cell_type": "markdown",
      "metadata": {
        "id": "view-in-github",
        "colab_type": "text"
      },
      "source": [
        "<a href=\"https://colab.research.google.com/github/wesmith4/mat210/blob/main/ranking/colleyRankingPython.ipynb\" target=\"_parent\"><img src=\"https://colab.research.google.com/assets/colab-badge.svg\" alt=\"Open In Colab\"/></a>"
      ]
    },
    {
      "cell_type": "markdown",
      "metadata": {
        "id": "pjt0KbIMyU16"
      },
      "source": [
        "# Colley ranking\n",
        "\n",
        "Description: Construct a Colley ranking of data.\n",
        "  \n",
        "Created by Tim Chartier\n",
        "\n",
        "### Set parameters\n",
        "\n",
        "gameFilename - game data file, presumed to be in the format from \n",
        "the Massey rating data server, which can be found at \n",
        "http://www.masseyratings.com/. \n",
        "\n",
        "teamFilename - team data file\n",
        "\n",
        "k - number of teams to print in the final ranking - set to 0 to get all teams"
      ]
    },
    {
      "cell_type": "code",
      "metadata": {
        "id": "2zqkiDqjyU18"
      },
      "source": [
        "gameFilename = '2020games.txt'\n",
        "teamFilename = '2020teams.txt'\n",
        "k = 10"
      ],
      "execution_count": null,
      "outputs": []
    },
    {
      "cell_type": "markdown",
      "metadata": {
        "id": "z3RRvEE7yU19"
      },
      "source": [
        "### Load the team names into an array"
      ]
    },
    {
      "cell_type": "code",
      "metadata": {
        "id": "EVNefF6fyU19"
      },
      "source": [
        "import pandas as pd\n",
        "\n",
        "teamNames = pd.read_csv(teamFilename, header = None)\n",
        "numTeams = len(teamNames)"
      ],
      "execution_count": null,
      "outputs": []
    },
    {
      "cell_type": "markdown",
      "metadata": {
        "id": "CvQs27_SyU19"
      },
      "source": [
        "### Load the games"
      ]
    },
    {
      "cell_type": "code",
      "metadata": {
        "id": "coz4T1nbyU19"
      },
      "source": [
        "# columns of games are:\n",
        "#\tcolumn 0 = days since 1/1/0000\n",
        "#\tcolumn 1 = date in YYYYMMDD format\n",
        "#\tcolumn 2 = team1 index\n",
        "#\tcolumn 3 = team1 homefield (1 = home, -1 = away, 0 = neutral)\n",
        "#\tcolumn 4 = team1 score\n",
        "#\tcolumn 5 = team2 index\n",
        "#\tcolumn 6 = team2 homefield (1 = home, -1 = away, 0 = neutral)\n",
        "#\tcolumn 7 = team2 score\n",
        "games = pd.read_csv(gameFilename, header = None)\n",
        "numGames = len(games)"
      ],
      "execution_count": null,
      "outputs": []
    },
    {
      "cell_type": "markdown",
      "metadata": {
        "id": "yoeA3B02yU19"
      },
      "source": [
        "### Create the Colley linear system"
      ]
    },
    {
      "cell_type": "code",
      "metadata": {
        "id": "30pxvE5XyU19"
      },
      "source": [
        "import numpy as np\n",
        "\n",
        "colleyMatrix = 2*np.diag(np.ones(numTeams))\n",
        "b = np.ones(numTeams)\n",
        "\n",
        "for i in range(numGames):\n",
        "    team1ID = games.loc[i, 2] - 1 # subtracting 1 since python indexes at 0\n",
        "    team1Score = games.loc[i, 4]\n",
        "    team2ID = games.loc[i, 5] - 1 # subtracting 1 since python indexes at 0\n",
        "    team2Score = games.loc[i, 7]\n",
        "    \n",
        "    colleyMatrix[team1ID, team2ID] -= 1\n",
        "    colleyMatrix[team2ID, team1ID] -= 1\n",
        "\n",
        "    colleyMatrix[team1ID, team1ID] += 1\n",
        "    colleyMatrix[team2ID, team2ID] += 1\n",
        "    \n",
        "    if team1Score > team2Score:\n",
        "        b[team1ID] += 1/2\n",
        "        b[team2ID] -= 1/2\n",
        "    elif team1Score < team2Score:\n",
        "        b[team1ID] -= 1/2\n",
        "        b[team2ID] += 1/2\n",
        "    else:  # it is a tie and make 1/2 a win and 1/2 a loss for both teams\n",
        "        b[team1ID] += 0; # this equates to adding nothing\n",
        "        b[team2ID] += 0; # clearly this code could be deleted"
      ],
      "execution_count": null,
      "outputs": []
    },
    {
      "cell_type": "markdown",
      "metadata": {
        "id": "PG64O15jyU1-"
      },
      "source": [
        "### Calculate linear system"
      ]
    },
    {
      "cell_type": "code",
      "metadata": {
        "id": "yW8IAMxFyU1-"
      },
      "source": [
        "r = np.linalg.solve(colleyMatrix,b)\n",
        "iSort = np.argsort(-r)"
      ],
      "execution_count": null,
      "outputs": []
    },
    {
      "cell_type": "markdown",
      "metadata": {
        "id": "lDS1lwFSyU1-"
      },
      "source": [
        "### Print the ranking of the teams"
      ]
    },
    {
      "cell_type": "code",
      "metadata": {
        "id": "IQlZrIs4yU1-",
        "outputId": "0344120c-e43d-49da-9140-22a5234fe707"
      },
      "source": [
        "print('\\n\\n************** COLLEY Rating Method **************\\n')\n",
        "print('===========================')\n",
        "print('Rank   Rating    Team   ')\n",
        "print('===========================')\n",
        "if k==0:\n",
        "    numberTeamToPrint = numTeams\n",
        "else:\n",
        "    numberTeamToPrint = k\n",
        "\n",
        "for i in range(numberTeamToPrint):\n",
        "    print(f'{i+1:4d}   {r[iSort[i]]:.5f}  {teamNames.loc[iSort[i],1]}')\n",
        "\n",
        "print('')   # extra carriage return"
      ],
      "execution_count": null,
      "outputs": [
        {
          "output_type": "stream",
          "text": [
            "\n",
            "\n",
            "************** COLLEY Rating Method **************\n",
            "\n",
            "===========================\n",
            "Rank   Rating    Team   \n",
            "===========================\n",
            "   1   1.10161   Kansas\n",
            "   2   1.01739   Dayton\n",
            "   3   1.00445   Baylor\n",
            "   4   0.97421   Gonzaga\n",
            "   5   0.97412   San_Diego_St\n",
            "   6   0.96961   Florida_St\n",
            "   7   0.96451   Villanova\n",
            "   8   0.94976   Duke\n",
            "   9   0.94068   Auburn\n",
            "  10   0.93528   Creighton\n",
            "\n"
          ],
          "name": "stdout"
        }
      ]
    },
    {
      "cell_type": "markdown",
      "metadata": {
        "id": "StMMzyBwyU1-"
      },
      "source": [
        "### Calculate predictability of method"
      ]
    },
    {
      "cell_type": "code",
      "metadata": {
        "id": "MSRBEKvJyU1-",
        "outputId": "9f43fb18-fa45-408d-d772-779c2ada6c91"
      },
      "source": [
        "numberCorrectPredictions = 0\n",
        "for i in range(numGames):\n",
        "    team1ID = games.loc[i, 2] - 1 \n",
        "    team1Score = games.loc[i, 4]\n",
        "    team2ID = games.loc[i, 5] - 1 \n",
        "    team2Score = games.loc[i, 7]\n",
        "    \n",
        "    if team1Score > team2Score and r[team1ID] > r[team2ID]:\n",
        "        numberCorrectPredictions += 1\n",
        "    elif team2Score > team1Score and r[team2ID] > r[team1ID]:\n",
        "        numberCorrectPredictions += 1\n",
        "    elif team1Score == team2Score and r[team1ID] == r[team2ID]:\n",
        "        numberCorrectPredictions += 1\n",
        "\n",
        "print(f'Predictability: {numberCorrectPredictions/numGames*100:.2f}%') \n"
      ],
      "execution_count": null,
      "outputs": [
        {
          "output_type": "stream",
          "text": [
            "Predictability: 75.36%\n"
          ],
          "name": "stdout"
        }
      ]
    },
    {
      "cell_type": "code",
      "metadata": {
        "id": "Z48aDZN2yU1_"
      },
      "source": [
        ""
      ],
      "execution_count": null,
      "outputs": []
    }
  ]
}