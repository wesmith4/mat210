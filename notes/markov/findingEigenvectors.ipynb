{
 "cells": [
  {
   "cell_type": "code",
   "execution_count": 1,
   "id": "imposed-morgan",
   "metadata": {},
   "outputs": [
    {
     "data": {
      "text/plain": [
       "array([[0.95, 0.08, 0.  ],\n",
       "       [0.05, 0.87, 0.08],\n",
       "       [0.  , 0.05, 0.92]])"
      ]
     },
     "execution_count": 1,
     "metadata": {},
     "output_type": "execute_result"
    }
   ],
   "source": [
    "import numpy as np\n",
    "\n",
    "A = np.array([[.95,.08,0],[0.05,0.87,0.08],[0,.05,.92]])\n",
    "A"
   ]
  },
  {
   "cell_type": "code",
   "execution_count": 2,
   "id": "quick-sauce",
   "metadata": {},
   "outputs": [],
   "source": [
    "[evals,evecs] = np.linalg.eig(A)"
   ]
  },
  {
   "cell_type": "code",
   "execution_count": 3,
   "id": "healthy-officer",
   "metadata": {},
   "outputs": [
    {
     "data": {
      "text/plain": [
       "array([0.80675445, 1.        , 0.93324555])"
      ]
     },
     "execution_count": 3,
     "metadata": {},
     "output_type": "execute_result"
    }
   ],
   "source": [
    "evals"
   ]
  },
  {
   "cell_type": "code",
   "execution_count": 4,
   "id": "backed-coast",
   "metadata": {},
   "outputs": [
    {
     "data": {
      "text/plain": [
       "array([[-0.45496212, -0.80498369, -0.77408722],\n",
       "       [ 0.81464126, -0.5031148 ,  0.16211754],\n",
       "       [-0.35967914, -0.31444675,  0.61196968]])"
      ]
     },
     "execution_count": 4,
     "metadata": {},
     "output_type": "execute_result"
    }
   ],
   "source": [
    "evecs"
   ]
  },
  {
   "cell_type": "code",
   "execution_count": 5,
   "id": "fabulous-cliff",
   "metadata": {},
   "outputs": [
    {
     "data": {
      "text/plain": [
       "-1.6225452416572228"
      ]
     },
     "execution_count": 5,
     "metadata": {},
     "output_type": "execute_result"
    }
   ],
   "source": [
    "v = evecs[:,1]\n",
    "sum(v)"
   ]
  },
  {
   "cell_type": "code",
   "execution_count": 8,
   "id": "sound-windsor",
   "metadata": {},
   "outputs": [
    {
     "data": {
      "text/plain": [
       "array([0.49612403, 0.31007752, 0.19379845])"
      ]
     },
     "execution_count": 8,
     "metadata": {},
     "output_type": "execute_result"
    }
   ],
   "source": [
    "v = v/sum(v)\n",
    "v"
   ]
  },
  {
   "cell_type": "code",
   "execution_count": 9,
   "id": "agricultural-miami",
   "metadata": {},
   "outputs": [
    {
     "data": {
      "text/plain": [
       "array([0.49612403, 0.31007752, 0.19379845])"
      ]
     },
     "execution_count": 9,
     "metadata": {},
     "output_type": "execute_result"
    }
   ],
   "source": [
    "np.matmul(A,v)\n",
    "# Expected to return v back to us"
   ]
  },
  {
   "cell_type": "code",
   "execution_count": 26,
   "id": "round-nomination",
   "metadata": {},
   "outputs": [
    {
     "name": "stdout",
     "output_type": "stream",
     "text": [
      "[[0.6989138  0.3899476  0.14686451]\n",
      " [0.24371725 0.40075653 0.3348734 ]\n",
      " [0.05736895 0.20929588 0.51826208]]\n",
      "\n",
      "\n",
      "[[0.49649819 0.49599866 0.49536679]\n",
      " [0.30999916 0.31010378 0.31023611]\n",
      " [0.19350265 0.19389757 0.1943971 ]]\n",
      "\n",
      "\n",
      "[[0.49612403 0.49612403 0.49612403]\n",
      " [0.31007752 0.31007752 0.31007752]\n",
      " [0.19379845 0.19379845 0.19379845]]\n"
     ]
    }
   ],
   "source": [
    "print(np.linalg.matrix_power(A,10))\n",
    "print('\\n')\n",
    "print(np.linalg.matrix_power(A,100))\n",
    "print('\\n')\n",
    "print(np.linalg.matrix_power(A,500))\n"
   ]
  },
  {
   "cell_type": "markdown",
   "id": "retired-twins",
   "metadata": {},
   "source": [
    "## Machine Problem"
   ]
  },
  {
   "cell_type": "code",
   "execution_count": 29,
   "id": "cellular-desire",
   "metadata": {},
   "outputs": [
    {
     "data": {
      "text/plain": [
       "array([0.17793232, 0.02837656, 0.79369112])"
      ]
     },
     "execution_count": 29,
     "metadata": {},
     "output_type": "execute_result"
    }
   ],
   "source": [
    "A = np.array([[0.9,0.6,0],\n",
    "             [0.095,0.4,0],\n",
    "              [0.005,0,1]])\n",
    "\n",
    "np.linalg.matrix_power(A,365)@np.array([1,0,0])"
   ]
  },
  {
   "cell_type": "code",
   "execution_count": 30,
   "id": "rational-corporation",
   "metadata": {},
   "outputs": [
    {
     "name": "stdout",
     "output_type": "stream",
     "text": [
      "[1.         0.30431228 0.99568772]\n",
      "[[ 0.          0.70964314 -0.64959358]\n",
      " [ 0.         -0.70454284 -0.10359688]\n",
      " [ 1.         -0.0051003   0.75319046]]\n"
     ]
    }
   ],
   "source": [
    "[evals,evecs] = np.linalg.eig(A)\n",
    "print(evals)\n",
    "print(evecs)"
   ]
  },
  {
   "cell_type": "code",
   "execution_count": null,
   "id": "fantastic-glory",
   "metadata": {},
   "outputs": [],
   "source": []
  }
 ],
 "metadata": {
  "kernelspec": {
   "display_name": "Python 3",
   "language": "python",
   "name": "python3"
  },
  "language_info": {
   "codemirror_mode": {
    "name": "ipython",
    "version": 3
   },
   "file_extension": ".py",
   "mimetype": "text/x-python",
   "name": "python",
   "nbconvert_exporter": "python",
   "pygments_lexer": "ipython3",
   "version": "3.7.9"
  }
 },
 "nbformat": 4,
 "nbformat_minor": 5
}
