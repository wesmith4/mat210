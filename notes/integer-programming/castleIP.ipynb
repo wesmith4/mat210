{
 "cells": [
  {
   "cell_type": "markdown",
   "id": "musical-effects",
   "metadata": {},
   "source": [
    "## Solving the Castle recreational puzzle as an IP in Gurobi"
   ]
  },
  {
   "cell_type": "code",
   "execution_count": 3,
   "id": "periodic-thesis",
   "metadata": {},
   "outputs": [
    {
     "name": "stdout",
     "output_type": "stream",
     "text": [
      "Optimize a model with 5 rows, 8 columns and 20 nonzeros\n",
      "Variable types: 0 continuous, 8 integer (0 binary)\n",
      "Coefficient statistics:\n",
      "  Matrix range     [1e+00, 1e+00]\n",
      "  Objective range  [0e+00, 0e+00]\n",
      "  Bounds range     [0e+00, 0e+00]\n",
      "  RHS range        [5e+00, 1e+01]\n",
      "Presolve removed 1 rows and 3 columns\n",
      "Presolve time: 0.00s\n",
      "Presolved: 4 rows, 5 columns, 10 nonzeros\n",
      "Variable types: 0 continuous, 5 integer (0 binary)\n",
      "Found heuristic solution: objective 0.0000000\n",
      "\n",
      "Explored 0 nodes (0 simplex iterations) in 0.01 seconds\n",
      "Thread count was 6 (of 6 available processors)\n",
      "\n",
      "Solution count 1: 0 \n",
      "\n",
      "Optimal solution found (tolerance 1.00e-04)\n",
      "Best objective 0.000000000000e+00, best bound 0.000000000000e+00, gap 0.0000%\n",
      "Warning: constraint name \"southern wall\" has a space\n",
      "\n",
      "Solution:\n",
      "\n",
      "guard 0 = 0\n",
      "guard 1 = 2\n",
      "guard 2 = 3\n",
      "guard 3 = 0\n",
      "guard 4 = 2\n",
      "guard 5 = 0\n",
      "guard 6 = 3\n",
      "guard 7 = 2\n",
      "\n",
      "\n",
      "\n"
     ]
    }
   ],
   "source": [
    "import math\n",
    "import gurobipy as gp\n",
    "from gurobipy import GRB\n",
    "\n",
    "# Create a new model\n",
    "m = gp.Model(\"mip1\")\n",
    "\n",
    "# Create variables\n",
    "guards = m.addVars(8, vtype=GRB.INTEGER, name='G')\n",
    "\n",
    "# Add constraints\n",
    "m.addConstr(guards[0] + guards[1] + guards[2] == 5, \"southern wall\")\n",
    "m.addConstr(guards[2] + guards[3] + guards[4] == 5, \"eastern wall\")\n",
    "m.addConstr(guards[4] + guards[5] + guards[6] == 5, \"northern wall\")\n",
    "m.addConstr(guards[6] + guards[7] + guards[0] == 5, \"western wall\")\n",
    "m.addConstr((guards.sum('*') == 12), name='total guards')\n",
    "\n",
    "# Set objective\n",
    "m.setObjective(guards[0] + guards[2] + guards[4] + guards[6], GRB.MAXIMIZE)\n",
    "\n",
    "# Optimize model\n",
    "m.optimize()\n",
    "                \n",
    "m.write('castle.lp')\n",
    "\n",
    "print('')\n",
    "print('Solution:')\n",
    "print('')\n",
    "\n",
    "# Retrieve optimization result\n",
    "\n",
    "solution = m.getAttr('X', guards)\n",
    "\n",
    "for i in range(8):\n",
    "    print('guard %1d = %d' % (i,solution[i]))                 \n",
    "                 \n",
    "print('\\n\\n')"
   ]
  },
  {
   "cell_type": "code",
   "execution_count": null,
   "id": "upper-pulse",
   "metadata": {},
   "outputs": [],
   "source": []
  }
 ],
 "metadata": {
  "kernelspec": {
   "display_name": "Python 3",
   "language": "python",
   "name": "python3"
  },
  "language_info": {
   "codemirror_mode": {
    "name": "ipython",
    "version": 3
   },
   "file_extension": ".py",
   "mimetype": "text/x-python",
   "name": "python",
   "nbconvert_exporter": "python",
   "pygments_lexer": "ipython3",
   "version": "3.7.9"
  }
 },
 "nbformat": 4,
 "nbformat_minor": 5
}
