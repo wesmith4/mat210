{
 "cells": [
  {
   "cell_type": "markdown",
   "id": "bright-array",
   "metadata": {},
   "source": [
    "## Linear programming and Gurobi\n",
    "\n",
    "This notebook solves the table and chair example from class an an IP in Gurobi"
   ]
  },
  {
   "cell_type": "code",
   "execution_count": 2,
   "id": "isolated-killing",
   "metadata": {},
   "outputs": [
    {
     "name": "stdout",
     "output_type": "stream",
     "text": [
      "Optimize a model with 2 rows, 2 columns and 4 nonzeros\n",
      "Variable types: 0 continuous, 2 integer (0 binary)\n",
      "Coefficient statistics:\n",
      "  Matrix range     [1e+00, 3e+00]\n",
      "  Objective range  [1e+02, 2e+02]\n",
      "  Bounds range     [0e+00, 0e+00]\n",
      "  RHS range        [6e+00, 9e+00]\n",
      "Found heuristic solution: objective 600.0000000\n",
      "Presolve time: 0.00s\n",
      "Presolved: 2 rows, 2 columns, 4 nonzeros\n",
      "Variable types: 0 continuous, 2 integer (0 binary)\n",
      "\n",
      "Root relaxation: objective 6.200000e+02, 0 iterations, 0.00 seconds\n",
      "\n",
      "    Nodes    |    Current Node    |     Objective Bounds      |     Work\n",
      " Expl Unexpl |  Obj  Depth IntInf | Incumbent    BestBd   Gap | It/Node Time\n",
      "\n",
      "*    0     0               0     620.0000000  620.00000  0.00%     -    0s\n",
      "\n",
      "Explored 0 nodes (0 simplex iterations) in 0.02 seconds\n",
      "Thread count was 6 (of 6 available processors)\n",
      "\n",
      "Solution count 2: 620 600 \n",
      "\n",
      "Optimal solution found (tolerance 1.00e-04)\n",
      "Best objective 6.200000000000e+02, best bound 6.200000000000e+02, gap 0.0000%\n",
      "\n",
      "\n",
      "\n",
      "number of tables = 2\n",
      "number of chairs = 2\n",
      "Total cost = 620\n"
     ]
    }
   ],
   "source": [
    "import gurobipy as gp\n",
    "from gurobipy import GRB\n",
    "\n",
    "# Create a new model\n",
    "m = gp.Model(\"mip1\")\n",
    "\n",
    "# Create variables\n",
    "x = m.addVar(vtype=GRB.INTEGER, name=\"tables\")\n",
    "y = m.addVar(vtype=GRB.INTEGER, name=\"chairs\")\n",
    "\n",
    "# Add constraint: x + 2y <= 6\n",
    "m.addConstr(x + 2*y <= 6, \"metal constraint\")\n",
    "\n",
    "# Add constraint: 3x + y <= 9\n",
    "m.addConstr(3*x + y <= 9, \"wood constraint\")\n",
    "\n",
    "# Set objective\n",
    "m.setObjective(200*x + 110*y, GRB.MAXIMIZE)\n",
    "\n",
    "# Optimize model\n",
    "m.optimize()\n",
    "\n",
    "print('\\n\\n')\n",
    "for v in m.getVars():\n",
    "    print('number of %s = %g' % (v.varName, v.x))\n",
    "\n",
    "print('Total cost = %g' % m.objVal)"
   ]
  },
  {
   "cell_type": "code",
   "execution_count": null,
   "id": "passing-alpha",
   "metadata": {},
   "outputs": [],
   "source": []
  }
 ],
 "metadata": {
  "kernelspec": {
   "display_name": "Python 3",
   "language": "python",
   "name": "python3"
  },
  "language_info": {
   "codemirror_mode": {
    "name": "ipython",
    "version": 3
   },
   "file_extension": ".py",
   "mimetype": "text/x-python",
   "name": "python",
   "nbconvert_exporter": "python",
   "pygments_lexer": "ipython3",
   "version": "3.7.9"
  }
 },
 "nbformat": 4,
 "nbformat_minor": 5
}
