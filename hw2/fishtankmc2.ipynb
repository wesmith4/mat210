{
 "cells": [
  {
   "cell_type": "markdown",
   "id": "cathedral-sleeping",
   "metadata": {
    "colab_type": "text",
    "id": "view-in-github"
   },
   "source": [
    "<a href=\"https://colab.research.google.com/github/wesmith4/mat210/blob/main/hw2/fishtankmc2.ipynb\" target=\"_parent\"><img src=\"https://colab.research.google.com/assets/colab-badge.svg\" alt=\"Open In Colab\"/></a>"
   ]
  },
  {
   "cell_type": "markdown",
   "id": "varying-barrel",
   "metadata": {
    "id": "geological-identifier"
   },
   "source": [
    "## Math 210 - Chartier - fishtankmc2.ipynb\n",
    "\n",
    "Python code\n",
    "\n",
    "Description: Second version from Section 3.5 of the Math 210 notes. "
   ]
  },
  {
   "cell_type": "code",
   "execution_count": 3,
   "id": "light-strike",
   "metadata": {
    "colab": {
     "base_uri": "https://localhost:8080/",
     "height": 675
    },
    "id": "orange-fifty",
    "outputId": "648dd67c-f77e-49db-82b7-6d03542bd8c9"
   },
   "outputs": [
    {
     "name": "stdout",
     "output_type": "stream",
     "text": [
      "\n",
      "Using Strategy 1:\n",
      "\n",
      "   average profit     =   -1010.71\n",
      "   standard deviation =      95.44\n"
     ]
    },
    {
     "data": {
      "image/png": "[encoded data removed]",
      "text/plain": [
       "<Figure size 360x252 with 1 Axes>"
      ]
     },
     "metadata": {
      "needs_background": "light"
     },
     "output_type": "display_data"
    },
    {
     "name": "stdout",
     "output_type": "stream",
     "text": [
      "\n",
      "Using Strategy 2:\n",
      "\n",
      "   average profit     =    1596.51\n",
      "   standard deviation =     267.12\n"
     ]
    },
    {
     "data": {
      "image/png": "[encoded data removed]",
      "text/plain": [
       "<Figure size 360x252 with 1 Axes>"
      ]
     },
     "metadata": {
      "needs_background": "light"
     },
     "output_type": "display_data"
    }
   ],
   "source": [
    "import numpy as np\n",
    "import math\n",
    "from matplotlib import pyplot as plt \n",
    "\n",
    "# set parameters:\n",
    "number_simulations = 1000 # number of different simulations to do\n",
    "number_weeks = 104         # number of weeks in each simulation\n",
    "number_days = 7*number_weeks     # number of days in each simulation\n",
    "\n",
    "# filename = \"/content/drive/MyDrive/Math Modeling/Simulating Stinky Fish Store/fishtankmc2-output.txt\"\n",
    "filename = \"fishtankmc2-output.txt\"\n",
    "# f = open(s,\"w\")\n",
    "\n",
    "a = 1/7   # probability of a customer each day\n",
    "\n",
    "days_for_delivery = 5   # days from order to delivery of new tanks\n",
    "order_when_out = 0      # = 1  ==>  order a new tank when stock==0\n",
    "                         # = 0  ==>  don't order when out of tanks\n",
    "\n",
    "fixed_delivery =  7     # >0   ==>  standing order for a new tank\n",
    "                         #           every so many days\n",
    "\n",
    "options = [(1,0),(0,7)] # Set strategy options (corresponds to values above)\n",
    "\n",
    "# profits and losses:\n",
    "saleprofit = 20        # profit from selling one tank\n",
    "lostloss = 10          # loss from losing a customer\n",
    "overstockloss = .10    # cost of each tank overstock per night\n",
    "\n",
    "# initialize:\n",
    "profit = np.zeros(number_simulations)\n",
    "\n",
    "# print column headings:\n",
    "# f.write('customers  sold      lost   fraction_served   overstock  end_stock   profit\\n')\n",
    "for order_when_out, fixed_delivery in options:\n",
    "  strategy = 'Strategy 1' if order_when_out == 1 else 'Strategy 2'\n",
    "  print('\\nUsing {}:'.format(strategy))\n",
    "  for sim in range(number_simulations):\n",
    "    # initialize:\n",
    "    random_nums= np.random.rand(number_days)   # array of random numbers to use each day\n",
    "    total_cust = 0\n",
    "    total_sold = 0\n",
    "    total_lost = 0\n",
    "    stock = 1   # number of tanks in stock\n",
    "    deliv = -1  # number of days until delivery of tank on order\n",
    "                # -1 means none on order\n",
    "    overstock = 0  # increment every night by number of excess tanks in stock\n",
    "\n",
    "    # main loop for a single simulation:\n",
    "\n",
    "    day = -1\n",
    "    for week in range(number_weeks):\n",
    "      for weekday in range(7):\n",
    "        day += 1              # day in the simulation\n",
    "        sold = 0\n",
    "        lost = 0\n",
    "        if deliv == 0:\n",
    "          stock += 1   # a new tank is delivered\n",
    "                      # at the beginning of the day\n",
    "        if deliv >= 0:\n",
    "          deliv -= 1   # days till next delivery\n",
    "\n",
    "        if (fixed_delivery and day % fixed_delivery == 0):   # fixed bug in notes!\n",
    "          # A new tank is delivered every so many days regardless of stock\n",
    "          stock += 1\n",
    "\n",
    "        # use random number to decide how many customers arrived\n",
    "        # Here assume 0 or 1:\n",
    "        if random_nums[day] < a:\n",
    "          customers = 1\n",
    "        else:\n",
    "          customers = 0      \n",
    "\n",
    "        if customers==1:\n",
    "          if stock > 0:     # we have a tank to sell the customer\n",
    "              sold  += 1\n",
    "              stock -= 1\n",
    "          else:\n",
    "              lost += 1      # we didn't have a tank and lost a customer\n",
    "      \n",
    "        if (order_when_out & stock==0 & deliv < 0):\n",
    "            # none in stock and none on order\n",
    "          deliv = days_for_delivery  # order another\n",
    "\n",
    "        if stock > 1:\n",
    "          overstock += (stock - 1)\n",
    "\n",
    "        # keep track of total statistics:\n",
    "        total_cust += customers\n",
    "        total_sold += sold\n",
    "        total_lost += lost\n",
    "        # stock_record(day) = stock  # keep track of stock on each day\n",
    "\n",
    "    fraction_served = total_sold / total_cust\n",
    "\n",
    "    profit[sim] = total_sold*saleprofit - total_lost*lostloss - overstock*overstockloss\n",
    "\n",
    "  # output total statistics:\n",
    "  # f.write(\"% 6.0f  % 6.0f  % 8.0f  % 12.3f  % 11.0f  % 8.0f  % 12.2f\\n\" % (total_cust, total_sold, total_lost, fraction_served, overstock, stock, profit[sim]))\n",
    "\n",
    "  # compute and print average profit over all simulations:\n",
    "  average_profit = sum(profit) / number_simulations\n",
    "  print(\"\\n   average profit     = % 10.2f\" % average_profit)\n",
    "  # f.write(\"\\n   average profit     = % 10.2f\\n\" % average_profit)\n",
    "\n",
    "  # standard deviation\n",
    "  standard_deviation = np.std(profit)\n",
    "  print(\"   standard deviation = % 10.2f\" % standard_deviation)\n",
    "  # f.write(\"   standard deviation = % 10.2f\" % standard_deviation)\n",
    "\n",
    "  # plot histogram of profits over all simulations:\n",
    "  fig, ax = plt.subplots(figsize =(5, 3.5), tight_layout = True) \n",
    "  ax.hist(profit) \n",
    "\n",
    "  plt.show()\n",
    "\n",
    "  # f.close()\n"
   ]
  },
  {
   "cell_type": "code",
   "execution_count": null,
   "id": "descending-respondent",
   "metadata": {
    "id": "u-xwlde6eaOl"
   },
   "outputs": [],
   "source": []
  }
 ],
 "metadata": {
  "colab": {
   "include_colab_link": true,
   "name": "fishtankmc2.ipynb",
   "provenance": []
  },
  "kernelspec": {
   "display_name": "Python 3",
   "language": "python",
   "name": "python3"
  },
  "language_info": {
   "codemirror_mode": {
    "name": "ipython",
    "version": 3
   },
   "file_extension": ".py",
   "mimetype": "text/x-python",
   "name": "python",
   "nbconvert_exporter": "python",
   "pygments_lexer": "ipython3",
   "version": "3.7.9"
  }
 },
 "nbformat": 4,
 "nbformat_minor": 5
}
