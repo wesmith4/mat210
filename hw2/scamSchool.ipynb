{
  "nbformat": 4,
  "nbformat_minor": 5,
  "metadata": {
    "colab": {
      "name": "scamSchool.ipynb",
      "provenance": [],
      "include_colab_link": true
    },
    "kernelspec": {
      "display_name": "Python 3",
      "language": "python",
      "name": "python3"
    },
    "language_info": {
      "codemirror_mode": {
        "name": "ipython",
        "version": 3
      },
      "file_extension": ".py",
      "mimetype": "text/x-python",
      "name": "python",
      "nbconvert_exporter": "python",
      "pygments_lexer": "ipython3",
      "version": "3.7.9"
    }
  },
  "cells": [
    {
      "cell_type": "markdown",
      "metadata": {
        "id": "view-in-github",
        "colab_type": "text"
      },
      "source": [
        "<a href=\"https://colab.research.google.com/github/wesmith4/mat210/blob/main/hw2/scamSchool.ipynb\" target=\"_parent\"><img src=\"https://colab.research.google.com/assets/colab-badge.svg\" alt=\"Open In Colab\"/></a>"
      ]
    },
    {
      "cell_type": "markdown",
      "metadata": {
        "id": "casual-highlight"
      },
      "source": [
        "## Scam School\n",
        "\n",
        "Assignment 2<br>\n",
        "Math 210 -- Chartier\n",
        "\n",
        "Program: scamSchool.ipynb<br>\n",
        "Author: (include your name)\n",
        "\n",
        "Description: The Internet television show _Scam School_'s  May 2009 episode _Get lucky, ridiculously lucky \n",
        "with two new card tricks!_ host Brian Brushwood does a trick where you think of any two random card values from ace through king from a shuffled deck.  He then sees if the cards sit side by side in the deck.  In the episode, Brian Brushwood states that the probability is well above 50\\%.  Let's use simulation to figure it out! \n"
      ],
      "id": "casual-highlight"
    },
    {
      "cell_type": "code",
      "metadata": {
        "colab": {
          "base_uri": "https://localhost:8080/",
          "height": 295
        },
        "id": "sensitive-victor",
        "outputId": "c1ccd763-8e65-4701-e503-a0e20590c7b8"
      },
      "source": [
        "import numpy as np\n",
        "from matplotlib import pyplot as plt \n",
        "\n",
        "\n",
        "print_output = False\n",
        "\n",
        "num_sims = 1000\n",
        "num_games = 50\n",
        "\n",
        "\n",
        "win_probs = np.zeros(num_sims)\n",
        "\n",
        "for sim in range(num_sims):\n",
        "    num_wins = 0\n",
        "    for game in range(num_games):\n",
        "        \n",
        "      # Shuffle a deck of cards by randomly ordering 52 numbers\n",
        "      deck = np.random.permutation(52) + 1\n",
        "      # Now turn those 52 numbers into 4 sets of numbers from 1 to 13.\n",
        "      deck = np.mod(deck,13)+1\n",
        "\n",
        "      # Pick two distinct numbers between 1 and 13.\n",
        "      permute13 = np.random.permutation(13) + 1\n",
        "      randomCardValue = permute13[0:2]\n",
        "\n",
        "      # Where in the deck does the 1st card value appear?\n",
        "      indicesOfCard1 = np.where(deck == randomCardValue[0])[0]\n",
        "      # Where in the deck does the 2nd card value appear?\n",
        "      indicesOfCard2 = np.where(deck == randomCardValue[1])[0]\n",
        "\n",
        "      # Does the first card value come after the second?\n",
        "      if (len(set(indicesOfCard1) & set(indicesOfCard2 + 1)) > 0):\n",
        "        if print_output:\n",
        "          print('The cards are side by side. Scam School wins!')\n",
        "        num_wins += 1\n",
        "      # Does the first card value come before the second?\n",
        "      elif (len(set(indicesOfCard1) & set(indicesOfCard2 - 1)) > 0):\n",
        "        if print_output: \n",
        "          print('The cards are side by side. Scam School wins!')\n",
        "        num_wins += 1\n",
        "      else:\n",
        "        if print_output:\n",
        "          print('The cards aren''t side by side. Scam School loses!')\n",
        "\n",
        "    # Calculate results & print\n",
        "    win_probs[sim] = num_wins/num_games\n",
        "\n",
        "mean_win_prob = np.mean(win_probs)\n",
        "std_win_prob = np.std(win_probs)\n",
        "\n",
        "print('Mean: ', mean_win_prob)\n",
        "print('Standard deviation: ', std_win_prob)\n",
        "    \n",
        "fig, ax = plt.subplots(figsize =(5, 3.5), tight_layout = True)\n",
        "ax.hist(win_probs)\n",
        "plt.show()"
      ],
      "id": "sensitive-victor",
      "execution_count": 29,
      "outputs": [
        {
          "output_type": "stream",
          "text": [
            "Mean:  0.486\n",
            "Standard deviation:  0.06995427077741573\n"
          ],
          "name": "stdout"
        },
        {
          "output_type": "display_data",
          "data": {
            "image/png": "[encoded data removed]",
            "text/plain": [
              "<Figure size 360x252 with 1 Axes>"
            ]
          },
          "metadata": {
            "tags": [],
            "needs_background": "light"
          }
        }
      ]
    },
    {
      "cell_type": "code",
      "metadata": {
        "id": "united-color"
      },
      "source": [
        ""
      ],
      "id": "united-color",
      "execution_count": null,
      "outputs": []
    }
  ]
}