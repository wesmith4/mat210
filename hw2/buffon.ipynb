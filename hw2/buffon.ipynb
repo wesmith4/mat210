{
  "nbformat": 4,
  "nbformat_minor": 5,
  "metadata": {
    "kernelspec": {
      "display_name": "Python 3",
      "language": "python",
      "name": "python3"
    },
    "language_info": {
      "codemirror_mode": {
        "name": "ipython",
        "version": 3
      },
      "file_extension": ".py",
      "mimetype": "text/x-python",
      "name": "python",
      "nbconvert_exporter": "python",
      "pygments_lexer": "ipython3",
      "version": "3.7.9"
    },
    "colab": {
      "name": "buffon.ipynb",
      "provenance": [],
      "include_colab_link": true
    }
  },
  "cells": [
    {
      "cell_type": "markdown",
      "metadata": {
        "id": "view-in-github",
        "colab_type": "text"
      },
      "source": [
        "<a href=\"https://colab.research.google.com/github/wesmith4/mat210/blob/main/hw2/buffon.ipynb\" target=\"_parent\"><img src=\"https://colab.research.google.com/assets/colab-badge.svg\" alt=\"Open In Colab\"/></a>"
      ]
    },
    {
      "cell_type": "markdown",
      "metadata": {
        "id": "weighted-doubt"
      },
      "source": [
        "## Buffon's Needle \n",
        "\n",
        "Assignment 2 <br>\n",
        "Math 210 -- Chartier\n",
        "\n",
        "Program: buffon.ipynb <br>\n",
        "Author:  Will Smith\n",
        "\n",
        "Buffon's Needle Experiment\n",
        "with L = D = 1\n",
        "\n",
        "Description: This program simulates Buffon's Needle experiment in the clase where L = D = 1. \n",
        "\n",
        "[![Open In Colab](https://colab.research.google.com/assets/colab-badge.svg)](https://colab.research.google.com/github/googlecolab/colabtools/blob/master/notebooks/colab-github-demo.ipynb)\n",
        "\n"
      ],
      "id": "weighted-doubt"
    },
    {
      "cell_type": "code",
      "metadata": {
        "colab": {
          "base_uri": "https://localhost:8080/"
        },
        "id": "supported-dispute",
        "outputId": "cda66cb8-e86c-4e81-8905-1ce013452c57"
      },
      "source": [
        "import numpy as np\n",
        "import math \n",
        "\n",
        "# L = 1  # length of the needle\n",
        "# D = 1  # distance between the lines\n",
        "n = 5000\n",
        "settings = [(1,1),(0.5,2),(1,20)]\n",
        "\n",
        "for (L,D) in settings:\n",
        "  print('=============================')\n",
        "  print('Buffon''s Needle Experiment')\n",
        "  print('=============================\\n')\n",
        "  print((L,D))\n",
        "  print('Total drops   Estimate for Pi')\n",
        "  print('=============================')\n",
        "\n",
        "  crossings = 0\n",
        "  for i in range(n):\n",
        "    randomNumber = np.random.rand()\n",
        "    verticalPosition = D*randomNumber\n",
        "    anotherRandomNumber = np.random.rand()\n",
        "    theta = math.pi*anotherRandomNumber\n",
        "    if (verticalPosition <= L*np.sin(theta)):\n",
        "      crossings += 1\n",
        "    if (np.mod(i,np.floor(n/10))==0) and (crossings > 0): \n",
        "        # print('%8d   %10.5f' % (i, 2*i/crossings))\n",
        "        print('%8d   %10.5f' % (i,(2*i*L)/(D*crossings))) # Line for general approximation\n",
        "\n",
        "  if crossings > 0: \n",
        "      # print('\\nFinal Estimate after %d drops: %7.5f' % (n, 2*n/crossings))\n",
        "      print('\\nFinal Estimate after %d drops: %7.5f' % (n,(2*n*L)/(D*crossings))) # Line for general approximation\n",
        "  else: \n",
        "      print('\\n>>>> Ouch, we got no crossings which means no estimate due to a divide by zero!\\n')\n",
        "  print('Length of Needle       = %f' % L)\n",
        "  print('Distance between Lines = %d\\n' % D)\n"
      ],
      "id": "supported-dispute",
      "execution_count": 15,
      "outputs": [
        {
          "output_type": "stream",
          "text": [
            "=============================\n",
            "Buffons Needle Experiment\n",
            "=============================\n",
            "\n",
            "(1, 1)\n",
            "Total drops   Estimate for Pi\n",
            "=============================\n",
            "       0      0.00000\n",
            "     500      3.16456\n",
            "    1000      3.08166\n",
            "    1500      3.13152\n",
            "    2000      3.16206\n",
            "    2500      3.16656\n",
            "    3000      3.15457\n",
            "    3500      3.15457\n",
            "    4000      3.14961\n",
            "    4500      3.12826\n",
            "\n",
            "Final Estimate after 5000 drops: 3.12207\n",
            "Length of Needle       = 1.000000\n",
            "Distance between Lines = 1\n",
            "\n",
            "=============================\n",
            "Buffons Needle Experiment\n",
            "=============================\n",
            "\n",
            "(0.5, 2)\n",
            "Total drops   Estimate for Pi\n",
            "=============================\n",
            "       0      0.00000\n",
            "     500      3.12500\n",
            "    1000      3.06748\n",
            "    1500      2.98805\n",
            "    2000      2.97619\n",
            "    2500      3.00481\n",
            "    3000      3.06122\n",
            "    3500      3.13620\n",
            "    4000      3.09598\n",
            "    4500      3.09917\n",
            "\n",
            "Final Estimate after 5000 drops: 3.16456\n",
            "Length of Needle       = 0.500000\n",
            "Distance between Lines = 2\n",
            "\n",
            "=============================\n",
            "Buffons Needle Experiment\n",
            "=============================\n",
            "\n",
            "(1, 20)\n",
            "Total drops   Estimate for Pi\n",
            "=============================\n",
            "     500      3.84615\n",
            "    1000      3.33333\n",
            "    1500      3.65854\n",
            "    2000      3.70370\n",
            "    2500      3.73134\n",
            "    3000      3.75000\n",
            "    3500      3.84615\n",
            "    4000      3.66972\n",
            "    4500      3.48837\n",
            "\n",
            "Final Estimate after 5000 drops: 3.62319\n",
            "Length of Needle       = 1.000000\n",
            "Distance between Lines = 20\n",
            "\n"
          ],
          "name": "stdout"
        }
      ]
    },
    {
      "cell_type": "code",
      "metadata": {
        "colab": {
          "base_uri": "https://localhost:8080/"
        },
        "id": "overhead-active",
        "outputId": "25bfa74f-362f-4d81-8c17-02d197c71a7d"
      },
      "source": [
        "float(L)"
      ],
      "id": "overhead-active",
      "execution_count": 9,
      "outputs": [
        {
          "output_type": "execute_result",
          "data": {
            "text/plain": [
              "1.0"
            ]
          },
          "metadata": {
            "tags": []
          },
          "execution_count": 9
        }
      ]
    },
    {
      "cell_type": "code",
      "metadata": {
        "colab": {
          "base_uri": "https://localhost:8080/"
        },
        "id": "cXavIO5uU9nL",
        "outputId": "653ecf43-3fc1-41cf-e816-3426184f521e"
      },
      "source": [
        "L"
      ],
      "id": "cXavIO5uU9nL",
      "execution_count": 10,
      "outputs": [
        {
          "output_type": "execute_result",
          "data": {
            "text/plain": [
              "1"
            ]
          },
          "metadata": {
            "tags": []
          },
          "execution_count": 10
        }
      ]
    },
    {
      "cell_type": "code",
      "metadata": {
        "colab": {
          "base_uri": "https://localhost:8080/"
        },
        "id": "xjB7j0XhU_FO",
        "outputId": "72a62c0c-fdd2-4df7-a860-745d2e572432"
      },
      "source": [
        "for (L,D) in settings:\n",
        "  print(L)"
      ],
      "id": "xjB7j0XhU_FO",
      "execution_count": 12,
      "outputs": [
        {
          "output_type": "stream",
          "text": [
            "1\n",
            "0.5\n",
            "1\n"
          ],
          "name": "stdout"
        }
      ]
    },
    {
      "cell_type": "code",
      "metadata": {
        "id": "-NLNeFNJVDg_"
      },
      "source": [
        ""
      ],
      "id": "-NLNeFNJVDg_",
      "execution_count": null,
      "outputs": []
    }
  ]
}