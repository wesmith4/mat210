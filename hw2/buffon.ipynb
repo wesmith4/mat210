{
  "nbformat": 4,
  "nbformat_minor": 5,
  "metadata": {
    "kernelspec": {
      "display_name": "Python 3",
      "language": "python",
      "name": "python3"
    },
    "language_info": {
      "codemirror_mode": {
        "name": "ipython",
        "version": 3
      },
      "file_extension": ".py",
      "mimetype": "text/x-python",
      "name": "python",
      "nbconvert_exporter": "python",
      "pygments_lexer": "ipython3",
      "version": "3.7.9"
    },
    "colab": {
      "name": "buffon.ipynb",
      "provenance": [],
      "include_colab_link": true
    }
  },
  "cells": [
    {
      "cell_type": "markdown",
      "metadata": {
        "id": "view-in-github",
        "colab_type": "text"
      },
      "source": [
        "<a href=\"https://colab.research.google.com/github/wesmith4/mat210/blob/main/hw2/buffon.ipynb\" target=\"_parent\"><img src=\"https://colab.research.google.com/assets/colab-badge.svg\" alt=\"Open In Colab\"/></a>"
      ]
    },
    {
      "cell_type": "markdown",
      "metadata": {
        "id": "weighted-doubt"
      },
      "source": [
        "## Buffon's Needle \n",
        "\n",
        "Assignment 2 <br>\n",
        "Math 210 -- Chartier\n",
        "\n",
        "Program: buffon.ipynb <br>\n",
        "Author:  Will Smith\n",
        "\n",
        "Buffon's Needle Experiment\n",
        "with L = D = 1\n",
        "\n",
        "Description: This program simulates Buffon's Needle experiment in the clase where L = D = 1. \n"
      ],
      "id": "weighted-doubt"
    },
    {
      "cell_type": "code",
      "metadata": {
        "id": "supported-dispute"
      },
      "source": [
        "import numpy as np\n",
        "import math \n",
        "\n",
        "# L = 1  # length of the needle\n",
        "# D = 1  # distance between the lines\n",
        "n = 5000\n",
        "settings = [(1,1),(0.5,2),(1,20)]\n",
        "\n",
        "for (L,D) in settings:\n",
        "  print('=============================')\n",
        "  print('Buffon''s Needle Experiment')\n",
        "  print('=============================\\n')\n",
        "  print((L,D))\n",
        "  print('Total drops   Estimate for Pi')\n",
        "  print('=============================')\n",
        "\n",
        "  crossings = 0\n",
        "  for i in range(n):\n",
        "    randomNumber = np.random.rand()\n",
        "    verticalPosition = D*randomNumber\n",
        "    anotherRandomNumber = np.random.rand()\n",
        "    theta = math.pi*anotherRandomNumber\n",
        "    if (verticalPosition <= L*np.sin(theta)):\n",
        "      crossings += 1\n",
        "    if (np.mod(i,np.floor(n/10))==0) and (crossings > 0): \n",
        "        # print('%8d   %10.5f' % (i, 2*i/crossings))\n",
        "        print('%8d   %10.5f' % (i,(2*i*L)/(D*crossings))) # Line for general approximation\n",
        "\n",
        "  if crossings > 0: \n",
        "      # print('\\nFinal Estimate after %d drops: %7.5f' % (n, 2*n/crossings))\n",
        "      print('\\nFinal Estimate after %d drops: %7.5f' % (n,(2*n*L)/(D*crossings))) # Line for general approximation\n",
        "  else: \n",
        "      print('\\n>>>> Ouch, we got no crossings which means no estimate due to a divide by zero!\\n')\n",
        "  print('Length of Needle       = %f' % L)\n",
        "  print('Distance between Lines = %d\\n' % D)\n"
      ],
      "id": "supported-dispute",
      "execution_count": null,
      "outputs": []
    },
    {
      "cell_type": "markdown",
      "metadata": {
        "id": "lrA71Yjdmsih"
      },
      "source": [
        "## Code for Problem 4\n",
        "Let’s focus on his experiment with 530 tosses that resulted in an estimate of 3.1423 for π. Edit the code from the first problem of this homework to come to a conclusion as to how likely Fox was to have tossed the wire to attain his result. Take L = 3 and D = 4 as reported in Asaph Hall’s accounting of Fox’s work. Said another way, write a Monte Carlo simulation that tosses a needle 530 times. How likely is it that such an experiment will create an estimate of 3.1423 or better for π? If you do not attain a converged probability, carefully explain your results and conclusion."
      ],
      "id": "lrA71Yjdmsih"
    },
    {
      "cell_type": "code",
      "metadata": {
        "id": "CL8awxGYmrUT",
        "outputId": "6a5b8da5-3de4-47b4-c6c2-88bbc19f4bb9",
        "colab": {
          "base_uri": "https://localhost:8080/",
          "height": 312
        }
      },
      "source": [
        "from matplotlib import pyplot as plt\n",
        "L = 3\n",
        "D = 4\n",
        "num_sims = 5000\n",
        "num_tosses = 530\n",
        "successes = 0\n",
        "estimates = np.zeros(num_sims)\n",
        "\n",
        "\n",
        "for sim in range(num_sims):\n",
        "  crossings = 0\n",
        "  for i in range(num_tosses):\n",
        "    randomNumber = np.random.rand()\n",
        "    verticalPosition = D*randomNumber\n",
        "    anotherRandomNumber = np.random.rand()\n",
        "    theta = math.pi*anotherRandomNumber\n",
        "    if (verticalPosition <= L*np.sin(theta)):\n",
        "      crossings += 1\n",
        "\n",
        "  estimates[sim] = (2*num_tosses*L)/(D*crossings)\n",
        "  if abs((2*num_tosses*L)/(D*crossings) - math.pi) <= abs(3.1423 - math.pi):\n",
        "    successes += 1\n",
        "\n",
        "print('Success rate: ', successes/num_sims)\n",
        "fig, ax = plt.subplots(figsize =(5, 3.5), tight_layout = True)\n",
        "ax.hist(estimates)\n",
        "plt.show()\n",
        "print('Mean: ', np.mean(estimates))\n",
        "print('Standard deviation: ', np.std(estimates))"
      ],
      "id": "CL8awxGYmrUT",
      "execution_count": 23,
      "outputs": [
        {
          "output_type": "stream",
          "text": [
            "Success rate:  0.035\n"
          ],
          "name": "stdout"
        },
        {
          "output_type": "display_data",
          "data": {
            "image/png": "[encoded data removed]",
            "text/plain": [
              "<Figure size 360x252 with 1 Axes>"
            ]
          },
          "metadata": {
            "tags": [],
            "needs_background": "light"
          }
        },
        {
          "output_type": "stream",
          "text": [
            "Mean:  3.1492765696913914\n",
            "Standard deviation:  0.1421830712195823\n"
          ],
          "name": "stdout"
        }
      ]
    },
    {
      "cell_type": "code",
      "metadata": {
        "id": "Qdj7fgrRnw_C"
      },
      "source": [
        ""
      ],
      "id": "Qdj7fgrRnw_C",
      "execution_count": null,
      "outputs": []
    }
  ]
}