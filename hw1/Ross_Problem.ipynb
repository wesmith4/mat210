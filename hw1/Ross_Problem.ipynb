{
  "nbformat": 4,
  "nbformat_minor": 0,
  "metadata": {
    "colab": {
      "name": "Ross Problem",
      "provenance": [],
      "authorship_tag": "ABX9TyMc0uS3me6dpUoAqmUW9gze",
      "include_colab_link": true
    },
    "kernelspec": {
      "name": "python3",
      "display_name": "Python 3"
    }
  },
  "cells": [
    {
      "cell_type": "markdown",
      "metadata": {
        "id": "view-in-github",
        "colab_type": "text"
      },
      "source": [
        "<a href=\"https://colab.research.google.com/github/wesmith4/mat210/blob/main/hw1/Ross_Problem.ipynb\" target=\"_parent\"><img src=\"https://colab.research.google.com/assets/colab-badge.svg\" alt=\"Open In Colab\"/></a>"
      ]
    },
    {
      "cell_type": "code",
      "metadata": {
        "id": "GWyB87bWtvLf"
      },
      "source": [
        "import numpy as np"
      ],
      "execution_count": null,
      "outputs": []
    },
    {
      "cell_type": "code",
      "metadata": {
        "id": "sF1BPDqwsAaK"
      },
      "source": [
        "# Initiate arrival times and service times\n",
        "arrival_times = np.array([12,31,63,95,99,154,198,221,304,346,411,455,537])\n",
        "service_times = np.array([40,32,55,48,18,50,47,18,28,54,40,72,12])\n",
        "departure_timesA = np.zeros_like(arrival_times, dtype=int)\n",
        "departure_timesB = np.zeros_like(arrival_times,dtype=int)\n",
        "departure_timesC = np.zeros_like(arrival_times,dtype=int)"
      ],
      "execution_count": null,
      "outputs": []
    },
    {
      "cell_type": "code",
      "metadata": {
        "colab": {
          "base_uri": "https://localhost:8080/"
        },
        "id": "-S0B0v0LEPZB",
        "outputId": "cb55c099-b3eb-428f-d6c5-cdb456222252"
      },
      "source": [
        "available = True\n",
        "clock = 0\n",
        "currentTaskTime = -1\n",
        "currentCustomer = -1\n",
        "served = arrival_times == 0 # logical array for served / not served\n",
        "finished = False\n",
        "backlog = np.zeros_like(service_times, dtype=int)\n",
        "wait_times = np.ones_like(arrival_times) * -1\n",
        "\n",
        "while not finished:\n",
        "  clock += 1 # Process tick on the clock\n",
        "  if currentTaskTime > 0:\n",
        "    currentTaskTime -= 1\n",
        "  if currentTaskTime == 0:\n",
        "    served[currentCustomer] = True\n",
        "    print('Customer {} has been served at {}'.format(currentCustomer,clock))\n",
        "    departure_timesA[currentCustomer] = clock\n",
        "\n",
        "    if np.count_nonzero(backlog) > 0:\n",
        "      currentCustomer = np.argmax(wait_times)\n",
        "      currentTaskTime = backlog[currentCustomer]\n",
        "      # print('Initiated Task #{} ({}) at time {}'.format(currentCustomer, currentTaskTime, clock))\n",
        "      wait_times[currentCustomer] = -1\n",
        "      backlog[currentCustomer] = 0\n",
        "\n",
        "    else:\n",
        "      currentCustomer = -1\n",
        "      currentTaskTime = -1\n",
        "      available = True\n",
        "\n",
        "  # Handle arrivals\n",
        "  for customer in range(13):\n",
        "    if clock == arrival_times[customer]:\n",
        "      # print('Customer {} arrived at {}'.format(customer,clock))\n",
        "      if available:\n",
        "        currentCustomer = customer\n",
        "        currentTaskTime = service_times[customer]\n",
        "        # print('Initiated Task #{} ({}) at time {}'.format(currentCustomer, currentTaskTime, clock))\n",
        "        available = False\n",
        "      else:\n",
        "        backlog[customer] = service_times[customer] # Add their service to the backlog\n",
        "        wait_times[customer] = 0 # Initiate their waiting process\n",
        "    \n",
        "\n",
        "    if wait_times[customer] >= 0: # handle waiting\n",
        "      wait_times[customer] += 1\n",
        "  \n",
        "  if np.count_nonzero(served) == 13:\n",
        "    finished = True\n",
        "\n",
        "departure_timesA\n"
      ],
      "execution_count": null,
      "outputs": [
        {
          "output_type": "stream",
          "text": [
            "Customer 0 has been served at 52\n",
            "Customer 1 has been served at 84\n",
            "Customer 2 has been served at 139\n",
            "Customer 3 has been served at 187\n",
            "Customer 4 has been served at 205\n",
            "Customer 5 has been served at 255\n",
            "Customer 6 has been served at 302\n",
            "Customer 7 has been served at 320\n",
            "Customer 8 has been served at 348\n",
            "Customer 9 has been served at 402\n",
            "Customer 10 has been served at 451\n",
            "Customer 11 has been served at 527\n",
            "Customer 12 has been served at 549\n"
          ],
          "name": "stdout"
        },
        {
          "output_type": "execute_result",
          "data": {
            "text/plain": [
              "array([ 52,  84, 139, 187, 205, 255, 302, 320, 348, 402, 451, 527, 549])"
            ]
          },
          "metadata": {
            "tags": []
          },
          "execution_count": 3
        }
      ]
    },
    {
      "cell_type": "markdown",
      "metadata": {
        "id": "vi3Laa6VRJCM"
      },
      "source": [
        "## Version for part (B)"
      ]
    },
    {
      "cell_type": "code",
      "metadata": {
        "colab": {
          "base_uri": "https://localhost:8080/"
        },
        "id": "558NjVYHdjU9",
        "outputId": "f68f74ba-ab0f-4d39-fd9c-febf664ce877"
      },
      "source": [
        "availableA = True\n",
        "availableB = True\n",
        "clock = 0\n",
        "currentTaskTimeA = -1\n",
        "currentCustomerA = -1\n",
        "currentTaskTimeB = -1\n",
        "currentCustomerB = -1\n",
        "\n",
        "served = arrival_times == 0 # logical array for served / not served\n",
        "finished = False\n",
        "backlog = np.zeros_like(service_times, dtype=int)\n",
        "wait_times = np.ones_like(arrival_times) * -1\n",
        "\n",
        "while not finished:\n",
        "  clock += 1 # Process tick on the clock\n",
        "  if currentTaskTimeA > 0:\n",
        "    currentTaskTimeA -= 1\n",
        "  if currentTaskTimeA == 0:\n",
        "    served[currentCustomerA] = True\n",
        "    print('Customer {} has been served at {} by A'.format(currentCustomerA,clock))\n",
        "    departure_timesB[currentCustomerA] = clock\n",
        "\n",
        "    if np.count_nonzero(backlog) > 0:\n",
        "      currentCustomerA = np.argmax(wait_times)\n",
        "      currentTaskTimeA = backlog[currentCustomerA]\n",
        "      # print('Initiated Task #{} ({}) at time {}'.format(currentCustomer, currentTaskTime, clock))\n",
        "      wait_times[currentCustomerA] = -1\n",
        "      backlog[currentCustomerA] = 0\n",
        "\n",
        "    else:\n",
        "      currentCustomerA = -1\n",
        "      currentTaskTimeA = -1\n",
        "      availableA = True\n",
        "\n",
        "  if currentTaskTimeB > 0:\n",
        "    currentTaskTimeB -= 1\n",
        "  if currentTaskTimeB == 0:\n",
        "    served[currentCustomerB] = True\n",
        "    print('Customer {} has been served at {} by B'.format(currentCustomerB,clock))\n",
        "    departure_timesB[currentCustomerB] = clock\n",
        "\n",
        "    if np.count_nonzero(backlog) > 0:\n",
        "      currentCustomerB = np.argmax(wait_times)\n",
        "      currentTaskTimeB = backlog[currentCustomerB]\n",
        "      # print('Initiated Task #{} ({}) at time {}'.format(currentCustomer, currentTaskTime, clock))\n",
        "      wait_times[currentCustomerB] = -1\n",
        "      backlog[currentCustomerB] = 0\n",
        "\n",
        "    else:\n",
        "      currentCustomerB = -1\n",
        "      currentTaskTimeB = -1\n",
        "      availableB = True\n",
        "\n",
        "  # Handle arrivals\n",
        "  for customer in range(13):\n",
        "    if clock == arrival_times[customer]:\n",
        "      # print('Customer {} arrived at {}'.format(customer,clock))\n",
        "      if availableB:\n",
        "        currentCustomerB = customer\n",
        "        currentTaskTimeB = service_times[customer]\n",
        "        # print('Initiated Task#{} ({}) by B at {}'.format(currentCustomerB, currentTaskTimeB, clock))\n",
        "        availableB = False\n",
        "      else:\n",
        "        if availableA:\n",
        "          currentCustomerA = customer\n",
        "          currentTaskTimeA = service_times[customer]\n",
        "          # print('Initiated Task#{} ({}) by A at {}'.format(currentCustomerA, currentTaskTimeA, clock))\n",
        "\n",
        "          availableA = False\n",
        "        else:\n",
        "          backlog[customer] = service_times[customer] # Add their service to the backlog\n",
        "          wait_times[customer] = 0 # Initiate their waiting process\n",
        "    \n",
        "\n",
        "    if wait_times[customer] >= 0: # handle waiting\n",
        "      wait_times[customer] += 1\n",
        "  \n",
        "  if np.count_nonzero(served) == 13:\n",
        "    finished = True\n",
        "\n",
        "departure_timesB\n"
      ],
      "execution_count": null,
      "outputs": [
        {
          "output_type": "stream",
          "text": [
            "Customer 0 has been served at 52 by B\n",
            "Customer 1 has been served at 63 by A\n",
            "Customer 2 has been served at 118 by B\n",
            "Customer 4 has been served at 136 by B\n",
            "Customer 3 has been served at 143 by A\n",
            "Customer 5 has been served at 204 by B\n",
            "Customer 7 has been served at 239 by B\n",
            "Customer 6 has been served at 245 by A\n",
            "Customer 8 has been served at 332 by B\n",
            "Customer 9 has been served at 400 by B\n",
            "Customer 10 has been served at 451 by B\n",
            "Customer 11 has been served at 527 by B\n",
            "Customer 12 has been served at 549 by B\n"
          ],
          "name": "stdout"
        },
        {
          "output_type": "execute_result",
          "data": {
            "text/plain": [
              "array([ 52,  63, 118, 143, 136, 204, 245, 239, 332, 400, 451, 527, 549])"
            ]
          },
          "metadata": {
            "tags": []
          },
          "execution_count": 4
        }
      ]
    },
    {
      "cell_type": "markdown",
      "metadata": {
        "id": "l7F1KcWPmEdr"
      },
      "source": [
        "## Version for Part C"
      ]
    },
    {
      "cell_type": "code",
      "metadata": {
        "colab": {
          "base_uri": "https://localhost:8080/"
        },
        "id": "TTzHWwwsmOop",
        "outputId": "323239b3-738b-4814-c792-20b3ed5cf275"
      },
      "source": [
        "available = True\n",
        "clock = 0\n",
        "currentTaskTime = -1\n",
        "currentCustomer = -1\n",
        "served = arrival_times == 0 # logical array for served / not served\n",
        "finished = False\n",
        "backlog = np.zeros_like(service_times, dtype=int)\n",
        "wait_times = np.ones_like(arrival_times, dtype=int) * -1\n",
        "while not finished:\n",
        "  clock += 1 # Process tick on the clock\n",
        "  if currentTaskTime > 0:\n",
        "    currentTaskTime -= 1\n",
        "  if currentTaskTime == 0:\n",
        "    served[currentCustomer] = True\n",
        "    print('Customer {} has been served at {}'.format(currentCustomer,clock))\n",
        "    departure_timesC[currentCustomer] = clock\n",
        "\n",
        "    if np.count_nonzero(backlog) > 0:\n",
        "      myArray = [(x,y) for x,y in enumerate(wait_times) if y >= 0]\n",
        "      print(myArray)\n",
        "      currentCustomer = max(myArray)[0]\n",
        "      # print('Next up: ', currentCustomer)\n",
        "      currentTaskTime = backlog[currentCustomer]\n",
        "      # print('Initiated Task #{} ({}) at time {}'.format(currentCustomer, currentTaskTime, clock))\n",
        "      wait_times[currentCustomer] = -1\n",
        "      backlog[currentCustomer] = 0\n",
        "\n",
        "    else:\n",
        "      currentCustomer = -1\n",
        "      currentTaskTime = -1\n",
        "      available = True\n",
        "\n",
        "  # Handle arrivals\n",
        "  for customer in range(13):\n",
        "    if clock == arrival_times[customer]:\n",
        "      # print('Customer {} arrived at {}'.format(customer,clock))\n",
        "      if available:\n",
        "        currentCustomer = customer\n",
        "        currentTaskTime = service_times[customer]\n",
        "        # print('Initiated Task #{} ({}) at time {}'.format(currentCustomer, currentTaskTime, clock))\n",
        "        available = False\n",
        "      else:\n",
        "        backlog[customer] = service_times[customer] # Add their service to the backlog\n",
        "        wait_times[customer] = 0 # Initiate their waiting process\n",
        "    \n",
        "\n",
        "    if wait_times[customer] >= 0: # handle waiting\n",
        "      wait_times[customer] += 1\n",
        "  \n",
        "  if np.count_nonzero(served) == 13:\n",
        "    finished = True\n",
        "\n",
        "departure_timesC\n"
      ],
      "execution_count": null,
      "outputs": [
        {
          "output_type": "stream",
          "text": [
            "Customer 0 has been served at 52\n",
            "[(1, 21)]\n",
            "Customer 1 has been served at 84\n",
            "[(2, 21)]\n",
            "Customer 2 has been served at 139\n",
            "[(3, 44), (4, 40)]\n",
            "Customer 4 has been served at 157\n",
            "[(3, 62), (5, 3)]\n",
            "Customer 5 has been served at 207\n",
            "[(3, 112), (6, 9)]\n",
            "Customer 6 has been served at 254\n",
            "[(3, 159), (7, 33)]\n",
            "Customer 7 has been served at 272\n",
            "[(3, 177)]\n",
            "Customer 3 has been served at 320\n",
            "[(8, 16)]\n",
            "Customer 8 has been served at 348\n",
            "[(9, 2)]\n",
            "Customer 9 has been served at 402\n",
            "Customer 10 has been served at 451\n",
            "Customer 11 has been served at 527\n",
            "Customer 12 has been served at 549\n"
          ],
          "name": "stdout"
        },
        {
          "output_type": "execute_result",
          "data": {
            "text/plain": [
              "array([ 52,  84, 139, 320, 157, 207, 254, 272, 348, 402, 451, 527, 549])"
            ]
          },
          "metadata": {
            "tags": []
          },
          "execution_count": 5
        }
      ]
    },
    {
      "cell_type": "code",
      "metadata": {
        "colab": {
          "base_uri": "https://localhost:8080/"
        },
        "id": "rVzEZp8DkrdD",
        "outputId": "d5c9cd9d-0e05-49e3-a36f-74e9acd9ad62"
      },
      "source": [
        "print('Departure Times (A) : ',departure_timesA)\n",
        "print('Departure Times (B) : ',departure_timesB)\n",
        "print('Departure Times (C) : ',departure_timesC)"
      ],
      "execution_count": null,
      "outputs": [
        {
          "output_type": "stream",
          "text": [
            "Departure Times (A) :  [ 52  84 139 187 205 255 302 320 348 402 451 527 549]\n",
            "Departure Times (B) :  [ 52  63 118 143 136 204 245 239 332 400 451 527 549]\n",
            "Departure Times (C) :  [ 52  84 139 320 157 207 254 272 348 402 451 527 549]\n"
          ],
          "name": "stdout"
        }
      ]
    },
    {
      "cell_type": "code",
      "metadata": {
        "id": "EY1osTyR4nme"
      },
      "source": [
        ""
      ],
      "execution_count": null,
      "outputs": []
    }
  ]
}