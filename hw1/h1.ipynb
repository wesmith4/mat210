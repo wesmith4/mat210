{
  "nbformat": 4,
  "nbformat_minor": 5,
  "metadata": {
    "kernelspec": {
      "display_name": "Python 3",
      "language": "python",
      "name": "python3"
    },
    "language_info": {
      "codemirror_mode": {
        "name": "ipython",
        "version": 3
      },
      "file_extension": ".py",
      "mimetype": "text/x-python",
      "name": "python",
      "nbconvert_exporter": "python",
      "pygments_lexer": "ipython3",
      "version": "3.7.9"
    },
    "colab": {
      "name": "h1.ipynb",
      "provenance": [],
      "collapsed_sections": [],
      "include_colab_link": true
    }
  },
  "cells": [
    {
      "cell_type": "markdown",
      "metadata": {
        "id": "view-in-github",
        "colab_type": "text"
      },
      "source": [
        "<a href=\"https://colab.research.google.com/github/wesmith4/mat210/blob/main/hw1/h1.ipynb\" target=\"_parent\"><img src=\"https://colab.research.google.com/assets/colab-badge.svg\" alt=\"Open In Colab\"/></a>"
      ]
    },
    {
      "cell_type": "markdown",
      "metadata": {
        "id": "interstate-professor"
      },
      "source": [
        "## Homework 1 \n",
        "Name: h1.ipynb\n",
        "\n",
        "Author: Tim Chartier for Math 210, Davidson College\n",
        "\n",
        "Comments:\n",
        "1. To familiarize yourself with the code, you may wish to view the code \n",
        "   below the marked lines.  However, for your homework for Math 210, you \n",
        "   need only to edit above the dotted lines.  \n",
        "2. For the interested programmer, try using the cla command and updating\n",
        "   the histogram in the main loop of experiments.  This will enable you\n",
        "   to view the updates.  You will need to use the pause command to enable\n",
        "   the screen to be updated. \n",
        "***   "
      ],
      "id": "interstate-professor"
    },
    {
      "cell_type": "markdown",
      "metadata": {
        "id": "clinical-jonathan"
      },
      "source": [
        "Initialize variables"
      ],
      "id": "clinical-jonathan"
    },
    {
      "cell_type": "code",
      "metadata": {
        "id": "invisible-spoke"
      },
      "source": [
        "number_of_experiments = 300\n",
        "number_of_rolls = 100\n",
        "\n",
        "# number_of_rolls = 3 # for part c\n",
        "# number_of_rolls = 10 # for part c\n",
        "# number_of_rolls = 100 # for part c"
      ],
      "id": "invisible-spoke",
      "execution_count": null,
      "outputs": []
    },
    {
      "cell_type": "markdown",
      "metadata": {
        "id": "under-energy"
      },
      "source": [
        "Array of probabilities.  "
      ],
      "id": "under-energy"
    },
    {
      "cell_type": "code",
      "metadata": {
        "id": "heavy-judgment"
      },
      "source": [
        "prob = (1/6, 1/6, 1/6, 1/6, 1/6, 1/6)\n",
        "# prob = (4/24, 1/12, 1/24, 1/24, 1/24, 15/24) # probabilities for part c"
      ],
      "id": "heavy-judgment",
      "execution_count": null,
      "outputs": []
    },
    {
      "cell_type": "markdown",
      "metadata": {
        "id": "ongoing-adobe"
      },
      "source": [
        "***\n",
        "### You do __not__ need to edit below this line"
      ],
      "id": "ongoing-adobe"
    },
    {
      "cell_type": "code",
      "metadata": {
        "colab": {
          "base_uri": "https://localhost:8080/",
          "height": 577
        },
        "id": "lyric-company",
        "outputId": "cf51358e-7994-4cfb-d5c6-39d3609154dd"
      },
      "source": [
        "import matplotlib.pyplot as plt  \n",
        "import numpy as np\n",
        "from statistics import mean \n",
        "\n",
        "dice = (1, 2, 3, 4, 5, 6) \n",
        "\n",
        "# Check the probability distribution.\n",
        "if (abs(sum(prob)-1)>5e-10):\n",
        "    print('***** WARNING -- Probability distribution should sum to 1.')\n",
        "\n",
        "# Create probability distribution\n",
        "fig = plt.figure(figsize =(8, 4), tight_layout = True) \n",
        "plt.bar(dice, prob, width=0.8)   \n",
        "plt.xlabel('y',fontsize=14)\n",
        "plt.ylabel('p(y)',fontsize=14)\n",
        "plt.title('Probability Distribution',fontsize=16)\n",
        "plt.show()\n",
        "\n",
        "# Conduct repeated experiments with the distribution detailed in prob\n",
        "accumulatedProb = [0] * len(prob)\n",
        "accumulatedProb[0] = prob[0]\n",
        "for i in range(1,len(prob)):\n",
        "    accumulatedProb[i] = prob[i] + accumulatedProb[i-1]\n",
        "\n",
        "avgs = [0] * number_of_experiments # make a list of zeros\n",
        "record = [0] * number_of_rolls     # make a list of zeros\n",
        "for j in range(number_of_experiments):\n",
        "  for i in range(number_of_rolls):\n",
        "    temp = np.random.rand()  # roll the die\n",
        "    result = 0 # this will take what you rolled\n",
        "    k = 0\n",
        "    while True:\n",
        "      if temp < accumulatedProb[k]:\n",
        "         result = k\n",
        "         break\n",
        "      k += 1\n",
        "    record[i] = result # keep track of what was rolled with the die \n",
        "  avgs[j] = mean(record) # compute the mean of the rolls\n",
        "\n",
        "# Create final plot \n",
        "fig = plt.figure(figsize =(8, 4), tight_layout = True) \n",
        "plt.hist(avgs, rwidth=0.95, color='red')   \n",
        "plt.title('Histogram of Sample Averages, number_of_rolls = ' + str(number_of_rolls),fontsize=16)\n",
        "plt.show()    "
      ],
      "id": "lyric-company",
      "execution_count": null,
      "outputs": [
        {
          "output_type": "display_data",
          "data": {
            "image/png": "[encoded data removed]",
            "text/plain": [
              "<Figure size 576x288 with 1 Axes>"
            ]
          },
          "metadata": {
            "tags": [],
            "needs_background": "light"
          }
        },
        {
          "output_type": "display_data",
          "data": {
            "image/png": "[encoded data removed]",
            "text/plain": [
              "<Figure size 576x288 with 1 Axes>"
            ]
          },
          "metadata": {
            "tags": [],
            "needs_background": "light"
          }
        }
      ]
    },
    {
      "cell_type": "code",
      "metadata": {
        "id": "ebz4ZYI1PL24"
      },
      "source": [
        ""
      ],
      "id": "ebz4ZYI1PL24",
      "execution_count": null,
      "outputs": []
    }
  ]
}