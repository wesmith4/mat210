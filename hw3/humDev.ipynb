{
  "nbformat": 4,
  "nbformat_minor": 5,
  "metadata": {
    "kernelspec": {
      "display_name": "Python 3",
      "language": "python",
      "name": "python3"
    },
    "language_info": {
      "codemirror_mode": {
        "name": "ipython",
        "version": 3
      },
      "file_extension": ".py",
      "mimetype": "text/x-python",
      "name": "python",
      "nbconvert_exporter": "python",
      "pygments_lexer": "ipython3",
      "version": "3.7.9"
    },
    "colab": {
      "name": "humDev.ipynb",
      "provenance": [],
      "include_colab_link": true
    }
  },
  "cells": [
    {
      "cell_type": "markdown",
      "metadata": {
        "id": "view-in-github",
        "colab_type": "text"
      },
      "source": [
        "<a href=\"https://colab.research.google.com/github/wesmith4/mat210/blob/main/hw3/humDev.ipynb\" target=\"_parent\"><img src=\"https://colab.research.google.com/assets/colab-badge.svg\" alt=\"Open In Colab\"/></a>"
      ]
    },
    {
      "cell_type": "markdown",
      "metadata": {
        "id": "vulnerable-dress"
      },
      "source": [
        "## Pulling Human Development Index data\n",
        "Data from Wikipedia page, [List of countries by Human Development Index](https://en.wikipedia.org/wiki/List_of_countries_by_Human_Development_Index)"
      ],
      "id": "vulnerable-dress"
    },
    {
      "cell_type": "code",
      "metadata": {
        "id": "underlying-charleston"
      },
      "source": [
        "from bs4 import BeautifulSoup\n",
        "from urllib.request import urlopen\n",
        "import pandas as pd\n",
        "from matplotlib import pyplot as plt"
      ],
      "id": "underlying-charleston",
      "execution_count": 35,
      "outputs": []
    },
    {
      "cell_type": "code",
      "metadata": {
        "id": "varying-taste"
      },
      "source": [
        "# Open and read in the page content from Wikipedia\n",
        "pageaddress = \"https://en.wikipedia.org/wiki/List_of_countries_by_Human_Development_Index\"\n",
        "soup = BeautifulSoup(urlopen(pageaddress), \"html.parser\")"
      ],
      "id": "varying-taste",
      "execution_count": 2,
      "outputs": []
    },
    {
      "cell_type": "code",
      "metadata": {
        "colab": {
          "base_uri": "https://localhost:8080/"
        },
        "id": "better-pitch",
        "outputId": "5d9d42ac-f473-4a21-d693-b982f4280df0"
      },
      "source": [
        "table = soup.find_all('table', {'class': \"wikitable\"})[0]\n",
        "df = pd.read_html(str(table),header=1)\n",
        "print(df[0])"
      ],
      "id": "better-pitch",
      "execution_count": 10,
      "outputs": [
        {
          "output_type": "stream",
          "text": [
            "    2019 data (2020 report)​[10]  ...                   Unnamed: 5\n",
            "0    Very high human development  ...  Very high human development\n",
            "1                              1  ...                          NaN\n",
            "2                              2  ...                          NaN\n",
            "3                              2  ...                          NaN\n",
            "4                              4  ...                          NaN\n",
            "..                           ...  ...                          ...\n",
            "188                          185  ...                          NaN\n",
            "189                          185  ...                          NaN\n",
            "190                          187  ...                          NaN\n",
            "191                          188  ...                          NaN\n",
            "192                          189  ...                          NaN\n",
            "\n",
            "[193 rows x 6 columns]\n"
          ],
          "name": "stdout"
        }
      ]
    },
    {
      "cell_type": "code",
      "metadata": {
        "id": "least-hungarian"
      },
      "source": [
        "myDF = df[0]\n",
        "myDF = myDF.drop([0])"
      ],
      "id": "least-hungarian",
      "execution_count": 21,
      "outputs": []
    },
    {
      "cell_type": "code",
      "metadata": {
        "id": "4aMR1LoiFhAB",
        "outputId": "a5581af3-5a65-43bb-9bd9-e8d877d17273",
        "colab": {
          "base_uri": "https://localhost:8080/",
          "height": 97
        }
      },
      "source": [
        "myDF[myDF['Country or Territory'] == 'United States']"
      ],
      "id": "4aMR1LoiFhAB",
      "execution_count": 26,
      "outputs": [
        {
          "output_type": "execute_result",
          "data": {
            "text/html": [
              "<div>\n",
              "<style scoped>\n",
              "    .dataframe tbody tr th:only-of-type {\n",
              "        vertical-align: middle;\n",
              "    }\n",
              "\n",
              "    .dataframe tbody tr th {\n",
              "        vertical-align: top;\n",
              "    }\n",
              "\n",
              "    .dataframe thead th {\n",
              "        text-align: right;\n",
              "    }\n",
              "</style>\n",
              "<table border=\"1\" class=\"dataframe\">\n",
              "  <thead>\n",
              "    <tr style=\"text-align: right;\">\n",
              "      <th></th>\n",
              "      <th>2019 data (2020 report)​[10]</th>\n",
              "      <th>Change over 5 years (2014)​[2]</th>\n",
              "      <th>Country or Territory</th>\n",
              "      <th>2019 data (2020 report)​[10].1</th>\n",
              "      <th>Average annual HDI growth (2010-2019)​[2]</th>\n",
              "      <th>Unnamed: 5</th>\n",
              "    </tr>\n",
              "  </thead>\n",
              "  <tbody>\n",
              "    <tr>\n",
              "      <th>17</th>\n",
              "      <td>17</td>\n",
              "      <td>(3)</td>\n",
              "      <td>United States</td>\n",
              "      <td>0.926</td>\n",
              "      <td>0.12%</td>\n",
              "      <td>NaN</td>\n",
              "    </tr>\n",
              "  </tbody>\n",
              "</table>\n",
              "</div>"
            ],
            "text/plain": [
              "   2019 data (2020 report)​[10]  ... Unnamed: 5\n",
              "17                           17  ...        NaN\n",
              "\n",
              "[1 rows x 6 columns]"
            ]
          },
          "metadata": {
            "tags": []
          },
          "execution_count": 26
        }
      ]
    },
    {
      "cell_type": "code",
      "metadata": {
        "id": "_uNn_9VUF72r"
      },
      "source": [
        "myDF = myDF.rename(columns={\"2019 data (2020 report)​[10].1\": \"HDI_2019\", \"Average annual HDI growth (2010-2019)​[2]\": \"HDI_growth\"})"
      ],
      "id": "_uNn_9VUF72r",
      "execution_count": 32,
      "outputs": []
    },
    {
      "cell_type": "code",
      "metadata": {
        "id": "fqX1HhJvH6LY",
        "outputId": "b4844f93-4b8f-4eb2-ffb3-477cbe0dddbb",
        "colab": {
          "base_uri": "https://localhost:8080/",
          "height": 265
        }
      },
      "source": [
        "myDF['HDI_2019']\n",
        "plt.hist(myDF['HDI_2019'],bins=5,label=4)\n",
        "plt.show()"
      ],
      "id": "fqX1HhJvH6LY",
      "execution_count": 41,
      "outputs": [
        {
          "output_type": "display_data",
          "data": {
            "image/png": "[encoded data removed]",
            "text/plain": [
              "<Figure size 432x288 with 1 Axes>"
            ]
          },
          "metadata": {
            "tags": [],
            "needs_background": "light"
          }
        }
      ]
    },
    {
      "cell_type": "code",
      "metadata": {
        "id": "Wg2cL2spIBl-"
      },
      "source": [
        ""
      ],
      "id": "Wg2cL2spIBl-",
      "execution_count": null,
      "outputs": []
    }
  ]
}