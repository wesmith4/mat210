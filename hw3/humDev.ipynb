{
 "cells": [
  {
   "cell_type": "markdown",
   "id": "vulnerable-dress",
   "metadata": {},
   "source": [
    "## Pulling Human Development Index data\n",
    "Data from Wikipedia page, [List of countries by Human Development Index](https://en.wikipedia.org/wiki/List_of_countries_by_Human_Development_Index)"
   ]
  },
  {
   "cell_type": "code",
   "execution_count": 1,
   "id": "underlying-charleston",
   "metadata": {},
   "outputs": [],
   "source": [
    "from bs4 import BeautifulSoup\n",
    "from urllib.request import urlopen\n",
    "import pandas as pd"
   ]
  },
  {
   "cell_type": "code",
   "execution_count": 2,
   "id": "varying-taste",
   "metadata": {},
   "outputs": [],
   "source": [
    "# Open and read in the page content from Wikipedia\n",
    "pageaddress = \"https://en.wikipedia.org/wiki/List_of_countries_by_Human_Development_Index\"\n",
    "soup = BeautifulSoup(urlopen(pageaddress), \"html.parser\")"
   ]
  },
  {
   "cell_type": "code",
   "execution_count": 11,
   "id": "better-pitch",
   "metadata": {},
   "outputs": [
    {
     "name": "stdout",
     "output_type": "stream",
     "text": [
      "[                    Region or group               1990 data​[11]  \\\n",
      "0       Very high human development  Very high human development   \n",
      "1                              OECD                        0.786   \n",
      "2       Very high human development                        0.782   \n",
      "3            High human development       High human development   \n",
      "4           Europe and Central Asia                        0.662   \n",
      "5   Latin America and the Caribbean                        0.632   \n",
      "6            High human development                        0.567   \n",
      "7         East Asia and the Pacific                        0.517   \n",
      "8                             World                        0.601   \n",
      "9    Small Island Developing States                        0.599   \n",
      "10                      Arab states                        0.556   \n",
      "11         Medium human development     Medium human development   \n",
      "12             Developing countries                        0.517   \n",
      "13                       South Asia                        0.437   \n",
      "14         Medium human development                        0.433   \n",
      "15            Low human development        Low human development   \n",
      "16               Sub-Saharan Africa                        0.404   \n",
      "17        Least developed countries                        0.353   \n",
      "18            Low human development                        0.345   \n",
      "\n",
      "                 2000 data​[11]               2010 data​[11]  \\\n",
      "0   Very high human development  Very high human development   \n",
      "1                         0.835                        0.874   \n",
      "2                         0.826                        0.870   \n",
      "3        High human development       High human development   \n",
      "4                         0.675                        0.739   \n",
      "5                         0.690                        0.736   \n",
      "6                         0.629                        0.705   \n",
      "7                         0.595                        0.688   \n",
      "8                         0.644                        0.699   \n",
      "9                         0.646                        0.706   \n",
      "10                        0.614                        0.676   \n",
      "11     Medium human development     Medium human development   \n",
      "12                        0.571                        0.642   \n",
      "13                        0.501                        0.580   \n",
      "14                        0.492                        0.571   \n",
      "15        Low human development        Low human development   \n",
      "16                        0.426                        0.501   \n",
      "17                        0.403                        0.489   \n",
      "18                        0.381                        0.468   \n",
      "\n",
      "                 2014 data​[11]               2015 data​[11]  \\\n",
      "0   Very high human development  Very high human development   \n",
      "1                         0.888                        0.891   \n",
      "2                         0.885                        0.889   \n",
      "3        High human development       High human development   \n",
      "4                         0.772                        0.775   \n",
      "5                         0.756                        0.759   \n",
      "6                         0.730                        0.735   \n",
      "7                         0.718                        0.724   \n",
      "8                         0.720                        0.724   \n",
      "9                         0.715                        0.720   \n",
      "10                        0.687                        0.691   \n",
      "11     Medium human development     Medium human development   \n",
      "12                        0.668                        0.673   \n",
      "13                        0.612                        0.620   \n",
      "14                        0.601                        0.609   \n",
      "15        Low human development        Low human development   \n",
      "16                        0.530                        0.535   \n",
      "17                        0.513                        0.520   \n",
      "18                        0.497                        0.500   \n",
      "\n",
      "                 2017 data​[11]               2018 data​[11]  \\\n",
      "0   Very high human development  Very high human development   \n",
      "1                         0.896                        0.898   \n",
      "2                         0.894                        0.896   \n",
      "3        High human development       High human development   \n",
      "4                         0.785                        0.787   \n",
      "5                         0.762                        0.764   \n",
      "6                         0.744                        0.748   \n",
      "7                         0.735                        0.740   \n",
      "8                         0.732                        0.734   \n",
      "9                         0.724                        0.726   \n",
      "10                        0.699                        0.702   \n",
      "11     Medium human development     Medium human development   \n",
      "12                        0.683                        0.685   \n",
      "13                        0.635                        0.637   \n",
      "14                        0.624                        0.627   \n",
      "15        Low human development        Low human development   \n",
      "16                        0.542                        0.544   \n",
      "17                        0.531                        0.534   \n",
      "18                        0.507                        0.509   \n",
      "\n",
      "                 2019 data​[11]  \n",
      "0   Very high human development  \n",
      "1                         0.900  \n",
      "2                         0.898  \n",
      "3        High human development  \n",
      "4                         0.791  \n",
      "5                         0.766  \n",
      "6                         0.753  \n",
      "7                         0.747  \n",
      "8                         0.737  \n",
      "9                         0.728  \n",
      "10                        0.705  \n",
      "11     Medium human development  \n",
      "12                        0.689  \n",
      "13                        0.641  \n",
      "14                        0.631  \n",
      "15        Low human development  \n",
      "16                        0.547  \n",
      "17                        0.538  \n",
      "18                        0.513  ]\n"
     ]
    }
   ],
   "source": [
    "table = soup.findAll('table')[2]\n",
    "df = pd.read_html(str(table))\n",
    "print(df)"
   ]
  },
  {
   "cell_type": "code",
   "execution_count": null,
   "id": "least-hungarian",
   "metadata": {},
   "outputs": [],
   "source": []
  }
 ],
 "metadata": {
  "kernelspec": {
   "display_name": "Python 3",
   "language": "python",
   "name": "python3"
  },
  "language_info": {
   "codemirror_mode": {
    "name": "ipython",
    "version": 3
   },
   "file_extension": ".py",
   "mimetype": "text/x-python",
   "name": "python",
   "nbconvert_exporter": "python",
   "pygments_lexer": "ipython3",
   "version": "3.7.9"
  }
 },
 "nbformat": 4,
 "nbformat_minor": 5
}
