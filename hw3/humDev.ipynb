{
  "nbformat": 4,
  "nbformat_minor": 5,
  "metadata": {
    "kernelspec": {
      "display_name": "Python 3",
      "language": "python",
      "name": "python3"
    },
    "language_info": {
      "codemirror_mode": {
        "name": "ipython",
        "version": 3
      },
      "file_extension": ".py",
      "mimetype": "text/x-python",
      "name": "python",
      "nbconvert_exporter": "python",
      "pygments_lexer": "ipython3",
      "version": "3.7.9"
    },
    "colab": {
      "name": "humDev.ipynb",
      "provenance": [],
      "include_colab_link": true
    }
  },
  "cells": [
    {
      "cell_type": "markdown",
      "metadata": {
        "id": "view-in-github",
        "colab_type": "text"
      },
      "source": [
        "<a href=\"https://colab.research.google.com/github/wesmith4/mat210/blob/main/hw3/humDev.ipynb\" target=\"_parent\"><img src=\"https://colab.research.google.com/assets/colab-badge.svg\" alt=\"Open In Colab\"/></a>"
      ]
    },
    {
      "cell_type": "markdown",
      "metadata": {
        "id": "vulnerable-dress"
      },
      "source": [
        "## Pulling Human Development Index data\n",
        "Data from Wikipedia page, [List of countries by Human Development Index](https://en.wikipedia.org/wiki/List_of_countries_by_Human_Development_Index)"
      ],
      "id": "vulnerable-dress"
    },
    {
      "cell_type": "code",
      "metadata": {
        "id": "underlying-charleston"
      },
      "source": [
        "from bs4 import BeautifulSoup\n",
        "from urllib.request import urlopen\n",
        "import pandas as pd"
      ],
      "id": "underlying-charleston",
      "execution_count": 1,
      "outputs": []
    },
    {
      "cell_type": "code",
      "metadata": {
        "id": "varying-taste"
      },
      "source": [
        "# Open and read in the page content from Wikipedia\n",
        "pageaddress = \"https://en.wikipedia.org/wiki/List_of_countries_by_Human_Development_Index\"\n",
        "soup = BeautifulSoup(urlopen(pageaddress), \"html.parser\")"
      ],
      "id": "varying-taste",
      "execution_count": 2,
      "outputs": []
    },
    {
      "cell_type": "code",
      "metadata": {
        "colab": {
          "base_uri": "https://localhost:8080/"
        },
        "id": "better-pitch",
        "outputId": "58c8f255-7a79-4e04-8c53-b50022d7d836"
      },
      "source": [
        "table = soup.find_all('table', {'class': \"wikitable\"})[0]\n",
        "df = pd.read_html(str(table))\n",
        "print(df[0])"
      ],
      "id": "better-pitch",
      "execution_count": 13,
      "outputs": [
        {
          "output_type": "stream",
          "text": [
            "                            Rank  ...          Unnamed: 5_level_0\n",
            "    2019 data (2020 report)​[10]  ...          Unnamed: 5_level_1\n",
            "     Very high human development  ... Very high human development\n",
            "0                              1  ...                         NaN\n",
            "1                              2  ...                         NaN\n",
            "2                              2  ...                         NaN\n",
            "3                              4  ...                         NaN\n",
            "4                              4  ...                         NaN\n",
            "..                           ...  ...                         ...\n",
            "187                          185  ...                         NaN\n",
            "188                          185  ...                         NaN\n",
            "189                          187  ...                         NaN\n",
            "190                          188  ...                         NaN\n",
            "191                          189  ...                         NaN\n",
            "\n",
            "[192 rows x 6 columns]\n"
          ],
          "name": "stdout"
        }
      ]
    },
    {
      "cell_type": "code",
      "metadata": {
        "id": "least-hungarian"
      },
      "source": [
        "myDF = df[0]"
      ],
      "id": "least-hungarian",
      "execution_count": 24,
      "outputs": []
    },
    {
      "cell_type": "code",
      "metadata": {
        "id": "NnTX8bCKfC8b",
        "outputId": "f6a07378-89b9-4890-e226-dbe0d1f218c3",
        "colab": {
          "base_uri": "https://localhost:8080/"
        }
      },
      "source": [
        "myDF.info()"
      ],
      "id": "NnTX8bCKfC8b",
      "execution_count": 26,
      "outputs": [
        {
          "output_type": "stream",
          "text": [
            "<class 'pandas.core.frame.DataFrame'>\n",
            "RangeIndex: 192 entries, 0 to 191\n",
            "Data columns (total 6 columns):\n",
            " #   Column                                                                         Non-Null Count  Dtype \n",
            "---  ------                                                                         --------------  ----- \n",
            " 0   (Rank, 2019 data (2020 report)​[10], Very high human development)              192 non-null    object\n",
            " 1   (Rank, Change over 5 years (2014)​[2], Very high human development)            167 non-null    object\n",
            " 2   (Country or Territory, Country or Territory, Very high human development)      192 non-null    object\n",
            " 3   (HDI, 2019 data (2020 report)​[10], Very high human development)               192 non-null    object\n",
            " 4   (HDI, Average annual HDI growth (2010-2019)​[2], Very high human development)  192 non-null    object\n",
            " 5   (Unnamed: 5_level_0, Unnamed: 5_level_1, Very high human development)          3 non-null      object\n",
            "dtypes: object(6)\n",
            "memory usage: 9.1+ KB\n"
          ],
          "name": "stdout"
        }
      ]
    },
    {
      "cell_type": "code",
      "metadata": {
        "id": "sCPTMCLffQoQ"
      },
      "source": [
        ""
      ],
      "id": "sCPTMCLffQoQ",
      "execution_count": null,
      "outputs": []
    }
  ]
}