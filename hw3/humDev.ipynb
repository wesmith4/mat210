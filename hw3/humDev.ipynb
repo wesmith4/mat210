{
 "cells": [
  {
   "cell_type": "markdown",
   "id": "floral-sally",
   "metadata": {
    "colab_type": "text",
    "id": "view-in-github"
   },
   "source": [
    "<a href=\"https://colab.research.google.com/github/wesmith4/mat210/blob/main/hw3/humDev.ipynb\" target=\"_parent\"><img src=\"https://colab.research.google.com/assets/colab-badge.svg\" alt=\"Open In Colab\"/></a>"
   ]
  },
  {
   "cell_type": "markdown",
   "id": "political-cyprus",
   "metadata": {
    "id": "vulnerable-dress"
   },
   "source": [
    "## Pulling Human Development Index data\n",
    "Data from Wikipedia page, [List of countries by Human Development Index](https://en.wikipedia.org/wiki/List_of_countries_by_Human_Development_Index)"
   ]
  },
  {
   "cell_type": "code",
   "execution_count": 43,
   "id": "every-edmonton",
   "metadata": {
    "id": "underlying-charleston"
   },
   "outputs": [],
   "source": [
    "from bs4 import BeautifulSoup\n",
    "from urllib.request import urlopen\n",
    "import pandas as pd\n",
    "from matplotlib import pyplot as plt"
   ]
  },
  {
   "cell_type": "code",
   "execution_count": 44,
   "id": "expressed-surgery",
   "metadata": {
    "id": "varying-taste"
   },
   "outputs": [],
   "source": [
    "# Open and read in the page content from Wikipedia\n",
    "pageaddress = \"https://en.wikipedia.org/wiki/List_of_countries_by_Human_Development_Index\"\n",
    "soup = BeautifulSoup(urlopen(pageaddress), \"html.parser\")"
   ]
  },
  {
   "cell_type": "code",
   "execution_count": 45,
   "id": "educated-convenience",
   "metadata": {
    "colab": {
     "base_uri": "https://localhost:8080/"
    },
    "id": "better-pitch",
    "outputId": "5d9d42ac-f473-4a21-d693-b982f4280df0"
   },
   "outputs": [
    {
     "name": "stdout",
     "output_type": "stream",
     "text": [
      "    2019 data (2020 report)​[10] Change over 5 years (2014)​[2]  \\\n",
      "0    Very high human development    Very high human development   \n",
      "1                              1                            NaN   \n",
      "2                              2                            (7)   \n",
      "3                              2                            NaN   \n",
      "4                              4                            (7)   \n",
      "..                           ...                            ...   \n",
      "188                          185                            (5)   \n",
      "189                          185                            (3)   \n",
      "190                          187                            (1)   \n",
      "191                          188                            (1)   \n",
      "192                          189                            (1)   \n",
      "\n",
      "            Country or Territory 2019 data (2020 report)​[10].1  \\\n",
      "0    Very high human development    Very high human development   \n",
      "1                         Norway                          0.957   \n",
      "2                        Ireland                          0.955   \n",
      "3                    Switzerland                          0.955   \n",
      "4                      Hong Kong                          0.949   \n",
      "..                           ...                            ...   \n",
      "188                      Burundi                          0.433   \n",
      "189                  South Sudan                          0.433   \n",
      "190                         Chad                          0.398   \n",
      "191     Central African Republic                          0.397   \n",
      "192                        Niger                          0.394   \n",
      "\n",
      "    Average annual HDI growth (2010-2019)​[2]                   Unnamed: 5  \n",
      "0                 Very high human development  Very high human development  \n",
      "1                                       0.20%                          NaN  \n",
      "2                                       0.65%                          NaN  \n",
      "3                                       0.16%                          NaN  \n",
      "4                                       0.54%                          NaN  \n",
      "..                                        ...                          ...  \n",
      "188                                     0.58%                          NaN  \n",
      "189                                     0.61%                          NaN  \n",
      "190                                     0.84%                          NaN  \n",
      "191                                     0.94%                          NaN  \n",
      "192                                     1.95%                          NaN  \n",
      "\n",
      "[193 rows x 6 columns]\n"
     ]
    }
   ],
   "source": [
    "table = soup.find_all('table', {'class': \"wikitable\"})[0]\n",
    "rawData = pd.read_html(str(table),header=1)\n",
    "print(rawData[0])"
   ]
  },
  {
   "cell_type": "code",
   "execution_count": 46,
   "id": "peripheral-thermal",
   "metadata": {
    "id": "least-hungarian"
   },
   "outputs": [],
   "source": [
    "df = rawData[0]\n",
    "df = df.drop([0])\n",
    "df = df.drop(columns=['Unnamed: 5'])"
   ]
  },
  {
   "cell_type": "code",
   "execution_count": 48,
   "id": "organic-patient",
   "metadata": {
    "id": "_uNn_9VUF72r"
   },
   "outputs": [],
   "source": [
    "# Rename key variables to be more friendly\n",
    "df = df.rename(columns={\"2019 data (2020 report)​[10].1\": \"HDI_2019\", \"Average annual HDI growth (2010-2019)​[2]\": \"HDI_growth\"})\n",
    "\n",
    "# Remove rows containing \"section headers\" from Wikipedia (e.g. \"High human development\", \"Medium human development\", ...)\n",
    "df = df[~df['HDI_2019'].str.contains(\"development\")]"
   ]
  },
  {
   "cell_type": "code",
   "execution_count": 49,
   "id": "similar-knitting",
   "metadata": {
    "id": "Wg2cL2spIBl-"
   },
   "outputs": [],
   "source": [
    "# save data as a CSV\n",
    "df.to_csv('HDI_data.csv')"
   ]
  }
 ],
 "metadata": {
  "colab": {
   "include_colab_link": true,
   "name": "humDev.ipynb",
   "provenance": []
  },
  "kernelspec": {
   "display_name": "Python 3",
   "language": "python",
   "name": "python3"
  },
  "language_info": {
   "codemirror_mode": {
    "name": "ipython",
    "version": 3
   },
   "file_extension": ".py",
   "mimetype": "text/x-python",
   "name": "python",
   "nbconvert_exporter": "python",
   "pygments_lexer": "ipython3",
   "version": "3.7.9"
  }
 },
 "nbformat": 4,
 "nbformat_minor": 5
}
