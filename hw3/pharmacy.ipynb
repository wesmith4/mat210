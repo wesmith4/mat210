{
 "cells": [
  {
   "cell_type": "markdown",
   "id": "checked-projector",
   "metadata": {},
   "source": [
    "## Pharmacy Simulation\n",
    "\n",
    "Math 210 -- Chartier<br>\n",
    "Assignment 3\n",
    "\n",
    "Program: pharmacy.ipynb<br>\n",
    "Author:  (include your name)\n",
    "\n",
    "Description: Pharmacy model suggested by \n",
    "S. M. Ross, \"A Course in Simulation.\"  The \n",
    "following code simulates one day. "
   ]
  },
  {
   "cell_type": "code",
   "execution_count": 1,
   "id": "specialized-stations",
   "metadata": {},
   "outputs": [
    {
     "name": "stdout",
     "output_type": "stream",
     "text": [
      "******************************************\n",
      "            Pharmacy Simulation\n",
      "******************************************\n",
      "\n",
      "Finish time of last prescription:  516.91 \n",
      "\n",
      "Minutes past 5:00 that pharmacist must stay:     36.91 \n",
      "\n"
     ]
    }
   ],
   "source": [
    "import numpy as np\n",
    "\n",
    "print('******************************************')\n",
    "print('            Pharmacy Simulation')\n",
    "print('******************************************\\n')\n",
    "\n",
    "minutes_in_day = 8*60  # number of minutes in 9:00-5:00 day\n",
    "\n",
    "a = 32/minutes_in_day  # average number of arrivals per minute\n",
    "\n",
    "# Notation:\n",
    "#  at = arrival time of prescriptions\n",
    "#  st = service time once they reach the front of queue\n",
    "#  ft = finish time after waiting and being filled.\n",
    "#\n",
    "\n",
    "ncust = 200  # don't know how many customers, this is an upper bound (we hope)\n",
    "\n",
    "# initialize arrays:\n",
    "at = np.zeros(ncust)  \n",
    "\n",
    "# Generate random arrival times (in minutes) assuming Poisson process:\n",
    "r = np.random.rand(ncust)\n",
    "iat = -1/a * np.log(r) # Generate inter-arrival times, exponential distribution\n",
    "at[0] = iat[0]         # Arrival time of first customer\n",
    "\n",
    "for i in range(1,ncust):\n",
    "   at[i] = at[i-1] + iat[i]   # arrival times of other customers\n",
    "\n",
    "# only the one arriving before 5:00 are accepted\n",
    "ibefore5 = np.where(at<=minutes_in_day)   # index of arrival times before 5:00\n",
    "at = at[ibefore5]                         # chop down the array to only these\n",
    "ncust = len(at)                           # now we know how many customers\n",
    "\n",
    "# Generate random service times for each customer:\n",
    "# normal distribution with mean 10 minutes and standard deviation 4 minutes:\n",
    "st = 10 + 4*np.random.randn(ncust)\n",
    "\n",
    "# Compute time each customer finishes:\n",
    "ft = np.zeros(ncust)\n",
    "ft[0] = at[0]+st[0]  # finish time for first customer\n",
    "for i in range(1,ncust):\n",
    "   # compute finish time for each customer as the larger of\n",
    "   # arrival time plus service time (if no wait)\n",
    "   # finish time of previous customer plus service time (if wait)\n",
    "   ft[i] = np.amax([at[i]+st[i],ft[i-1]+st[i]])\n",
    "\n",
    "print('Finish time of last prescription:  %6.2f \\n' % ft[ncust-1])\n",
    "\n",
    "# Determine how many minutes late the pharmacist must stay past 5:00\n",
    "minutes_late = np.amax([0, ft[ncust-1]-minutes_in_day])\n",
    "\n",
    "print('Minutes past 5:00 that pharmacist must stay:    %6.2f \\n' % minutes_late)"
   ]
  },
  {
   "cell_type": "markdown",
   "id": "optional-comparison",
   "metadata": {},
   "source": [
    "***\n",
    "## Here are some programming notes that may help. "
   ]
  },
  {
   "cell_type": "code",
   "execution_count": 2,
   "id": "accessory-scope",
   "metadata": {},
   "outputs": [],
   "source": [
    "import numpy as np"
   ]
  },
  {
   "cell_type": "markdown",
   "id": "dramatic-integrity",
   "metadata": {},
   "source": [
    "### First let's make an array of 10 uniformly distributed random numbers."
   ]
  },
  {
   "cell_type": "code",
   "execution_count": 3,
   "id": "sunrise-armstrong",
   "metadata": {},
   "outputs": [
    {
     "name": "stdout",
     "output_type": "stream",
     "text": [
      "[0.04650529 0.51235547 0.30667713 0.267987   0.86907293 0.89379791\n",
      " 0.9694175  0.89382072 0.30680975 0.06016645]\n"
     ]
    }
   ],
   "source": [
    "randomNumbers = np.random.rand(10)\n",
    "print(randomNumbers)"
   ]
  },
  {
   "cell_type": "markdown",
   "id": "sound-laser",
   "metadata": {},
   "source": [
    "### Let's find the indices of where the array elements are less than 0.5.  "
   ]
  },
  {
   "cell_type": "code",
   "execution_count": 4,
   "id": "failing-shepherd",
   "metadata": {},
   "outputs": [
    {
     "name": "stdout",
     "output_type": "stream",
     "text": [
      "[[0]\n",
      " [2]\n",
      " [3]\n",
      " [8]\n",
      " [9]]\n"
     ]
    }
   ],
   "source": [
    "indicesMeetingCondition = np.argwhere(randomNumbers < 0.5)\n",
    "# We know have the indices that meet a condition. \n",
    "print(indicesMeetingCondition)"
   ]
  },
  {
   "cell_type": "markdown",
   "id": "second-burke",
   "metadata": {},
   "source": [
    "### Now, just find the length of that array."
   ]
  },
  {
   "cell_type": "code",
   "execution_count": 5,
   "id": "turkish-childhood",
   "metadata": {},
   "outputs": [
    {
     "data": {
      "text/plain": [
       "5"
      ]
     },
     "execution_count": 5,
     "metadata": {},
     "output_type": "execute_result"
    }
   ],
   "source": [
    "len(indicesMeetingCondition)"
   ]
  },
  {
   "cell_type": "markdown",
   "id": "charming-kennedy",
   "metadata": {},
   "source": [
    "### __BUT__, you might want to know how many elements there are __and__ create an array with those entries.  Here are commands for this: "
   ]
  },
  {
   "cell_type": "code",
   "execution_count": 6,
   "id": "reliable-canada",
   "metadata": {},
   "outputs": [
    {
     "name": "stdout",
     "output_type": "stream",
     "text": [
      "(array([0, 2, 3, 8, 9]),)\n"
     ]
    }
   ],
   "source": [
    "indicesMeetingConditionVersion2 = np.where(randomNumbers < 0.5)\n",
    "# We know have the indices that meet a condition. \n",
    "print(indicesMeetingConditionVersion2)"
   ]
  },
  {
   "cell_type": "markdown",
   "id": "reverse-powder",
   "metadata": {},
   "source": [
    "### This time, we have a tuple with the first element being an array.  So, to the know the length we need to use: "
   ]
  },
  {
   "cell_type": "code",
   "execution_count": 7,
   "id": "determined-capability",
   "metadata": {},
   "outputs": [
    {
     "data": {
      "text/plain": [
       "5"
      ]
     },
     "execution_count": 7,
     "metadata": {},
     "output_type": "execute_result"
    }
   ],
   "source": [
    "len(indicesMeetingConditionVersion2[0])"
   ]
  },
  {
   "cell_type": "markdown",
   "id": "studied-developer",
   "metadata": {},
   "source": [
    "### Uh, why use this?  It's more complicated.  Here is why.  "
   ]
  },
  {
   "cell_type": "code",
   "execution_count": 8,
   "id": "public-glucose",
   "metadata": {},
   "outputs": [
    {
     "name": "stdout",
     "output_type": "stream",
     "text": [
      "[0.04650529 0.30667713 0.267987   0.30680975 0.06016645]\n"
     ]
    }
   ],
   "source": [
    "newArray = randomNumbers[indicesMeetingConditionVersion2]\n",
    "print(newArray)"
   ]
  },
  {
   "cell_type": "markdown",
   "id": "undefined-doctrine",
   "metadata": {},
   "source": [
    "### If you use indicesMeetingCondition rather than indicesMeetingConditionVersion2, then you get an array of arrays. "
   ]
  },
  {
   "cell_type": "code",
   "execution_count": null,
   "id": "electric-albuquerque",
   "metadata": {},
   "outputs": [],
   "source": []
  }
 ],
 "metadata": {
  "kernelspec": {
   "display_name": "Python 3",
   "language": "python",
   "name": "python3"
  },
  "language_info": {
   "codemirror_mode": {
    "name": "ipython",
    "version": 3
   },
   "file_extension": ".py",
   "mimetype": "text/x-python",
   "name": "python",
   "nbconvert_exporter": "python",
   "pygments_lexer": "ipython3",
   "version": "3.7.9"
  }
 },
 "nbformat": 4,
 "nbformat_minor": 5
}
