{
  "nbformat": 4,
  "nbformat_minor": 5,
  "metadata": {
    "kernelspec": {
      "display_name": "Python 3",
      "language": "python",
      "name": "python3"
    },
    "language_info": {
      "codemirror_mode": {
        "name": "ipython",
        "version": 3
      },
      "file_extension": ".py",
      "mimetype": "text/x-python",
      "name": "python",
      "nbconvert_exporter": "python",
      "pygments_lexer": "ipython3",
      "version": "3.7.9"
    },
    "colab": {
      "name": "pharmacy.ipynb",
      "provenance": [],
      "include_colab_link": true
    }
  },
  "cells": [
    {
      "cell_type": "markdown",
      "metadata": {
        "id": "view-in-github",
        "colab_type": "text"
      },
      "source": [
        "<a href=\"https://colab.research.google.com/github/wesmith4/mat210/blob/main/hw3/pharmacy.ipynb\" target=\"_parent\"><img src=\"https://colab.research.google.com/assets/colab-badge.svg\" alt=\"Open In Colab\"/></a>"
      ]
    },
    {
      "cell_type": "markdown",
      "metadata": {
        "id": "checked-projector"
      },
      "source": [
        "## Pharmacy Simulation\n",
        "\n",
        "Math 210 -- Chartier<br>\n",
        "Assignment 3\n",
        "\n",
        "Program: pharmacy.ipynb<br>\n",
        "Author:  (include your name)\n",
        "\n",
        "Description: Pharmacy model suggested by \n",
        "S. M. Ross, \"A Course in Simulation.\"  The \n",
        "following code simulates one day. "
      ],
      "id": "checked-projector"
    },
    {
      "cell_type": "code",
      "metadata": {
        "id": "specialized-stations",
        "colab": {
          "base_uri": "https://localhost:8080/",
          "height": 465
        },
        "outputId": "76a636e8-fd58-4d3c-b64d-5e0f7cca3fd2"
      },
      "source": [
        "import numpy as np\n",
        "from matplotlib import pyplot as plt\n",
        "\n",
        "print('******************************************')\n",
        "print('            Pharmacy Simulation')\n",
        "print('******************************************\\n')\n",
        "\n",
        "minutes_in_day = 8*60  # number of minutes in 9:00-5:00 day\n",
        "\n",
        "a = 32/minutes_in_day  # average number of arrivals per minute\n",
        "\n",
        "# Set up holder for trial data\n",
        "num_trials = 10000\n",
        "minutes_late_data = np.zeros(num_trials)\n",
        "print_each = False\n",
        "\n",
        "# Notation:\n",
        "#  at = arrival time of prescriptions\n",
        "#  st = service time once they reach the front of queue\n",
        "#  ft = finish time after waiting and being filled.\n",
        "#\n",
        "\n",
        "\n",
        "for trial in range(num_trials):\n",
        "\n",
        "  ncust = 200  # don't know how many customers, this is an upper bound (we hope)\n",
        "\n",
        "  # initialize arrays:\n",
        "  at = np.zeros(ncust)  \n",
        "\n",
        "  # Generate random arrival times (in minutes) assuming Poisson process:\n",
        "  r = np.random.rand(ncust)\n",
        "  iat = -1/a * np.log(r) # Generate inter-arrival times, exponential distribution\n",
        "  at[0] = iat[0]         # Arrival time of first customer\n",
        "\n",
        "  for i in range(1,ncust):\n",
        "    at[i] = at[i-1] + iat[i]   # arrival times of other customers\n",
        "\n",
        "  # only the one arriving before 5:00 are accepted\n",
        "  ibefore5 = np.where(at<=minutes_in_day)   # index of arrival times before 5:00\n",
        "  at = at[ibefore5]                         # chop down the array to only these\n",
        "  ncust = len(at)                           # now we know how many customers\n",
        "\n",
        "  # Generate random service times for each customer:\n",
        "  # normal distribution with mean 10 minutes and standard deviation 4 minutes:\n",
        "  st = 10 + 4*np.random.randn(ncust)\n",
        "\n",
        "  # Compute time each customer finishes:\n",
        "  ft = np.zeros(ncust)\n",
        "  ft[0] = at[0]+st[0]  # finish time for first customer\n",
        "  for i in range(1,ncust):\n",
        "    # compute finish time for each customer as the larger of\n",
        "    # arrival time plus service time (if no wait)\n",
        "    # finish time of previous customer plus service time (if wait)\n",
        "    ft[i] = np.amax([at[i]+st[i],ft[i-1]+st[i]])\n",
        "  if print_each:\n",
        "    print('Finish time of last prescription:  %6.2f \\n' % ft[ncust-1])\n",
        "\n",
        "  # Determine how many minutes late the pharmacist must stay past 5:00\n",
        "  minutes_late = np.amax([0, ft[ncust-1]-minutes_in_day])\n",
        "\n",
        "  if print_each:\n",
        "    print('Minutes past 5:00 that pharmacist must stay:    %6.2f \\n' % minutes_late)\n",
        "\n",
        "  minutes_late_data[trial] = minutes_late\n",
        "\n",
        "#### Results ####\n",
        "print('{} trials ended.\\n'.format(num_trials))\n",
        "\n",
        "# Get mean\n",
        "mean_minutes_late = np.mean(minutes_late_data)\n",
        "print('Average minutes past 5:00 : {}\\n'.format(mean_minutes_late))\n",
        "\n",
        "# Still working at 5:30\n",
        "at530 = len([i for i in minutes_late_data if i >= 30])\n",
        "print('Pharmacist was working at 5:30 {} times out of {} trials ({}%).\\n'.format(at530,num_trials,at530/num_trials*100))\n",
        "\n",
        "# Leave by 5:00\n",
        "leaveBy5 = len([i for i in minutes_late_data if i == 0])\n",
        "print('Pharmacist left by 5:00 {} times out of {} trials ({}%).\\n'.format(leaveBy5, num_trials, leaveBy5/num_trials*100))\n",
        "\n",
        "# Plot histogram\n",
        "fig, ax = plt.subplots(figsize =(8, 3.5), tight_layout = True)\n",
        "ax.hist([data for data in minutes_late_data if data > 0])\n",
        "plt.title('Distribution of minutes past 5:00 ({} trials)'.format(num_trials))\n",
        "plt.xlabel('Minutes past 5:00')\n",
        "plt.ylabel('Frequency')\n",
        "plt.show()"
      ],
      "id": "specialized-stations",
      "execution_count": 22,
      "outputs": [
        {
          "output_type": "stream",
          "text": [
            "******************************************\n",
            "            Pharmacy Simulation\n",
            "******************************************\n",
            "\n",
            "10000 trials ended.\n",
            "\n",
            "Average minutes past 5:00 : 11.781278361459053\n",
            "\n",
            "Pharmacist was working at 5:30 1138 times out of 10000 trials (11.379999999999999%).\n",
            "\n",
            "Pharmacist left by 5:00 3266 times out of 10000 trials (32.66%).\n",
            "\n"
          ],
          "name": "stdout"
        },
        {
          "output_type": "display_data",
          "data": {
            "image/png": "[encoded data removed]",
            "text/plain": [
              "<Figure size 576x252 with 1 Axes>"
            ]
          },
          "metadata": {
            "tags": [],
            "needs_background": "light"
          }
        }
      ]
    },
    {
      "cell_type": "code",
      "metadata": {
        "id": "9zNRkBzItwz7"
      },
      "source": [
        ""
      ],
      "id": "9zNRkBzItwz7",
      "execution_count": 1,
      "outputs": []
    },
    {
      "cell_type": "markdown",
      "metadata": {
        "id": "optional-comparison"
      },
      "source": [
        "***\n",
        "## Here are some programming notes that may help. "
      ],
      "id": "optional-comparison"
    },
    {
      "cell_type": "code",
      "metadata": {
        "id": "accessory-scope"
      },
      "source": [
        "import numpy as np"
      ],
      "id": "accessory-scope",
      "execution_count": 2,
      "outputs": []
    },
    {
      "cell_type": "markdown",
      "metadata": {
        "id": "dramatic-integrity"
      },
      "source": [
        "### First let's make an array of 10 uniformly distributed random numbers."
      ],
      "id": "dramatic-integrity"
    },
    {
      "cell_type": "code",
      "metadata": {
        "id": "sunrise-armstrong",
        "outputId": "3d3bdb29-9751-454f-f695-784f400d0907",
        "colab": {
          "base_uri": "https://localhost:8080/"
        }
      },
      "source": [
        "randomNumbers = np.random.rand(10)\n",
        "print(randomNumbers)"
      ],
      "id": "sunrise-armstrong",
      "execution_count": 3,
      "outputs": [
        {
          "output_type": "stream",
          "text": [
            "[0.21552782 0.53231516 0.8943773  0.7616457  0.09196317 0.91596586\n",
            " 0.16417665 0.16042517 0.68758787 0.20438404]\n"
          ],
          "name": "stdout"
        }
      ]
    },
    {
      "cell_type": "markdown",
      "metadata": {
        "id": "sound-laser"
      },
      "source": [
        "### Let's find the indices of where the array elements are less than 0.5.  "
      ],
      "id": "sound-laser"
    },
    {
      "cell_type": "code",
      "metadata": {
        "id": "failing-shepherd",
        "outputId": "62a06758-d1c7-425d-ee3e-25600e41e815",
        "colab": {
          "base_uri": "https://localhost:8080/"
        }
      },
      "source": [
        "indicesMeetingCondition = np.argwhere(randomNumbers < 0.5)\n",
        "# We know have the indices that meet a condition. \n",
        "print(indicesMeetingCondition)"
      ],
      "id": "failing-shepherd",
      "execution_count": 4,
      "outputs": [
        {
          "output_type": "stream",
          "text": [
            "[[0]\n",
            " [4]\n",
            " [6]\n",
            " [7]\n",
            " [9]]\n"
          ],
          "name": "stdout"
        }
      ]
    },
    {
      "cell_type": "markdown",
      "metadata": {
        "id": "second-burke"
      },
      "source": [
        "### Now, just find the length of that array."
      ],
      "id": "second-burke"
    },
    {
      "cell_type": "code",
      "metadata": {
        "id": "turkish-childhood",
        "outputId": "a458c518-cc19-4352-ac57-10a203d969ed",
        "colab": {
          "base_uri": "https://localhost:8080/"
        }
      },
      "source": [
        "len(indicesMeetingCondition)"
      ],
      "id": "turkish-childhood",
      "execution_count": 5,
      "outputs": [
        {
          "output_type": "execute_result",
          "data": {
            "text/plain": [
              "5"
            ]
          },
          "metadata": {
            "tags": []
          },
          "execution_count": 5
        }
      ]
    },
    {
      "cell_type": "markdown",
      "metadata": {
        "id": "charming-kennedy"
      },
      "source": [
        "### __BUT__, you might want to know how many elements there are __and__ create an array with those entries.  Here are commands for this: "
      ],
      "id": "charming-kennedy"
    },
    {
      "cell_type": "code",
      "metadata": {
        "id": "reliable-canada",
        "outputId": "3d2069d3-7ee7-4c52-e8c0-d2bc33ce388b",
        "colab": {
          "base_uri": "https://localhost:8080/"
        }
      },
      "source": [
        "indicesMeetingConditionVersion2 = np.where(randomNumbers < 0.5)\n",
        "# We know have the indices that meet a condition. \n",
        "print(indicesMeetingConditionVersion2)"
      ],
      "id": "reliable-canada",
      "execution_count": 6,
      "outputs": [
        {
          "output_type": "stream",
          "text": [
            "(array([0, 4, 6, 7, 9]),)\n"
          ],
          "name": "stdout"
        }
      ]
    },
    {
      "cell_type": "markdown",
      "metadata": {
        "id": "reverse-powder"
      },
      "source": [
        "### This time, we have a tuple with the first element being an array.  So, to the know the length we need to use: "
      ],
      "id": "reverse-powder"
    },
    {
      "cell_type": "code",
      "metadata": {
        "id": "determined-capability",
        "outputId": "20637645-be1c-45c8-e904-0f4cd0ef5a13",
        "colab": {
          "base_uri": "https://localhost:8080/"
        }
      },
      "source": [
        "len(indicesMeetingConditionVersion2[0])"
      ],
      "id": "determined-capability",
      "execution_count": 7,
      "outputs": [
        {
          "output_type": "execute_result",
          "data": {
            "text/plain": [
              "5"
            ]
          },
          "metadata": {
            "tags": []
          },
          "execution_count": 7
        }
      ]
    },
    {
      "cell_type": "markdown",
      "metadata": {
        "id": "studied-developer"
      },
      "source": [
        "### Uh, why use this?  It's more complicated.  Here is why.  "
      ],
      "id": "studied-developer"
    },
    {
      "cell_type": "code",
      "metadata": {
        "id": "public-glucose",
        "outputId": "71360bea-d7b3-48cb-e589-701f8b7138c7",
        "colab": {
          "base_uri": "https://localhost:8080/"
        }
      },
      "source": [
        "newArray = randomNumbers[indicesMeetingConditionVersion2]\n",
        "print(newArray)"
      ],
      "id": "public-glucose",
      "execution_count": 8,
      "outputs": [
        {
          "output_type": "stream",
          "text": [
            "[0.21552782 0.09196317 0.16417665 0.16042517 0.20438404]\n"
          ],
          "name": "stdout"
        }
      ]
    },
    {
      "cell_type": "markdown",
      "metadata": {
        "id": "undefined-doctrine"
      },
      "source": [
        "### If you use indicesMeetingCondition rather than indicesMeetingConditionVersion2, then you get an array of arrays. "
      ],
      "id": "undefined-doctrine"
    },
    {
      "cell_type": "code",
      "metadata": {
        "id": "electric-albuquerque"
      },
      "source": [
        ""
      ],
      "id": "electric-albuquerque",
      "execution_count": 8,
      "outputs": []
    }
  ]
}