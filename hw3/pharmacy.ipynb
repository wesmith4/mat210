{
  "nbformat": 4,
  "nbformat_minor": 5,
  "metadata": {
    "kernelspec": {
      "display_name": "Python 3",
      "language": "python",
      "name": "python3"
    },
    "language_info": {
      "codemirror_mode": {
        "name": "ipython",
        "version": 3
      },
      "file_extension": ".py",
      "mimetype": "text/x-python",
      "name": "python",
      "nbconvert_exporter": "python",
      "pygments_lexer": "ipython3",
      "version": "3.7.9"
    },
    "colab": {
      "name": "pharmacy.ipynb",
      "provenance": [],
      "include_colab_link": true
    }
  },
  "cells": [
    {
      "cell_type": "markdown",
      "metadata": {
        "id": "view-in-github",
        "colab_type": "text"
      },
      "source": [
        "<a href=\"https://colab.research.google.com/github/wesmith4/mat210/blob/main/hw3/pharmacy.ipynb\" target=\"_parent\"><img src=\"https://colab.research.google.com/assets/colab-badge.svg\" alt=\"Open In Colab\"/></a>"
      ]
    },
    {
      "cell_type": "markdown",
      "metadata": {
        "id": "checked-projector"
      },
      "source": [
        "## Pharmacy Simulation\n",
        "\n",
        "Math 210 -- Chartier<br>\n",
        "Assignment 3\n",
        "\n",
        "Program: pharmacy.ipynb<br>\n",
        "Author:  (include your name)\n",
        "\n",
        "Description: Pharmacy model suggested by \n",
        "S. M. Ross, \"A Course in Simulation.\"  The \n",
        "following code simulates one day. "
      ],
      "id": "checked-projector"
    },
    {
      "cell_type": "code",
      "metadata": {
        "id": "specialized-stations",
        "outputId": "9a758bf5-2088-44d3-b473-11b01651d0b5"
      },
      "source": [
        "import numpy as np\n",
        "\n",
        "print('******************************************')\n",
        "print('            Pharmacy Simulation')\n",
        "print('******************************************\\n')\n",
        "\n",
        "minutes_in_day = 8*60  # number of minutes in 9:00-5:00 day\n",
        "\n",
        "a = 32/minutes_in_day  # average number of arrivals per minute\n",
        "\n",
        "# Notation:\n",
        "#  at = arrival time of prescriptions\n",
        "#  st = service time once they reach the front of queue\n",
        "#  ft = finish time after waiting and being filled.\n",
        "#\n",
        "\n",
        "ncust = 200  # don't know how many customers, this is an upper bound (we hope)\n",
        "\n",
        "# initialize arrays:\n",
        "at = np.zeros(ncust)  \n",
        "\n",
        "# Generate random arrival times (in minutes) assuming Poisson process:\n",
        "r = np.random.rand(ncust)\n",
        "iat = -1/a * np.log(r) # Generate inter-arrival times, exponential distribution\n",
        "at[0] = iat[0]         # Arrival time of first customer\n",
        "\n",
        "for i in range(1,ncust):\n",
        "   at[i] = at[i-1] + iat[i]   # arrival times of other customers\n",
        "\n",
        "# only the one arriving before 5:00 are accepted\n",
        "ibefore5 = np.where(at<=minutes_in_day)   # index of arrival times before 5:00\n",
        "at = at[ibefore5]                         # chop down the array to only these\n",
        "ncust = len(at)                           # now we know how many customers\n",
        "\n",
        "# Generate random service times for each customer:\n",
        "# normal distribution with mean 10 minutes and standard deviation 4 minutes:\n",
        "st = 10 + 4*np.random.randn(ncust)\n",
        "\n",
        "# Compute time each customer finishes:\n",
        "ft = np.zeros(ncust)\n",
        "ft[0] = at[0]+st[0]  # finish time for first customer\n",
        "for i in range(1,ncust):\n",
        "   # compute finish time for each customer as the larger of\n",
        "   # arrival time plus service time (if no wait)\n",
        "   # finish time of previous customer plus service time (if wait)\n",
        "   ft[i] = np.amax([at[i]+st[i],ft[i-1]+st[i]])\n",
        "\n",
        "print('Finish time of last prescription:  %6.2f \\n' % ft[ncust-1])\n",
        "\n",
        "# Determine how many minutes late the pharmacist must stay past 5:00\n",
        "minutes_late = np.amax([0, ft[ncust-1]-minutes_in_day])\n",
        "\n",
        "print('Minutes past 5:00 that pharmacist must stay:    %6.2f \\n' % minutes_late)"
      ],
      "id": "specialized-stations",
      "execution_count": null,
      "outputs": [
        {
          "output_type": "stream",
          "text": [
            "******************************************\n",
            "            Pharmacy Simulation\n",
            "******************************************\n",
            "\n",
            "Finish time of last prescription:  516.91 \n",
            "\n",
            "Minutes past 5:00 that pharmacist must stay:     36.91 \n",
            "\n"
          ],
          "name": "stdout"
        }
      ]
    },
    {
      "cell_type": "markdown",
      "metadata": {
        "id": "optional-comparison"
      },
      "source": [
        "***\n",
        "## Here are some programming notes that may help. "
      ],
      "id": "optional-comparison"
    },
    {
      "cell_type": "code",
      "metadata": {
        "id": "accessory-scope"
      },
      "source": [
        "import numpy as np"
      ],
      "id": "accessory-scope",
      "execution_count": null,
      "outputs": []
    },
    {
      "cell_type": "markdown",
      "metadata": {
        "id": "dramatic-integrity"
      },
      "source": [
        "### First let's make an array of 10 uniformly distributed random numbers."
      ],
      "id": "dramatic-integrity"
    },
    {
      "cell_type": "code",
      "metadata": {
        "id": "sunrise-armstrong",
        "outputId": "fbb06394-de11-4f6a-8bae-51f172802aa0"
      },
      "source": [
        "randomNumbers = np.random.rand(10)\n",
        "print(randomNumbers)"
      ],
      "id": "sunrise-armstrong",
      "execution_count": null,
      "outputs": [
        {
          "output_type": "stream",
          "text": [
            "[0.04650529 0.51235547 0.30667713 0.267987   0.86907293 0.89379791\n",
            " 0.9694175  0.89382072 0.30680975 0.06016645]\n"
          ],
          "name": "stdout"
        }
      ]
    },
    {
      "cell_type": "markdown",
      "metadata": {
        "id": "sound-laser"
      },
      "source": [
        "### Let's find the indices of where the array elements are less than 0.5.  "
      ],
      "id": "sound-laser"
    },
    {
      "cell_type": "code",
      "metadata": {
        "id": "failing-shepherd",
        "outputId": "1999e70d-7fc0-4bbd-ed7f-2ee4ad8464de"
      },
      "source": [
        "indicesMeetingCondition = np.argwhere(randomNumbers < 0.5)\n",
        "# We know have the indices that meet a condition. \n",
        "print(indicesMeetingCondition)"
      ],
      "id": "failing-shepherd",
      "execution_count": null,
      "outputs": [
        {
          "output_type": "stream",
          "text": [
            "[[0]\n",
            " [2]\n",
            " [3]\n",
            " [8]\n",
            " [9]]\n"
          ],
          "name": "stdout"
        }
      ]
    },
    {
      "cell_type": "markdown",
      "metadata": {
        "id": "second-burke"
      },
      "source": [
        "### Now, just find the length of that array."
      ],
      "id": "second-burke"
    },
    {
      "cell_type": "code",
      "metadata": {
        "id": "turkish-childhood",
        "outputId": "19e42c1d-1aea-46c0-975e-04dee63a7792"
      },
      "source": [
        "len(indicesMeetingCondition)"
      ],
      "id": "turkish-childhood",
      "execution_count": null,
      "outputs": [
        {
          "output_type": "execute_result",
          "data": {
            "text/plain": [
              "5"
            ]
          },
          "metadata": {
            "tags": []
          },
          "execution_count": 5
        }
      ]
    },
    {
      "cell_type": "markdown",
      "metadata": {
        "id": "charming-kennedy"
      },
      "source": [
        "### __BUT__, you might want to know how many elements there are __and__ create an array with those entries.  Here are commands for this: "
      ],
      "id": "charming-kennedy"
    },
    {
      "cell_type": "code",
      "metadata": {
        "id": "reliable-canada",
        "outputId": "e1916bab-54d5-452b-b7d6-173de84e3117"
      },
      "source": [
        "indicesMeetingConditionVersion2 = np.where(randomNumbers < 0.5)\n",
        "# We know have the indices that meet a condition. \n",
        "print(indicesMeetingConditionVersion2)"
      ],
      "id": "reliable-canada",
      "execution_count": null,
      "outputs": [
        {
          "output_type": "stream",
          "text": [
            "(array([0, 2, 3, 8, 9]),)\n"
          ],
          "name": "stdout"
        }
      ]
    },
    {
      "cell_type": "markdown",
      "metadata": {
        "id": "reverse-powder"
      },
      "source": [
        "### This time, we have a tuple with the first element being an array.  So, to the know the length we need to use: "
      ],
      "id": "reverse-powder"
    },
    {
      "cell_type": "code",
      "metadata": {
        "id": "determined-capability",
        "outputId": "a62a4316-3825-431c-8b2b-316e966e06f0"
      },
      "source": [
        "len(indicesMeetingConditionVersion2[0])"
      ],
      "id": "determined-capability",
      "execution_count": null,
      "outputs": [
        {
          "output_type": "execute_result",
          "data": {
            "text/plain": [
              "5"
            ]
          },
          "metadata": {
            "tags": []
          },
          "execution_count": 7
        }
      ]
    },
    {
      "cell_type": "markdown",
      "metadata": {
        "id": "studied-developer"
      },
      "source": [
        "### Uh, why use this?  It's more complicated.  Here is why.  "
      ],
      "id": "studied-developer"
    },
    {
      "cell_type": "code",
      "metadata": {
        "id": "public-glucose",
        "outputId": "90e64339-987b-4b25-a9f4-129ede21e5aa"
      },
      "source": [
        "newArray = randomNumbers[indicesMeetingConditionVersion2]\n",
        "print(newArray)"
      ],
      "id": "public-glucose",
      "execution_count": null,
      "outputs": [
        {
          "output_type": "stream",
          "text": [
            "[0.04650529 0.30667713 0.267987   0.30680975 0.06016645]\n"
          ],
          "name": "stdout"
        }
      ]
    },
    {
      "cell_type": "markdown",
      "metadata": {
        "id": "undefined-doctrine"
      },
      "source": [
        "### If you use indicesMeetingCondition rather than indicesMeetingConditionVersion2, then you get an array of arrays. "
      ],
      "id": "undefined-doctrine"
    },
    {
      "cell_type": "code",
      "metadata": {
        "id": "electric-albuquerque"
      },
      "source": [
        ""
      ],
      "id": "electric-albuquerque",
      "execution_count": null,
      "outputs": []
    }
  ]
}