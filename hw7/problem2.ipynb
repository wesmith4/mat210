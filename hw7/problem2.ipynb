{
 "cells": [
  {
   "cell_type": "code",
   "execution_count": 39,
   "id": "beneficial-playback",
   "metadata": {},
   "outputs": [],
   "source": [
    "import gurobipy as gp\n",
    "from gurobipy import GRB\n",
    "import math\n",
    "import numpy as np"
   ]
  },
  {
   "cell_type": "code",
   "execution_count": 6,
   "id": "african-special",
   "metadata": {},
   "outputs": [],
   "source": [
    "m = gp.Model(\"PowerPlants\")\n",
    "power = m.addVars(3,4,vtype=GRB.CONTINUOUS,name=\"P\")"
   ]
  },
  {
   "cell_type": "code",
   "execution_count": 49,
   "id": "elect-simple",
   "metadata": {},
   "outputs": [
    {
     "data": {
      "text/plain": [
       "<gurobi.Constr *Awaiting Model Update*>"
      ]
     },
     "execution_count": 49,
     "metadata": {},
     "output_type": "execute_result"
    }
   ],
   "source": [
    "# Supply Constraints\n",
    "m.addConstr(power.sum(0) <= 35)\n",
    "m.addConstr(power.sum(1) <= 50)\n",
    "m.addConstr(power.sum(2) <= 40)"
   ]
  },
  {
   "cell_type": "code",
   "execution_count": 50,
   "id": "hawaiian-zealand",
   "metadata": {},
   "outputs": [
    {
     "data": {
      "text/plain": [
       "<gurobi.Constr *Awaiting Model Update*>"
      ]
     },
     "execution_count": 50,
     "metadata": {},
     "output_type": "execute_result"
    }
   ],
   "source": [
    "# Demand Constraints\n",
    "m.addConstr(power.sum('*',0) >= 45)\n",
    "m.addConstr(power.sum('*',1) >= 20)\n",
    "m.addConstr(power.sum('*',2) >= 30)\n",
    "m.addConstr(power.sum('*',3) >= 30)"
   ]
  },
  {
   "cell_type": "code",
   "execution_count": 58,
   "id": "balanced-lightning",
   "metadata": {},
   "outputs": [
    {
     "data": {
      "text/plain": [
       "8"
      ]
     },
     "execution_count": 58,
     "metadata": {},
     "output_type": "execute_result"
    }
   ],
   "source": [
    "# Objective function\n",
    "costs = np.array([[8,6,10,9],[9,12,13,7],[14,9,16,5]])\n",
    "costs[0,0]"
   ]
  },
  {
   "cell_type": "code",
   "execution_count": 59,
   "id": "focal-least",
   "metadata": {},
   "outputs": [],
   "source": [
    "m.setObjective(gp.quicksum((power[i,j] * costs[i,j]) for i in range(3) for j in range(4)),GRB.MINIMIZE)"
   ]
  },
  {
   "cell_type": "code",
   "execution_count": 71,
   "id": "attended-configuration",
   "metadata": {},
   "outputs": [
    {
     "name": "stdout",
     "output_type": "stream",
     "text": [
      "Optimize a model with 17 rows, 12 columns and 60 nonzeros\n",
      "Coefficient statistics:\n",
      "  Matrix range     [1e+00, 1e+00]\n",
      "  Objective range  [5e+00, 2e+01]\n",
      "  Bounds range     [0e+00, 0e+00]\n",
      "  RHS range        [2e+01, 5e+01]\n",
      "\n",
      "Solved in 7 iterations and 0.00 seconds\n",
      "Optimal objective  1.020000000e+03\n",
      "\n",
      "Solution: \n",
      "\n",
      "Plant 1 to City 1:  0.0\n",
      "Plant 2 to City 1:  45.0\n",
      "Plant 3 to City 1:  0.0\n",
      "Plant 1 to City 2:  10.0\n",
      "Plant 2 to City 2:  0.0\n",
      "Plant 3 to City 2:  10.0\n",
      "Plant 1 to City 3:  25.0\n",
      "Plant 2 to City 3:  5.0\n",
      "Plant 3 to City 3:  0.0\n",
      "Plant 1 to City 4:  0.0\n",
      "Plant 2 to City 4:  0.0\n",
      "Plant 3 to City 4:  30.0\n"
     ]
    }
   ],
   "source": [
    "m.optimize()\n",
    "m.write(\"power.lp\")\n",
    "\n",
    "print('')\n",
    "print('Solution: \\n')\n",
    "solution = m.getAttr('X',power)\n",
    "\n",
    "for j in range(4):\n",
    "    for i in range(3):\n",
    "        print('Plant {} to City {}: '.format(i+1,j+1), solution[i,j])"
   ]
  },
  {
   "cell_type": "code",
   "execution_count": null,
   "id": "successful-performer",
   "metadata": {},
   "outputs": [],
   "source": []
  }
 ],
 "metadata": {
  "kernelspec": {
   "display_name": "Python 3",
   "language": "python",
   "name": "python3"
  },
  "language_info": {
   "codemirror_mode": {
    "name": "ipython",
    "version": 3
   },
   "file_extension": ".py",
   "mimetype": "text/x-python",
   "name": "python",
   "nbconvert_exporter": "python",
   "pygments_lexer": "ipython3",
   "version": "3.7.9"
  }
 },
 "nbformat": 4,
 "nbformat_minor": 5
}
