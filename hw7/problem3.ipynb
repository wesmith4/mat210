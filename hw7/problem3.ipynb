{
 "cells": [
  {
   "cell_type": "code",
   "execution_count": 49,
   "id": "nuclear-greene",
   "metadata": {},
   "outputs": [],
   "source": [
    "import math\n",
    "import gurobipy as gp\n",
    "from gurobipy import GRB"
   ]
  },
  {
   "cell_type": "code",
   "execution_count": 50,
   "id": "loaded-traveler",
   "metadata": {},
   "outputs": [],
   "source": [
    "model = gp.Model(\"Eggs\")"
   ]
  },
  {
   "cell_type": "code",
   "execution_count": 51,
   "id": "neither-million",
   "metadata": {},
   "outputs": [],
   "source": [
    "eggs = model.addVar(vtype=GRB.INTEGER,name=\"X\")\n",
    "u2 = model.addVar(vtype=GRB.INTEGER,lb=3)\n",
    "u3 = model.addVar(vtype=GRB.INTEGER,lb=2)\n",
    "u4 = model.addVar(vtype=GRB.INTEGER,lb=2)\n",
    "u5 = model.addVar(vtype=GRB.INTEGER,lb=2)\n",
    "u6 = model.addVar(vtype=GRB.INTEGER,lb=1)\n",
    "u7 = model.addVar(vtype=GRB.INTEGER,lb=1)\n"
   ]
  },
  {
   "cell_type": "code",
   "execution_count": 52,
   "id": "solved-sharing",
   "metadata": {},
   "outputs": [
    {
     "data": {
      "text/plain": [
       "<gurobi.Constr *Awaiting Model Update*>"
      ]
     },
     "execution_count": 52,
     "metadata": {},
     "output_type": "execute_result"
    }
   ],
   "source": [
    "model.addConstr(eggs == 2*u2 + 1, 'By 2')\n",
    "model.addConstr(eggs == 3*u3 + 1, 'By 3')\n",
    "model.addConstr(eggs == 4*u4 + 1, 'By 4')\n",
    "model.addConstr(eggs == 5*u5 + 1, 'By 5')\n",
    "model.addConstr(eggs == 6*u6 + 1, 'By 6')\n",
    "model.addConstr(eggs == 7*u7, 'By 7')"
   ]
  },
  {
   "cell_type": "code",
   "execution_count": 53,
   "id": "compatible-faith",
   "metadata": {},
   "outputs": [
    {
     "name": "stdout",
     "output_type": "stream",
     "text": [
      "Optimize a model with 6 rows, 7 columns and 12 nonzeros\n",
      "Variable types: 0 continuous, 7 integer (0 binary)\n",
      "Coefficient statistics:\n",
      "  Matrix range     [1e+00, 7e+00]\n",
      "  Objective range  [1e+00, 1e+00]\n",
      "  Bounds range     [1e+00, 3e+00]\n",
      "  RHS range        [1e+00, 1e+00]\n",
      "Presolve removed 6 rows and 7 columns\n",
      "Presolve time: 0.00s\n",
      "Presolve: All rows and columns removed\n",
      "\n",
      "Explored 0 nodes (0 simplex iterations) in 0.01 seconds\n",
      "Thread count was 1 (of 6 available processors)\n",
      "\n",
      "Solution count 1: 301 \n",
      "\n",
      "Optimal solution found (tolerance 1.00e-04)\n",
      "Best objective 3.010000000000e+02, best bound 3.010000000000e+02, gap 0.0000%\n",
      "Warning: constraint name \"By 2\" has a space\n",
      "\n",
      "Solution: \n",
      "\n",
      "[301.0, 150.0, 100.0, 75.0, 60.0, 50.0, 43.0]\n"
     ]
    }
   ],
   "source": [
    "model.setObjective(eggs,GRB.MINIMIZE)\n",
    "\n",
    "model.optimize()\n",
    "model.write('eggs.lp')\n",
    "\n",
    "print('')\n",
    "print('Solution: \\n')\n",
    "solution = model.getAttr('X')\n",
    "\n",
    "print(solution)\n",
    "\n"
   ]
  },
  {
   "cell_type": "code",
   "execution_count": null,
   "id": "cosmetic-thread",
   "metadata": {},
   "outputs": [],
   "source": []
  }
 ],
 "metadata": {
  "kernelspec": {
   "display_name": "Python 3",
   "language": "python",
   "name": "python3"
  },
  "language_info": {
   "codemirror_mode": {
    "name": "ipython",
    "version": 3
   },
   "file_extension": ".py",
   "mimetype": "text/x-python",
   "name": "python",
   "nbconvert_exporter": "python",
   "pygments_lexer": "ipython3",
   "version": "3.7.9"
  }
 },
 "nbformat": 4,
 "nbformat_minor": 5
}
