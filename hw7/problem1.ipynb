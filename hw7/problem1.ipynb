{
 "cells": [
  {
   "cell_type": "code",
   "execution_count": 2,
   "id": "southern-copyright",
   "metadata": {},
   "outputs": [],
   "source": [
    "import math\n",
    "import gurobipy as gp\n",
    "from gurobipy import GRB"
   ]
  },
  {
   "cell_type": "code",
   "execution_count": 3,
   "id": "noted-constant",
   "metadata": {},
   "outputs": [],
   "source": [
    "m = gp.Model(\"FireStations\")"
   ]
  },
  {
   "cell_type": "code",
   "execution_count": 7,
   "id": "religious-concert",
   "metadata": {},
   "outputs": [],
   "source": [
    "stations = m.addVars(6,vtype=GRB.INTEGER,name=\"X\")"
   ]
  },
  {
   "cell_type": "code",
   "execution_count": 9,
   "id": "numeric-contrast",
   "metadata": {},
   "outputs": [],
   "source": [
    "# Constraints\n",
    "m.addConstr(stations[0] + stations[1] >= 1, 'City 1')\n",
    "m.addConstr(stations[0] + stations[1] + stations[5] >= 1, 'City 2')\n",
    "m.addConstr(stations[2] + stations[3] >= 1, 'City 3')\n",
    "m.addConstr(stations[2] + stations[3] + stations[4] >= 1, 'City 4')\n",
    "m.addConstr(stations[3] + stations[4] + stations[5] >= 1, 'City 5')\n",
    "m.addConstr(stations[1] + stations[4] + stations[5] >= 1, 'City 6')\n",
    "\n",
    "# Implicit constraints\n",
    "for i in range(6):\n",
    "    m.addConstr(stations[i] >= 0, 'Implicit, City {}'.format(i+1))"
   ]
  },
  {
   "cell_type": "code",
   "execution_count": 11,
   "id": "seasonal-ukraine",
   "metadata": {},
   "outputs": [],
   "source": [
    "# Objective function\n",
    "m.setObjective(stations[0] + stations[1] + stations[2] + stations[3] + stations[4] + stations[5],GRB.MINIMIZE)"
   ]
  },
  {
   "cell_type": "code",
   "execution_count": 13,
   "id": "crucial-silly",
   "metadata": {},
   "outputs": [
    {
     "name": "stdout",
     "output_type": "stream",
     "text": [
      "Optimize a model with 13 rows, 12 columns and 24 nonzeros\n",
      "Variable types: 0 continuous, 12 integer (0 binary)\n",
      "Coefficient statistics:\n",
      "  Matrix range     [1e+00, 1e+00]\n",
      "  Objective range  [1e+00, 1e+00]\n",
      "  Bounds range     [0e+00, 0e+00]\n",
      "  RHS range        [1e+00, 1e+00]\n",
      "\n",
      "Loaded MIP start with objective 2\n",
      "\n",
      "Presolve removed 13 rows and 12 columns\n",
      "Presolve time: 0.00s\n",
      "Presolve: All rows and columns removed\n",
      "\n",
      "Explored 0 nodes (0 simplex iterations) in 0.01 seconds\n",
      "Thread count was 1 (of 6 available processors)\n",
      "\n",
      "Solution count 2: 2 2 \n",
      "\n",
      "Optimal solution found (tolerance 1.00e-04)\n",
      "Best objective 2.000000000000e+00, best bound 2.000000000000e+00, gap 0.0000%\n",
      "Warning: variables 0 and 6 have the same name \"X[0]\"\n",
      "Warning: constraint name \"City 1\" has a space\n",
      "Warning: to let Gurobi read it back, use rlp format\n",
      "\n",
      "Solution: \n",
      "\n",
      "Station 0 = 0\n",
      "Station 1 = 1\n",
      "Station 2 = 0\n",
      "Station 3 = 1\n",
      "Station 4 = 0\n",
      "Station 5 = 0\n",
      "\n",
      "\n",
      "\n"
     ]
    }
   ],
   "source": [
    "# Optimize Model\n",
    "m.optimize()\n",
    "m.write('stations.lp')\n",
    "\n",
    "print('')\n",
    "print('Solution: \\n')\n",
    "solution = m.getAttr('X', stations)\n",
    "\n",
    "for i in range(6):\n",
    "    print('Station %1d = %d' % (i, solution[i]))\n",
    "\n",
    "print('\\n\\n')"
   ]
  },
  {
   "cell_type": "code",
   "execution_count": null,
   "id": "junior-timing",
   "metadata": {},
   "outputs": [],
   "source": []
  }
 ],
 "metadata": {
  "kernelspec": {
   "display_name": "Python 3",
   "language": "python",
   "name": "python3"
  },
  "language_info": {
   "codemirror_mode": {
    "name": "ipython",
    "version": 3
   },
   "file_extension": ".py",
   "mimetype": "text/x-python",
   "name": "python",
   "nbconvert_exporter": "python",
   "pygments_lexer": "ipython3",
   "version": "3.7.9"
  }
 },
 "nbformat": 4,
 "nbformat_minor": 5
}
