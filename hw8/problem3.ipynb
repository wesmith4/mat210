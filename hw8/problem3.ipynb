{
 "cells": [
  {
   "cell_type": "code",
   "execution_count": 19,
   "id": "addressed-reset",
   "metadata": {},
   "outputs": [],
   "source": [
    "# Problem 3\n",
    "import pandas as pd\n",
    "import numpy as np\n",
    "from sklearn.preprocessing import normalize"
   ]
  },
  {
   "cell_type": "code",
   "execution_count": 20,
   "id": "satisfactory-galaxy",
   "metadata": {},
   "outputs": [
    {
     "name": "stdout",
     "output_type": "stream",
     "text": [
      "<class 'pandas.core.frame.DataFrame'>\n",
      "RangeIndex: 594 entries, 0 to 593\n",
      "Data columns (total 31 columns):\n",
      " #   Column  Non-Null Count  Dtype  \n",
      "---  ------  --------------  -----  \n",
      " 0   Rk      594 non-null    int64  \n",
      " 1   Player  594 non-null    object \n",
      " 2   Pos     594 non-null    object \n",
      " 3   Age     594 non-null    int64  \n",
      " 4   Tm      594 non-null    object \n",
      " 5   G       594 non-null    int64  \n",
      " 6   GS      594 non-null    int64  \n",
      " 7   MP      594 non-null    float64\n",
      " 8   FG      594 non-null    float64\n",
      " 9   FGA     594 non-null    float64\n",
      " 10  FG%     589 non-null    float64\n",
      " 11  3P      594 non-null    float64\n",
      " 12  3PA     594 non-null    float64\n",
      " 13  3P%     556 non-null    float64\n",
      " 14  2P      594 non-null    float64\n",
      " 15  2PA     594 non-null    float64\n",
      " 16  2P%     581 non-null    float64\n",
      " 17  eFG%    589 non-null    float64\n",
      " 18  FT      594 non-null    float64\n",
      " 19  FTA     594 non-null    float64\n",
      " 20  FT%     553 non-null    float64\n",
      " 21  ORB     594 non-null    float64\n",
      " 22  DRB     594 non-null    float64\n",
      " 23  TRB     594 non-null    float64\n",
      " 24  AST     594 non-null    float64\n",
      " 25  STL     594 non-null    float64\n",
      " 26  BLK     594 non-null    float64\n",
      " 27  TOV     594 non-null    float64\n",
      " 28  PF      594 non-null    float64\n",
      " 29  PTS     594 non-null    float64\n",
      " 30  handle  594 non-null    object \n",
      "dtypes: float64(23), int64(4), object(4)\n",
      "memory usage: 144.0+ KB\n"
     ]
    }
   ],
   "source": [
    "dataFile = \"perGameStats.txt\"\n",
    "df = pd.read_csv(dataFile)\n",
    "df.to_csv('{}.csv'.format(dataFile.split('.')[0]))\n",
    "df[['Player','handle']] = df['Player'].str.split('\\\\',expand=True)\n",
    "df = df[df['Tm'] != 'TOT']\n",
    "df = df.reset_index(drop=True)\n",
    "df.info()"
   ]
  },
  {
   "cell_type": "code",
   "execution_count": 21,
   "id": "african-equation",
   "metadata": {},
   "outputs": [
    {
     "name": "stdout",
     "output_type": "stream",
     "text": [
      "<class 'pandas.core.frame.DataFrame'>\n",
      "RangeIndex: 594 entries, 0 to 593\n",
      "Data columns (total 11 columns):\n",
      " #   Column  Non-Null Count  Dtype  \n",
      "---  ------  --------------  -----  \n",
      " 0   MP      594 non-null    float64\n",
      " 1   2PA     594 non-null    float64\n",
      " 2   2P      594 non-null    float64\n",
      " 3   3PA     594 non-null    float64\n",
      " 4   3P      594 non-null    float64\n",
      " 5   FTA     594 non-null    float64\n",
      " 6   FT      594 non-null    float64\n",
      " 7   TRB     594 non-null    float64\n",
      " 8   STL     594 non-null    float64\n",
      " 9   BLK     594 non-null    float64\n",
      " 10  TOV     594 non-null    float64\n",
      "dtypes: float64(11)\n",
      "memory usage: 51.2 KB\n"
     ]
    }
   ],
   "source": [
    "# Select desired fields\n",
    "data = df[['MP','2PA','2P','3PA','3P','FTA','FT','TRB','STL','BLK','TOV']]\n",
    "data.info()\n",
    "data_scaled = normalize(data)\n",
    "data_scaled = pd.DataFrame(data_scaled,columns=data.columns)"
   ]
  },
  {
   "cell_type": "code",
   "execution_count": 22,
   "id": "operational-leonard",
   "metadata": {},
   "outputs": [
    {
     "data": {
      "text/plain": [
       "KMeans(n_clusters=50, random_state=42)"
      ]
     },
     "execution_count": 22,
     "metadata": {},
     "output_type": "execute_result"
    }
   ],
   "source": [
    "numberOfClusters = 50\n",
    "from sklearn.cluster import KMeans\n",
    "kmeansCluster = KMeans(n_clusters=numberOfClusters,random_state=42)\n",
    "kmeansCluster.fit(data_scaled)"
   ]
  },
  {
   "cell_type": "code",
   "execution_count": 23,
   "id": "endless-irish",
   "metadata": {},
   "outputs": [],
   "source": [
    "import sys\n",
    "original_stdout = sys.stdout\n",
    "\n",
    "with open('playerClusterKmeans.txt', 'w') as f: \n",
    "   sys.stdout = f\n",
    "   # Output the clusters\n",
    "   for i in range(numberOfClusters):\n",
    "       index = np.where(kmeansCluster.labels_ == i)[0]\n",
    "       print('\\nCluster %d\\n' % i)\n",
    "       for j in range(len(index)):\n",
    "           print(df['Player'][index[j]])\n",
    "   sys.stdout = original_stdout"
   ]
  },
  {
   "cell_type": "code",
   "execution_count": 24,
   "id": "partial-contrary",
   "metadata": {},
   "outputs": [
    {
     "name": "stdout",
     "output_type": "stream",
     "text": [
      "\n",
      "k-means cluster\n",
      "===============\n",
      "Malik Beasley\n",
      "Jordan Clarkson\n",
      "Stephen Curry\n",
      "Evan Fournier\n",
      "Eric Gordon\n",
      "James Harden\n",
      "Damian Lillard\n",
      "CJ McCollum\n",
      "Malik Monk\n",
      "Jordan Poole\n",
      "Norman Powell\n",
      "Immanuel Quickley\n",
      "Terry Rozier\n",
      "D'Angelo Russell\n",
      "Fred VanVleet\n",
      "Kemba Walker\n"
     ]
    }
   ],
   "source": [
    "yourPlayer = 'Stephen Curry'\n",
    "\n",
    "indexOfYourPlayerInDataFrame = np.where(df['Player']==yourPlayer)[0][0]\n",
    "\n",
    "clusterOfPlayer = kmeansCluster.labels_[indexOfYourPlayerInDataFrame]\n",
    "index = np.where(kmeansCluster.labels_ == clusterOfPlayer)[0]\n",
    "print('\\nk-means cluster')\n",
    "print('===============')\n",
    "for j in range(len(index)):\n",
    "     print(df['Player'][index[j]])"
   ]
  }
 ],
 "metadata": {
  "kernelspec": {
   "display_name": "Python 3",
   "language": "python",
   "name": "python3"
  },
  "language_info": {
   "codemirror_mode": {
    "name": "ipython",
    "version": 3
   },
   "file_extension": ".py",
   "mimetype": "text/x-python",
   "name": "python",
   "nbconvert_exporter": "python",
   "pygments_lexer": "ipython3",
   "version": "3.7.9"
  }
 },
 "nbformat": 4,
 "nbformat_minor": 5
}
