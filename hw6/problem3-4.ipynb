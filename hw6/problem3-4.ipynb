{
 "cells": [
  {
   "cell_type": "code",
   "execution_count": 1,
   "id": "invalid-victim",
   "metadata": {},
   "outputs": [],
   "source": [
    "import numpy as np"
   ]
  },
  {
   "cell_type": "code",
   "execution_count": 3,
   "id": "further-gossip",
   "metadata": {},
   "outputs": [
    {
     "data": {
      "text/plain": [
       "array([[0.15, 0.  , 0.  , 0.  ],\n",
       "       [0.6 , 0.15, 0.  , 0.  ],\n",
       "       [0.  , 0.8 , 1.  , 0.  ],\n",
       "       [0.25, 0.05, 0.  , 1.  ]])"
      ]
     },
     "execution_count": 3,
     "metadata": {},
     "output_type": "execute_result"
    }
   ],
   "source": [
    "# Transition matrix\n",
    "A = np.array([[.15,0,0,0],[.60,.15,0,0],[0,.8,1,0],[.25,.05,0,1]])\n",
    "A"
   ]
  },
  {
   "cell_type": "markdown",
   "id": "hispanic-dinner",
   "metadata": {},
   "source": [
    "## Probability that a freshman will graduate"
   ]
  },
  {
   "cell_type": "code",
   "execution_count": 23,
   "id": "stuck-console",
   "metadata": {},
   "outputs": [
    {
     "name": "stdout",
     "output_type": "stream",
     "text": [
      "[[0.        ]\n",
      " [0.        ]\n",
      " [0.66435986]\n",
      " [0.33564014]]\n"
     ]
    }
   ],
   "source": [
    "# Set initial state\n",
    "v0 = np.array([[1],[0],[0],[0]])\n",
    "\n",
    "# print(np.linalg.matrix_power(A,10)@v0)\n",
    "# print(np.linalg.matrix_power(A,50)@v0)\n",
    "print(np.linalg.matrix_power(A,400)@v0)"
   ]
  },
  {
   "cell_type": "markdown",
   "id": "perfect-stress",
   "metadata": {},
   "source": [
    "## Probability that a sophomore will graduate"
   ]
  },
  {
   "cell_type": "code",
   "execution_count": 27,
   "id": "future-ebony",
   "metadata": {},
   "outputs": [
    {
     "name": "stdout",
     "output_type": "stream",
     "text": [
      "[[0.        ]\n",
      " [0.        ]\n",
      " [0.94117647]\n",
      " [0.05882353]]\n"
     ]
    }
   ],
   "source": [
    "v0 = np.array([[0],[1],[0],[0]])\n",
    "\n",
    "print(np.linalg.matrix_power(A,400)@v0)"
   ]
  },
  {
   "cell_type": "code",
   "execution_count": null,
   "id": "widespread-letter",
   "metadata": {},
   "outputs": [],
   "source": []
  }
 ],
 "metadata": {
  "kernelspec": {
   "display_name": "Python 3",
   "language": "python",
   "name": "python3"
  },
  "language_info": {
   "codemirror_mode": {
    "name": "ipython",
    "version": 3
   },
   "file_extension": ".py",
   "mimetype": "text/x-python",
   "name": "python",
   "nbconvert_exporter": "python",
   "pygments_lexer": "ipython3",
   "version": "3.7.9"
  }
 },
 "nbformat": 4,
 "nbformat_minor": 5
}
