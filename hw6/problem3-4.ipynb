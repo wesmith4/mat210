{
  "nbformat": 4,
  "nbformat_minor": 5,
  "metadata": {
    "kernelspec": {
      "display_name": "Python 3",
      "language": "python",
      "name": "python3"
    },
    "language_info": {
      "codemirror_mode": {
        "name": "ipython",
        "version": 3
      },
      "file_extension": ".py",
      "mimetype": "text/x-python",
      "name": "python",
      "nbconvert_exporter": "python",
      "pygments_lexer": "ipython3",
      "version": "3.7.9"
    },
    "colab": {
      "name": "problem3-4.ipynb",
      "provenance": [],
      "include_colab_link": true
    }
  },
  "cells": [
    {
      "cell_type": "markdown",
      "metadata": {
        "id": "view-in-github",
        "colab_type": "text"
      },
      "source": [
        "<a href=\"https://colab.research.google.com/github/wesmith4/mat210/blob/main/hw6/problem3-4.ipynb\" target=\"_parent\"><img src=\"https://colab.research.google.com/assets/colab-badge.svg\" alt=\"Open In Colab\"/></a>"
      ]
    },
    {
      "cell_type": "code",
      "metadata": {
        "id": "loose-trout"
      },
      "source": [
        "import numpy as np\n",
        "import matplotlib.pyplot as plt\n",
        "import pandas as pd"
      ],
      "id": "loose-trout",
      "execution_count": 1,
      "outputs": []
    },
    {
      "cell_type": "markdown",
      "metadata": {
        "id": "verified-yesterday"
      },
      "source": [
        "# Problem 3"
      ],
      "id": "verified-yesterday"
    },
    {
      "cell_type": "code",
      "metadata": {
        "colab": {
          "base_uri": "https://localhost:8080/"
        },
        "id": "egyptian-genesis",
        "outputId": "11b6197d-2e92-4b5d-820a-2da48e85b402"
      },
      "source": [
        "# Transition matrix\n",
        "A = np.array([[.15,0,0,0],[.60,.15,0,0],[0,.8,1,0],[.25,.05,0,1]])\n",
        "A"
      ],
      "id": "egyptian-genesis",
      "execution_count": 2,
      "outputs": [
        {
          "output_type": "execute_result",
          "data": {
            "text/plain": [
              "array([[0.15, 0.  , 0.  , 0.  ],\n",
              "       [0.6 , 0.15, 0.  , 0.  ],\n",
              "       [0.  , 0.8 , 1.  , 0.  ],\n",
              "       [0.25, 0.05, 0.  , 1.  ]])"
            ]
          },
          "metadata": {
            "tags": []
          },
          "execution_count": 2
        }
      ]
    },
    {
      "cell_type": "markdown",
      "metadata": {
        "id": "short-cocktail"
      },
      "source": [
        "## Probability that a freshman will graduate"
      ],
      "id": "short-cocktail"
    },
    {
      "cell_type": "code",
      "metadata": {
        "colab": {
          "base_uri": "https://localhost:8080/"
        },
        "id": "naked-funeral",
        "outputId": "39b82a5c-3bf9-45e0-a8b7-a7a155071e0b"
      },
      "source": [
        "# Set initial state\n",
        "v0 = np.array([[1],[0],[0],[0]])\n",
        "\n",
        "# print(np.linalg.matrix_power(A,10)@v0)\n",
        "# print(np.linalg.matrix_power(A,50)@v0)\n",
        "print(np.linalg.matrix_power(A,400)@v0)"
      ],
      "id": "naked-funeral",
      "execution_count": 3,
      "outputs": [
        {
          "output_type": "stream",
          "text": [
            "[[0.        ]\n",
            " [0.        ]\n",
            " [0.66435986]\n",
            " [0.33564014]]\n"
          ],
          "name": "stdout"
        }
      ]
    },
    {
      "cell_type": "markdown",
      "metadata": {
        "id": "approximate-india"
      },
      "source": [
        "## Probability that a sophomore will graduate"
      ],
      "id": "approximate-india"
    },
    {
      "cell_type": "code",
      "metadata": {
        "colab": {
          "base_uri": "https://localhost:8080/"
        },
        "id": "minus-cosmetic",
        "outputId": "8148caca-fd0a-42da-fea8-57ff2f0e7aac"
      },
      "source": [
        "v0 = np.array([[0],[1],[0],[0]])\n",
        "\n",
        "print(np.linalg.matrix_power(A,400)@v0)"
      ],
      "id": "minus-cosmetic",
      "execution_count": 4,
      "outputs": [
        {
          "output_type": "stream",
          "text": [
            "[[0.        ]\n",
            " [0.        ]\n",
            " [0.94117647]\n",
            " [0.05882353]]\n"
          ],
          "name": "stdout"
        }
      ]
    },
    {
      "cell_type": "markdown",
      "metadata": {
        "id": "packed-scout"
      },
      "source": [
        "# Problem 4"
      ],
      "id": "packed-scout"
    },
    {
      "cell_type": "code",
      "metadata": {
        "colab": {
          "base_uri": "https://localhost:8080/"
        },
        "id": "numerous-picnic",
        "outputId": "ba24d728-e956-4fdf-dac2-40161306137f"
      },
      "source": [
        "beta = 1.505\n",
        "L = np.array([[.15,beta*.80,0,0],[.60,.15,0,0],[0,.80,1,0],[.25,.05,0,1]])\n",
        "L"
      ],
      "id": "numerous-picnic",
      "execution_count": 132,
      "outputs": [
        {
          "output_type": "execute_result",
          "data": {
            "text/plain": [
              "array([[0.15 , 1.204, 0.   , 0.   ],\n",
              "       [0.6  , 0.15 , 0.   , 0.   ],\n",
              "       [0.   , 0.8  , 1.   , 0.   ],\n",
              "       [0.25 , 0.05 , 0.   , 1.   ]])"
            ]
          },
          "metadata": {
            "tags": []
          },
          "execution_count": 132
        }
      ]
    },
    {
      "cell_type": "code",
      "metadata": {
        "id": "greatest-rwanda"
      },
      "source": [
        "v0 = np.array([[1000],[1000],[0],[0]])"
      ],
      "id": "greatest-rwanda",
      "execution_count": 133,
      "outputs": []
    },
    {
      "cell_type": "code",
      "metadata": {
        "colab": {
          "base_uri": "https://localhost:8080/",
          "height": 1000
        },
        "id": "thousand-census",
        "outputId": "3998fe47-ccba-41a4-cb93-bfe0035063a5"
      },
      "source": [
        "data = np.zeros((50,4))\n",
        "for n in range(50):\n",
        "    vn = np.linalg.matrix_power(L,n)@v0\n",
        "    data[n] = vn.reshape((1,4))\n",
        "    \n",
        "populations = data[:,0:2]\n",
        "populations = pd.DataFrame(populations)\n",
        "populations['Total'] = np.sum(populations,axis=1)\n",
        "populations = populations.rename(columns={0: 'Freshmen', 1: 'Sophomores'})\n",
        "populations"
      ],
      "id": "thousand-census",
      "execution_count": 134,
      "outputs": [
        {
          "output_type": "execute_result",
          "data": {
            "text/html": [
              "<div>\n",
              "<style scoped>\n",
              "    .dataframe tbody tr th:only-of-type {\n",
              "        vertical-align: middle;\n",
              "    }\n",
              "\n",
              "    .dataframe tbody tr th {\n",
              "        vertical-align: top;\n",
              "    }\n",
              "\n",
              "    .dataframe thead th {\n",
              "        text-align: right;\n",
              "    }\n",
              "</style>\n",
              "<table border=\"1\" class=\"dataframe\">\n",
              "  <thead>\n",
              "    <tr style=\"text-align: right;\">\n",
              "      <th></th>\n",
              "      <th>Freshmen</th>\n",
              "      <th>Sophomores</th>\n",
              "      <th>Total</th>\n",
              "    </tr>\n",
              "  </thead>\n",
              "  <tbody>\n",
              "    <tr>\n",
              "      <th>0</th>\n",
              "      <td>1000.000000</td>\n",
              "      <td>1000.000000</td>\n",
              "      <td>2000.000000</td>\n",
              "    </tr>\n",
              "    <tr>\n",
              "      <th>1</th>\n",
              "      <td>1354.000000</td>\n",
              "      <td>750.000000</td>\n",
              "      <td>2104.000000</td>\n",
              "    </tr>\n",
              "    <tr>\n",
              "      <th>2</th>\n",
              "      <td>1106.100000</td>\n",
              "      <td>924.900000</td>\n",
              "      <td>2031.000000</td>\n",
              "    </tr>\n",
              "    <tr>\n",
              "      <th>3</th>\n",
              "      <td>1279.494600</td>\n",
              "      <td>802.395000</td>\n",
              "      <td>2081.889600</td>\n",
              "    </tr>\n",
              "    <tr>\n",
              "      <th>4</th>\n",
              "      <td>1158.007770</td>\n",
              "      <td>888.056010</td>\n",
              "      <td>2046.063780</td>\n",
              "    </tr>\n",
              "    <tr>\n",
              "      <th>5</th>\n",
              "      <td>1242.920602</td>\n",
              "      <td>828.013063</td>\n",
              "      <td>2070.933665</td>\n",
              "    </tr>\n",
              "    <tr>\n",
              "      <th>6</th>\n",
              "      <td>1183.365819</td>\n",
              "      <td>869.954320</td>\n",
              "      <td>2053.320139</td>\n",
              "    </tr>\n",
              "    <tr>\n",
              "      <th>7</th>\n",
              "      <td>1224.929875</td>\n",
              "      <td>840.512639</td>\n",
              "      <td>2065.442514</td>\n",
              "    </tr>\n",
              "    <tr>\n",
              "      <th>8</th>\n",
              "      <td>1195.716699</td>\n",
              "      <td>861.034821</td>\n",
              "      <td>2056.751520</td>\n",
              "    </tr>\n",
              "    <tr>\n",
              "      <th>9</th>\n",
              "      <td>1216.043429</td>\n",
              "      <td>846.585242</td>\n",
              "      <td>2062.628671</td>\n",
              "    </tr>\n",
              "    <tr>\n",
              "      <th>10</th>\n",
              "      <td>1201.695146</td>\n",
              "      <td>856.613844</td>\n",
              "      <td>2058.308990</td>\n",
              "    </tr>\n",
              "    <tr>\n",
              "      <th>11</th>\n",
              "      <td>1211.617340</td>\n",
              "      <td>849.509164</td>\n",
              "      <td>2061.126504</td>\n",
              "    </tr>\n",
              "    <tr>\n",
              "      <th>12</th>\n",
              "      <td>1204.551635</td>\n",
              "      <td>854.396779</td>\n",
              "      <td>2058.948413</td>\n",
              "    </tr>\n",
              "    <tr>\n",
              "      <th>13</th>\n",
              "      <td>1209.376467</td>\n",
              "      <td>850.890498</td>\n",
              "      <td>2060.266964</td>\n",
              "    </tr>\n",
              "    <tr>\n",
              "      <th>14</th>\n",
              "      <td>1205.878629</td>\n",
              "      <td>853.259455</td>\n",
              "      <td>2059.138084</td>\n",
              "    </tr>\n",
              "    <tr>\n",
              "      <th>15</th>\n",
              "      <td>1208.206178</td>\n",
              "      <td>851.516096</td>\n",
              "      <td>2059.722273</td>\n",
              "    </tr>\n",
              "    <tr>\n",
              "      <th>16</th>\n",
              "      <td>1206.456306</td>\n",
              "      <td>852.651121</td>\n",
              "      <td>2059.107427</td>\n",
              "    </tr>\n",
              "    <tr>\n",
              "      <th>17</th>\n",
              "      <td>1207.560395</td>\n",
              "      <td>851.771452</td>\n",
              "      <td>2059.331847</td>\n",
              "    </tr>\n",
              "    <tr>\n",
              "      <th>18</th>\n",
              "      <td>1206.666887</td>\n",
              "      <td>852.301955</td>\n",
              "      <td>2058.968842</td>\n",
              "    </tr>\n",
              "    <tr>\n",
              "      <th>19</th>\n",
              "      <td>1207.171587</td>\n",
              "      <td>851.845426</td>\n",
              "      <td>2059.017012</td>\n",
              "    </tr>\n",
              "    <tr>\n",
              "      <th>20</th>\n",
              "      <td>1206.697630</td>\n",
              "      <td>852.079766</td>\n",
              "      <td>2058.777396</td>\n",
              "    </tr>\n",
              "    <tr>\n",
              "      <th>21</th>\n",
              "      <td>1206.908683</td>\n",
              "      <td>851.830543</td>\n",
              "      <td>2058.739226</td>\n",
              "    </tr>\n",
              "    <tr>\n",
              "      <th>22</th>\n",
              "      <td>1206.640276</td>\n",
              "      <td>851.919791</td>\n",
              "      <td>2058.560067</td>\n",
              "    </tr>\n",
              "    <tr>\n",
              "      <th>23</th>\n",
              "      <td>1206.707470</td>\n",
              "      <td>851.772134</td>\n",
              "      <td>2058.479604</td>\n",
              "    </tr>\n",
              "    <tr>\n",
              "      <th>24</th>\n",
              "      <td>1206.539770</td>\n",
              "      <td>851.790302</td>\n",
              "      <td>2058.330073</td>\n",
              "    </tr>\n",
              "    <tr>\n",
              "      <th>25</th>\n",
              "      <td>1206.536489</td>\n",
              "      <td>851.692408</td>\n",
              "      <td>2058.228897</td>\n",
              "    </tr>\n",
              "    <tr>\n",
              "      <th>26</th>\n",
              "      <td>1206.418132</td>\n",
              "      <td>851.675755</td>\n",
              "      <td>2058.093887</td>\n",
              "    </tr>\n",
              "    <tr>\n",
              "      <th>27</th>\n",
              "      <td>1206.380329</td>\n",
              "      <td>851.602242</td>\n",
              "      <td>2057.982571</td>\n",
              "    </tr>\n",
              "    <tr>\n",
              "      <th>28</th>\n",
              "      <td>1206.286149</td>\n",
              "      <td>851.568534</td>\n",
              "      <td>2057.854683</td>\n",
              "    </tr>\n",
              "    <tr>\n",
              "      <th>29</th>\n",
              "      <td>1206.231437</td>\n",
              "      <td>851.506970</td>\n",
              "      <td>2057.738406</td>\n",
              "    </tr>\n",
              "    <tr>\n",
              "      <th>30</th>\n",
              "      <td>1206.149107</td>\n",
              "      <td>851.464907</td>\n",
              "      <td>2057.614014</td>\n",
              "    </tr>\n",
              "    <tr>\n",
              "      <th>31</th>\n",
              "      <td>1206.086115</td>\n",
              "      <td>851.409200</td>\n",
              "      <td>2057.495315</td>\n",
              "    </tr>\n",
              "    <tr>\n",
              "      <th>32</th>\n",
              "      <td>1206.009594</td>\n",
              "      <td>851.363049</td>\n",
              "      <td>2057.372643</td>\n",
              "    </tr>\n",
              "    <tr>\n",
              "      <th>33</th>\n",
              "      <td>1205.942550</td>\n",
              "      <td>851.310214</td>\n",
              "      <td>2057.252764</td>\n",
              "    </tr>\n",
              "    <tr>\n",
              "      <th>34</th>\n",
              "      <td>1205.868880</td>\n",
              "      <td>851.262062</td>\n",
              "      <td>2057.130942</td>\n",
              "    </tr>\n",
              "    <tr>\n",
              "      <th>35</th>\n",
              "      <td>1205.799855</td>\n",
              "      <td>851.210637</td>\n",
              "      <td>2057.010492</td>\n",
              "    </tr>\n",
              "    <tr>\n",
              "      <th>36</th>\n",
              "      <td>1205.727586</td>\n",
              "      <td>851.161508</td>\n",
              "      <td>2056.889094</td>\n",
              "    </tr>\n",
              "    <tr>\n",
              "      <th>37</th>\n",
              "      <td>1205.657594</td>\n",
              "      <td>851.110778</td>\n",
              "      <td>2056.768372</td>\n",
              "    </tr>\n",
              "    <tr>\n",
              "      <th>38</th>\n",
              "      <td>1205.586015</td>\n",
              "      <td>851.061173</td>\n",
              "      <td>2056.647188</td>\n",
              "    </tr>\n",
              "    <tr>\n",
              "      <th>39</th>\n",
              "      <td>1205.515555</td>\n",
              "      <td>851.010785</td>\n",
              "      <td>2056.526340</td>\n",
              "    </tr>\n",
              "    <tr>\n",
              "      <th>40</th>\n",
              "      <td>1205.444318</td>\n",
              "      <td>850.960951</td>\n",
              "      <td>2056.405269</td>\n",
              "    </tr>\n",
              "    <tr>\n",
              "      <th>41</th>\n",
              "      <td>1205.373632</td>\n",
              "      <td>850.910734</td>\n",
              "      <td>2056.284366</td>\n",
              "    </tr>\n",
              "    <tr>\n",
              "      <th>42</th>\n",
              "      <td>1205.302568</td>\n",
              "      <td>850.860789</td>\n",
              "      <td>2056.163358</td>\n",
              "    </tr>\n",
              "    <tr>\n",
              "      <th>43</th>\n",
              "      <td>1205.231776</td>\n",
              "      <td>850.810659</td>\n",
              "      <td>2056.042435</td>\n",
              "    </tr>\n",
              "    <tr>\n",
              "      <th>44</th>\n",
              "      <td>1205.160800</td>\n",
              "      <td>850.760664</td>\n",
              "      <td>2055.921464</td>\n",
              "    </tr>\n",
              "    <tr>\n",
              "      <th>45</th>\n",
              "      <td>1205.089960</td>\n",
              "      <td>850.710580</td>\n",
              "      <td>2055.800540</td>\n",
              "    </tr>\n",
              "    <tr>\n",
              "      <th>46</th>\n",
              "      <td>1205.019032</td>\n",
              "      <td>850.660563</td>\n",
              "      <td>2055.679595</td>\n",
              "    </tr>\n",
              "    <tr>\n",
              "      <th>47</th>\n",
              "      <td>1204.948172</td>\n",
              "      <td>850.610504</td>\n",
              "      <td>2055.558676</td>\n",
              "    </tr>\n",
              "    <tr>\n",
              "      <th>48</th>\n",
              "      <td>1204.877272</td>\n",
              "      <td>850.560479</td>\n",
              "      <td>2055.437751</td>\n",
              "    </tr>\n",
              "    <tr>\n",
              "      <th>49</th>\n",
              "      <td>1204.806408</td>\n",
              "      <td>850.510435</td>\n",
              "      <td>2055.316843</td>\n",
              "    </tr>\n",
              "  </tbody>\n",
              "</table>\n",
              "</div>"
            ],
            "text/plain": [
              "       Freshmen   Sophomores        Total\n",
              "0   1000.000000  1000.000000  2000.000000\n",
              "1   1354.000000   750.000000  2104.000000\n",
              "2   1106.100000   924.900000  2031.000000\n",
              "3   1279.494600   802.395000  2081.889600\n",
              "4   1158.007770   888.056010  2046.063780\n",
              "5   1242.920602   828.013063  2070.933665\n",
              "6   1183.365819   869.954320  2053.320139\n",
              "7   1224.929875   840.512639  2065.442514\n",
              "8   1195.716699   861.034821  2056.751520\n",
              "9   1216.043429   846.585242  2062.628671\n",
              "10  1201.695146   856.613844  2058.308990\n",
              "11  1211.617340   849.509164  2061.126504\n",
              "12  1204.551635   854.396779  2058.948413\n",
              "13  1209.376467   850.890498  2060.266964\n",
              "14  1205.878629   853.259455  2059.138084\n",
              "15  1208.206178   851.516096  2059.722273\n",
              "16  1206.456306   852.651121  2059.107427\n",
              "17  1207.560395   851.771452  2059.331847\n",
              "18  1206.666887   852.301955  2058.968842\n",
              "19  1207.171587   851.845426  2059.017012\n",
              "20  1206.697630   852.079766  2058.777396\n",
              "21  1206.908683   851.830543  2058.739226\n",
              "22  1206.640276   851.919791  2058.560067\n",
              "23  1206.707470   851.772134  2058.479604\n",
              "24  1206.539770   851.790302  2058.330073\n",
              "25  1206.536489   851.692408  2058.228897\n",
              "26  1206.418132   851.675755  2058.093887\n",
              "27  1206.380329   851.602242  2057.982571\n",
              "28  1206.286149   851.568534  2057.854683\n",
              "29  1206.231437   851.506970  2057.738406\n",
              "30  1206.149107   851.464907  2057.614014\n",
              "31  1206.086115   851.409200  2057.495315\n",
              "32  1206.009594   851.363049  2057.372643\n",
              "33  1205.942550   851.310214  2057.252764\n",
              "34  1205.868880   851.262062  2057.130942\n",
              "35  1205.799855   851.210637  2057.010492\n",
              "36  1205.727586   851.161508  2056.889094\n",
              "37  1205.657594   851.110778  2056.768372\n",
              "38  1205.586015   851.061173  2056.647188\n",
              "39  1205.515555   851.010785  2056.526340\n",
              "40  1205.444318   850.960951  2056.405269\n",
              "41  1205.373632   850.910734  2056.284366\n",
              "42  1205.302568   850.860789  2056.163358\n",
              "43  1205.231776   850.810659  2056.042435\n",
              "44  1205.160800   850.760664  2055.921464\n",
              "45  1205.089960   850.710580  2055.800540\n",
              "46  1205.019032   850.660563  2055.679595\n",
              "47  1204.948172   850.610504  2055.558676\n",
              "48  1204.877272   850.560479  2055.437751\n",
              "49  1204.806408   850.510435  2055.316843"
            ]
          },
          "metadata": {
            "tags": []
          },
          "execution_count": 134
        }
      ]
    },
    {
      "cell_type": "code",
      "metadata": {
        "colab": {
          "base_uri": "https://localhost:8080/",
          "height": 281
        },
        "id": "international-breeding",
        "outputId": "91ab6192-12de-40f1-a36b-1a927730a0e0"
      },
      "source": [
        "fig,ax = plt.subplots()\n",
        "\n",
        "ax.bar(populations.index,populations['Freshmen'],label='Freshmen')\n",
        "ax.bar(populations.index,populations['Sophomores'],bottom=populations['Freshmen'],label='Sophomores')\n",
        "ax.legend()\n",
        "plt.title('Student Population')\n",
        "\n",
        "plt.show()"
      ],
      "id": "international-breeding",
      "execution_count": 139,
      "outputs": [
        {
          "output_type": "display_data",
          "data": {
            "image/png": "[encoded data removed]",
            "text/plain": [
              "<Figure size 432x288 with 1 Axes>"
            ]
          },
          "metadata": {
            "tags": [],
            "needs_background": "light"
          }
        }
      ]
    },
    {
      "cell_type": "code",
      "metadata": {
        "colab": {
          "base_uri": "https://localhost:8080/",
          "height": 281
        },
        "id": "YLxUKdNChyyJ",
        "outputId": "d8812047-9dbf-44b3-e0f1-4c8dd953031a"
      },
      "source": [
        "fig,ax = plt.subplots()\n",
        "ax.plot(populations['Freshmen']/populations['Total']*100,label=\"Freshmen (%)\")\n",
        "ax.legend()\n",
        "plt.title('% Freshmen of Student Population')\n",
        "plt.show()\n"
      ],
      "id": "YLxUKdNChyyJ",
      "execution_count": 141,
      "outputs": [
        {
          "output_type": "display_data",
          "data": {
            "image/png": "[encoded data removed]",
            "text/plain": [
              "<Figure size 432x288 with 1 Axes>"
            ]
          },
          "metadata": {
            "tags": [],
            "needs_background": "light"
          }
        }
      ]
    },
    {
      "cell_type": "code",
      "metadata": {
        "colab": {
          "base_uri": "https://localhost:8080/"
        },
        "id": "GdMasM4KlWgs",
        "outputId": "06abb175-68f2-41de-a067-c781fa105698"
      },
      "source": [
        "lastYear = populations.iloc[-1]\n",
        "lastYear.Freshmen/lastYear.Total"
      ],
      "id": "GdMasM4KlWgs",
      "execution_count": 113,
      "outputs": [
        {
          "output_type": "execute_result",
          "data": {
            "text/plain": [
              "0.5861901106972457"
            ]
          },
          "metadata": {
            "tags": []
          },
          "execution_count": 113
        }
      ]
    },
    {
      "cell_type": "code",
      "metadata": {
        "id": "1qlpBwkBnwXX"
      },
      "source": [
        ""
      ],
      "id": "1qlpBwkBnwXX",
      "execution_count": null,
      "outputs": []
    }
  ]
}