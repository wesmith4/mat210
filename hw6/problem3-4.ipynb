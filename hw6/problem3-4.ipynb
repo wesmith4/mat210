{
 "cells": [
  {
   "cell_type": "code",
   "execution_count": 75,
   "id": "loose-trout",
   "metadata": {},
   "outputs": [],
   "source": [
    "import numpy as np\n",
    "import matplotlib.pyplot as plt\n",
    "import pandas as pd"
   ]
  },
  {
   "cell_type": "markdown",
   "id": "verified-yesterday",
   "metadata": {},
   "source": [
    "# Problem 3"
   ]
  },
  {
   "cell_type": "code",
   "execution_count": 3,
   "id": "egyptian-genesis",
   "metadata": {},
   "outputs": [
    {
     "data": {
      "text/plain": [
       "array([[0.15, 0.  , 0.  , 0.  ],\n",
       "       [0.6 , 0.15, 0.  , 0.  ],\n",
       "       [0.  , 0.8 , 1.  , 0.  ],\n",
       "       [0.25, 0.05, 0.  , 1.  ]])"
      ]
     },
     "execution_count": 3,
     "metadata": {},
     "output_type": "execute_result"
    }
   ],
   "source": [
    "# Transition matrix\n",
    "A = np.array([[.15,0,0,0],[.60,.15,0,0],[0,.8,1,0],[.25,.05,0,1]])\n",
    "A"
   ]
  },
  {
   "cell_type": "markdown",
   "id": "short-cocktail",
   "metadata": {},
   "source": [
    "## Probability that a freshman will graduate"
   ]
  },
  {
   "cell_type": "code",
   "execution_count": 29,
   "id": "naked-funeral",
   "metadata": {},
   "outputs": [
    {
     "name": "stdout",
     "output_type": "stream",
     "text": [
      "[[0.        ]\n",
      " [0.        ]\n",
      " [0.66435986]\n",
      " [0.33564014]]\n"
     ]
    }
   ],
   "source": [
    "# Set initial state\n",
    "v0 = np.array([[1],[0],[0],[0]])\n",
    "\n",
    "# print(np.linalg.matrix_power(A,10)@v0)\n",
    "# print(np.linalg.matrix_power(A,50)@v0)\n",
    "print(np.linalg.matrix_power(A,400)@v0)"
   ]
  },
  {
   "cell_type": "markdown",
   "id": "approximate-india",
   "metadata": {},
   "source": [
    "## Probability that a sophomore will graduate"
   ]
  },
  {
   "cell_type": "code",
   "execution_count": 27,
   "id": "minus-cosmetic",
   "metadata": {},
   "outputs": [
    {
     "name": "stdout",
     "output_type": "stream",
     "text": [
      "[[0.        ]\n",
      " [0.        ]\n",
      " [0.94117647]\n",
      " [0.05882353]]\n"
     ]
    }
   ],
   "source": [
    "v0 = np.array([[0],[1],[0],[0]])\n",
    "\n",
    "print(np.linalg.matrix_power(A,400)@v0)"
   ]
  },
  {
   "cell_type": "markdown",
   "id": "packed-scout",
   "metadata": {},
   "source": [
    "# Problem 4"
   ]
  },
  {
   "cell_type": "code",
   "execution_count": 38,
   "id": "numerous-picnic",
   "metadata": {},
   "outputs": [
    {
     "data": {
      "text/plain": [
       "array([[0.15, 0.8 , 0.  , 0.  ],\n",
       "       [0.6 , 0.15, 0.  , 0.  ],\n",
       "       [0.  , 0.8 , 1.  , 0.  ],\n",
       "       [0.25, 0.05, 0.  , 1.  ]])"
      ]
     },
     "execution_count": 38,
     "metadata": {},
     "output_type": "execute_result"
    }
   ],
   "source": [
    "beta = 1\n",
    "L = np.array([[.15,beta*.80,0,0],[.60,.15,0,0],[0,.80,1,0],[.25,.05,0,1]])\n",
    "L"
   ]
  },
  {
   "cell_type": "code",
   "execution_count": 39,
   "id": "greatest-rwanda",
   "metadata": {},
   "outputs": [],
   "source": [
    "v0 = np.array([[1000],[1000],[0],[0]])"
   ]
  },
  {
   "cell_type": "code",
   "execution_count": 85,
   "id": "thousand-census",
   "metadata": {},
   "outputs": [
    {
     "data": {
      "text/html": [
       "<div>\n",
       "<style scoped>\n",
       "    .dataframe tbody tr th:only-of-type {\n",
       "        vertical-align: middle;\n",
       "    }\n",
       "\n",
       "    .dataframe tbody tr th {\n",
       "        vertical-align: top;\n",
       "    }\n",
       "\n",
       "    .dataframe thead th {\n",
       "        text-align: right;\n",
       "    }\n",
       "</style>\n",
       "<table border=\"1\" class=\"dataframe\">\n",
       "  <thead>\n",
       "    <tr style=\"text-align: right;\">\n",
       "      <th></th>\n",
       "      <th>Freshmen</th>\n",
       "      <th>Sophomores</th>\n",
       "      <th>Total</th>\n",
       "    </tr>\n",
       "  </thead>\n",
       "  <tbody>\n",
       "    <tr>\n",
       "      <th>0</th>\n",
       "      <td>1000.000000</td>\n",
       "      <td>1000.000000</td>\n",
       "      <td>2000.000000</td>\n",
       "    </tr>\n",
       "    <tr>\n",
       "      <th>1</th>\n",
       "      <td>950.000000</td>\n",
       "      <td>750.000000</td>\n",
       "      <td>1700.000000</td>\n",
       "    </tr>\n",
       "    <tr>\n",
       "      <th>2</th>\n",
       "      <td>742.500000</td>\n",
       "      <td>682.500000</td>\n",
       "      <td>1425.000000</td>\n",
       "    </tr>\n",
       "    <tr>\n",
       "      <th>3</th>\n",
       "      <td>657.375000</td>\n",
       "      <td>547.875000</td>\n",
       "      <td>1205.250000</td>\n",
       "    </tr>\n",
       "    <tr>\n",
       "      <th>4</th>\n",
       "      <td>536.906250</td>\n",
       "      <td>476.606250</td>\n",
       "      <td>1013.512500</td>\n",
       "    </tr>\n",
       "    <tr>\n",
       "      <th>5</th>\n",
       "      <td>461.820937</td>\n",
       "      <td>393.634687</td>\n",
       "      <td>855.455625</td>\n",
       "    </tr>\n",
       "    <tr>\n",
       "      <th>6</th>\n",
       "      <td>384.180891</td>\n",
       "      <td>336.137766</td>\n",
       "      <td>720.318656</td>\n",
       "    </tr>\n",
       "    <tr>\n",
       "      <th>7</th>\n",
       "      <td>326.537346</td>\n",
       "      <td>280.929199</td>\n",
       "      <td>607.466545</td>\n",
       "    </tr>\n",
       "    <tr>\n",
       "      <th>8</th>\n",
       "      <td>273.723961</td>\n",
       "      <td>238.061788</td>\n",
       "      <td>511.785749</td>\n",
       "    </tr>\n",
       "    <tr>\n",
       "      <th>9</th>\n",
       "      <td>231.508024</td>\n",
       "      <td>199.943645</td>\n",
       "      <td>431.451669</td>\n",
       "    </tr>\n",
       "  </tbody>\n",
       "</table>\n",
       "</div>"
      ],
      "text/plain": [
       "      Freshmen   Sophomores        Total\n",
       "0  1000.000000  1000.000000  2000.000000\n",
       "1   950.000000   750.000000  1700.000000\n",
       "2   742.500000   682.500000  1425.000000\n",
       "3   657.375000   547.875000  1205.250000\n",
       "4   536.906250   476.606250  1013.512500\n",
       "5   461.820937   393.634687   855.455625\n",
       "6   384.180891   336.137766   720.318656\n",
       "7   326.537346   280.929199   607.466545\n",
       "8   273.723961   238.061788   511.785749\n",
       "9   231.508024   199.943645   431.451669"
      ]
     },
     "execution_count": 85,
     "metadata": {},
     "output_type": "execute_result"
    }
   ],
   "source": [
    "data = np.zeros((10,4))\n",
    "for n in range(10):\n",
    "    vn = np.linalg.matrix_power(L,n)@v0\n",
    "    data[n] = vn.reshape((1,4))\n",
    "    \n",
    "populations = data[:,0:2]\n",
    "populations = pd.DataFrame(populations)\n",
    "populations['Total'] = np.sum(populations,axis=1)\n",
    "populations = populations.rename(columns={0: 'Freshmen', 1: 'Sophomores'})\n",
    "populations"
   ]
  },
  {
   "cell_type": "code",
   "execution_count": null,
   "id": "international-breeding",
   "metadata": {},
   "outputs": [],
   "source": []
  }
 ],
 "metadata": {
  "kernelspec": {
   "display_name": "Python 3",
   "language": "python",
   "name": "python3"
  },
  "language_info": {
   "codemirror_mode": {
    "name": "ipython",
    "version": 3
   },
   "file_extension": ".py",
   "mimetype": "text/x-python",
   "name": "python",
   "nbconvert_exporter": "python",
   "pygments_lexer": "ipython3",
   "version": "3.7.9"
  }
 },
 "nbformat": 4,
 "nbformat_minor": 5
}
