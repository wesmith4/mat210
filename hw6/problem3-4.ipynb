{
  "nbformat": 4,
  "nbformat_minor": 5,
  "metadata": {
    "kernelspec": {
      "display_name": "Python 3",
      "language": "python",
      "name": "python3"
    },
    "language_info": {
      "codemirror_mode": {
        "name": "ipython",
        "version": 3
      },
      "file_extension": ".py",
      "mimetype": "text/x-python",
      "name": "python",
      "nbconvert_exporter": "python",
      "pygments_lexer": "ipython3",
      "version": "3.7.9"
    },
    "colab": {
      "name": "problem3-4.ipynb",
      "provenance": [],
      "include_colab_link": true
    }
  },
  "cells": [
    {
      "cell_type": "markdown",
      "metadata": {
        "id": "view-in-github",
        "colab_type": "text"
      },
      "source": [
        "<a href=\"https://colab.research.google.com/github/wesmith4/mat210/blob/main/hw6/problem3-4.ipynb\" target=\"_parent\"><img src=\"https://colab.research.google.com/assets/colab-badge.svg\" alt=\"Open In Colab\"/></a>"
      ]
    },
    {
      "cell_type": "code",
      "metadata": {
        "id": "loose-trout"
      },
      "source": [
        "import numpy as np\n",
        "import matplotlib.pyplot as plt\n",
        "import pandas as pd"
      ],
      "id": "loose-trout",
      "execution_count": 1,
      "outputs": []
    },
    {
      "cell_type": "markdown",
      "metadata": {
        "id": "verified-yesterday"
      },
      "source": [
        "# Problem 3"
      ],
      "id": "verified-yesterday"
    },
    {
      "cell_type": "code",
      "metadata": {
        "id": "egyptian-genesis",
        "outputId": "11b6197d-2e92-4b5d-820a-2da48e85b402",
        "colab": {
          "base_uri": "https://localhost:8080/"
        }
      },
      "source": [
        "# Transition matrix\n",
        "A = np.array([[.15,0,0,0],[.60,.15,0,0],[0,.8,1,0],[.25,.05,0,1]])\n",
        "A"
      ],
      "id": "egyptian-genesis",
      "execution_count": 2,
      "outputs": [
        {
          "output_type": "execute_result",
          "data": {
            "text/plain": [
              "array([[0.15, 0.  , 0.  , 0.  ],\n",
              "       [0.6 , 0.15, 0.  , 0.  ],\n",
              "       [0.  , 0.8 , 1.  , 0.  ],\n",
              "       [0.25, 0.05, 0.  , 1.  ]])"
            ]
          },
          "metadata": {
            "tags": []
          },
          "execution_count": 2
        }
      ]
    },
    {
      "cell_type": "markdown",
      "metadata": {
        "id": "short-cocktail"
      },
      "source": [
        "## Probability that a freshman will graduate"
      ],
      "id": "short-cocktail"
    },
    {
      "cell_type": "code",
      "metadata": {
        "id": "naked-funeral",
        "outputId": "39b82a5c-3bf9-45e0-a8b7-a7a155071e0b",
        "colab": {
          "base_uri": "https://localhost:8080/"
        }
      },
      "source": [
        "# Set initial state\n",
        "v0 = np.array([[1],[0],[0],[0]])\n",
        "\n",
        "# print(np.linalg.matrix_power(A,10)@v0)\n",
        "# print(np.linalg.matrix_power(A,50)@v0)\n",
        "print(np.linalg.matrix_power(A,400)@v0)"
      ],
      "id": "naked-funeral",
      "execution_count": 3,
      "outputs": [
        {
          "output_type": "stream",
          "text": [
            "[[0.        ]\n",
            " [0.        ]\n",
            " [0.66435986]\n",
            " [0.33564014]]\n"
          ],
          "name": "stdout"
        }
      ]
    },
    {
      "cell_type": "markdown",
      "metadata": {
        "id": "approximate-india"
      },
      "source": [
        "## Probability that a sophomore will graduate"
      ],
      "id": "approximate-india"
    },
    {
      "cell_type": "code",
      "metadata": {
        "id": "minus-cosmetic",
        "outputId": "8148caca-fd0a-42da-fea8-57ff2f0e7aac",
        "colab": {
          "base_uri": "https://localhost:8080/"
        }
      },
      "source": [
        "v0 = np.array([[0],[1],[0],[0]])\n",
        "\n",
        "print(np.linalg.matrix_power(A,400)@v0)"
      ],
      "id": "minus-cosmetic",
      "execution_count": 4,
      "outputs": [
        {
          "output_type": "stream",
          "text": [
            "[[0.        ]\n",
            " [0.        ]\n",
            " [0.94117647]\n",
            " [0.05882353]]\n"
          ],
          "name": "stdout"
        }
      ]
    },
    {
      "cell_type": "markdown",
      "metadata": {
        "id": "packed-scout"
      },
      "source": [
        "# Problem 4"
      ],
      "id": "packed-scout"
    },
    {
      "cell_type": "code",
      "metadata": {
        "id": "numerous-picnic",
        "outputId": "1760938a-db20-47f9-8129-b56b3f9b2b1d",
        "colab": {
          "base_uri": "https://localhost:8080/"
        }
      },
      "source": [
        "beta = 1\n",
        "L = np.array([[.15,beta*.80,0,0],[.60,.15,0,0],[0,.80,1,0],[.25,.05,0,1]])\n",
        "L"
      ],
      "id": "numerous-picnic",
      "execution_count": 5,
      "outputs": [
        {
          "output_type": "execute_result",
          "data": {
            "text/plain": [
              "array([[0.15, 0.8 , 0.  , 0.  ],\n",
              "       [0.6 , 0.15, 0.  , 0.  ],\n",
              "       [0.  , 0.8 , 1.  , 0.  ],\n",
              "       [0.25, 0.05, 0.  , 1.  ]])"
            ]
          },
          "metadata": {
            "tags": []
          },
          "execution_count": 5
        }
      ]
    },
    {
      "cell_type": "code",
      "metadata": {
        "id": "greatest-rwanda"
      },
      "source": [
        "v0 = np.array([[1000],[1000],[0],[0]])"
      ],
      "id": "greatest-rwanda",
      "execution_count": 6,
      "outputs": []
    },
    {
      "cell_type": "code",
      "metadata": {
        "id": "thousand-census",
        "outputId": "c570848a-ba93-4f6e-cac0-a673dc44d4e0",
        "colab": {
          "base_uri": "https://localhost:8080/",
          "height": 359
        }
      },
      "source": [
        "data = np.zeros((10,4))\n",
        "for n in range(10):\n",
        "    vn = np.linalg.matrix_power(L,n)@v0\n",
        "    data[n] = vn.reshape((1,4))\n",
        "    \n",
        "populations = data[:,0:2]\n",
        "populations = pd.DataFrame(populations)\n",
        "populations['Total'] = np.sum(populations,axis=1)\n",
        "populations = populations.rename(columns={0: 'Freshmen', 1: 'Sophomores'})\n",
        "populations"
      ],
      "id": "thousand-census",
      "execution_count": 7,
      "outputs": [
        {
          "output_type": "execute_result",
          "data": {
            "text/html": [
              "<div>\n",
              "<style scoped>\n",
              "    .dataframe tbody tr th:only-of-type {\n",
              "        vertical-align: middle;\n",
              "    }\n",
              "\n",
              "    .dataframe tbody tr th {\n",
              "        vertical-align: top;\n",
              "    }\n",
              "\n",
              "    .dataframe thead th {\n",
              "        text-align: right;\n",
              "    }\n",
              "</style>\n",
              "<table border=\"1\" class=\"dataframe\">\n",
              "  <thead>\n",
              "    <tr style=\"text-align: right;\">\n",
              "      <th></th>\n",
              "      <th>Freshmen</th>\n",
              "      <th>Sophomores</th>\n",
              "      <th>Total</th>\n",
              "    </tr>\n",
              "  </thead>\n",
              "  <tbody>\n",
              "    <tr>\n",
              "      <th>0</th>\n",
              "      <td>1000.000000</td>\n",
              "      <td>1000.000000</td>\n",
              "      <td>2000.000000</td>\n",
              "    </tr>\n",
              "    <tr>\n",
              "      <th>1</th>\n",
              "      <td>950.000000</td>\n",
              "      <td>750.000000</td>\n",
              "      <td>1700.000000</td>\n",
              "    </tr>\n",
              "    <tr>\n",
              "      <th>2</th>\n",
              "      <td>742.500000</td>\n",
              "      <td>682.500000</td>\n",
              "      <td>1425.000000</td>\n",
              "    </tr>\n",
              "    <tr>\n",
              "      <th>3</th>\n",
              "      <td>657.375000</td>\n",
              "      <td>547.875000</td>\n",
              "      <td>1205.250000</td>\n",
              "    </tr>\n",
              "    <tr>\n",
              "      <th>4</th>\n",
              "      <td>536.906250</td>\n",
              "      <td>476.606250</td>\n",
              "      <td>1013.512500</td>\n",
              "    </tr>\n",
              "    <tr>\n",
              "      <th>5</th>\n",
              "      <td>461.820937</td>\n",
              "      <td>393.634687</td>\n",
              "      <td>855.455625</td>\n",
              "    </tr>\n",
              "    <tr>\n",
              "      <th>6</th>\n",
              "      <td>384.180891</td>\n",
              "      <td>336.137766</td>\n",
              "      <td>720.318656</td>\n",
              "    </tr>\n",
              "    <tr>\n",
              "      <th>7</th>\n",
              "      <td>326.537346</td>\n",
              "      <td>280.929199</td>\n",
              "      <td>607.466545</td>\n",
              "    </tr>\n",
              "    <tr>\n",
              "      <th>8</th>\n",
              "      <td>273.723961</td>\n",
              "      <td>238.061788</td>\n",
              "      <td>511.785749</td>\n",
              "    </tr>\n",
              "    <tr>\n",
              "      <th>9</th>\n",
              "      <td>231.508024</td>\n",
              "      <td>199.943645</td>\n",
              "      <td>431.451669</td>\n",
              "    </tr>\n",
              "  </tbody>\n",
              "</table>\n",
              "</div>"
            ],
            "text/plain": [
              "      Freshmen   Sophomores        Total\n",
              "0  1000.000000  1000.000000  2000.000000\n",
              "1   950.000000   750.000000  1700.000000\n",
              "2   742.500000   682.500000  1425.000000\n",
              "3   657.375000   547.875000  1205.250000\n",
              "4   536.906250   476.606250  1013.512500\n",
              "5   461.820937   393.634687   855.455625\n",
              "6   384.180891   336.137766   720.318656\n",
              "7   326.537346   280.929199   607.466545\n",
              "8   273.723961   238.061788   511.785749\n",
              "9   231.508024   199.943645   431.451669"
            ]
          },
          "metadata": {
            "tags": []
          },
          "execution_count": 7
        }
      ]
    },
    {
      "cell_type": "code",
      "metadata": {
        "id": "international-breeding",
        "outputId": "8c2da9ac-9139-4075-d3dc-c98fcdbb1d2a",
        "colab": {
          "base_uri": "https://localhost:8080/",
          "height": 265
        }
      },
      "source": [
        "fig,ax = plt.subplots()\n",
        "\n",
        "ax.bar(populations.index,populations['Freshmen'],label='Freshmen')\n",
        "ax.bar(populations.index,populations['Sophomores'],bottom=populations['Freshmen'],label='Sophomores')\n",
        "ax.legend()\n",
        "plt.show()"
      ],
      "id": "international-breeding",
      "execution_count": 23,
      "outputs": [
        {
          "output_type": "display_data",
          "data": {
            "image/png": "[encoded data removed]",
            "text/plain": [
              "<Figure size 432x288 with 1 Axes>"
            ]
          },
          "metadata": {
            "tags": [],
            "needs_background": "light"
          }
        }
      ]
    },
    {
      "cell_type": "code",
      "metadata": {
        "id": "YLxUKdNChyyJ"
      },
      "source": [
        ""
      ],
      "id": "YLxUKdNChyyJ",
      "execution_count": null,
      "outputs": []
    }
  ]
}