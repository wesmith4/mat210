{
 "cells": [
  {
   "cell_type": "code",
   "execution_count": 1,
   "id": "matched-switzerland",
   "metadata": {},
   "outputs": [],
   "source": [
    "import numpy as np"
   ]
  },
  {
   "cell_type": "code",
   "execution_count": 2,
   "id": "killing-rating",
   "metadata": {},
   "outputs": [],
   "source": [
    "A = np.array([[.5,.3,0],[.4,.5,.5],[.1,.2,.5]])"
   ]
  },
  {
   "cell_type": "code",
   "execution_count": 3,
   "id": "concerned-rouge",
   "metadata": {},
   "outputs": [
    {
     "data": {
      "text/plain": [
       "array([[0.5, 0.3, 0. ],\n",
       "       [0.4, 0.5, 0.5],\n",
       "       [0.1, 0.2, 0.5]])"
      ]
     },
     "execution_count": 3,
     "metadata": {},
     "output_type": "execute_result"
    }
   ],
   "source": [
    "A"
   ]
  },
  {
   "cell_type": "code",
   "execution_count": 4,
   "id": "closed-dallas",
   "metadata": {},
   "outputs": [
    {
     "data": {
      "text/plain": [
       "array([[1],\n",
       "       [0],\n",
       "       [0]])"
      ]
     },
     "execution_count": 4,
     "metadata": {},
     "output_type": "execute_result"
    }
   ],
   "source": [
    "v0 = np.array([[1],[0],[0]])\n",
    "v0"
   ]
  },
  {
   "cell_type": "code",
   "execution_count": 11,
   "id": "operational-confidence",
   "metadata": {},
   "outputs": [
    {
     "data": {
      "text/plain": [
       "array([[0.37],\n",
       "       [0.45],\n",
       "       [0.18]])"
      ]
     },
     "execution_count": 11,
     "metadata": {},
     "output_type": "execute_result"
    }
   ],
   "source": [
    "v2 = np.linalg.matrix_power(A,2)@v0\n",
    "v2"
   ]
  },
  {
   "cell_type": "code",
   "execution_count": 15,
   "id": "played-damage",
   "metadata": {},
   "outputs": [
    {
     "name": "stdout",
     "output_type": "stream",
     "text": [
      "Eigenvalues\n",
      "[1.         0.43027756 0.06972244]\n",
      "\n",
      "Eigenvectors\n",
      "[[-0.46989862 -0.78010553  0.55506939]\n",
      " [-0.78316436  0.18130286 -0.79611302]\n",
      " [-0.40724547  0.59880267  0.24104363]]\n"
     ]
    }
   ],
   "source": [
    "evals,evecs = np.linalg.eig(A)\n",
    "print('Eigenvalues')\n",
    "print(evals)\n",
    "print()\n",
    "print('Eigenvectors')\n",
    "print(evecs)"
   ]
  },
  {
   "cell_type": "code",
   "execution_count": 22,
   "id": "induced-magnet",
   "metadata": {},
   "outputs": [
    {
     "name": "stdout",
     "output_type": "stream",
     "text": [
      "[0.28301887 0.47169811 0.24528302]\n"
     ]
    }
   ],
   "source": [
    "# Select the target eigenvector\n",
    "v = evecs[:,0]\n",
    "\n",
    "# Make it stochastic\n",
    "v = v/sum(v)\n",
    "print(v)"
   ]
  },
  {
   "cell_type": "code",
   "execution_count": null,
   "id": "ancient-lightning",
   "metadata": {},
   "outputs": [],
   "source": []
  }
 ],
 "metadata": {
  "kernelspec": {
   "display_name": "Python 3",
   "language": "python",
   "name": "python3"
  },
  "language_info": {
   "codemirror_mode": {
    "name": "ipython",
    "version": 3
   },
   "file_extension": ".py",
   "mimetype": "text/x-python",
   "name": "python",
   "nbconvert_exporter": "python",
   "pygments_lexer": "ipython3",
   "version": "3.7.9"
  }
 },
 "nbformat": 4,
 "nbformat_minor": 5
}
