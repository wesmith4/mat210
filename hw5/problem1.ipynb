{
 "cells": [
  {
   "cell_type": "markdown",
   "id": "experimental-fighter",
   "metadata": {},
   "source": [
    "# Part A\n",
    "Let's recreate the linear system in code.\n",
    "We're using the following form, solving for $x$.\n",
    "\n",
    "$Ax=b$"
   ]
  },
  {
   "cell_type": "code",
   "execution_count": 14,
   "id": "pressed-productivity",
   "metadata": {},
   "outputs": [
    {
     "name": "stdout",
     "output_type": "stream",
     "text": [
      "[0.58333333 0.29166667 0.58333333 0.54166667]\n"
     ]
    }
   ],
   "source": [
    "import numpy as np\n",
    "A = np.array([\n",
    "    [5,-1,-1,-1],\n",
    "    [-1,4,-1,0],\n",
    "    [-1,-1,5,-1],\n",
    "    [-1,0,-1,4]\n",
    "])\n",
    "\n",
    "b = np.array([1.5,0,1.5,1])\n",
    "x = np.linalg.solve(A,b)\n",
    "print(x)"
   ]
  },
  {
   "cell_type": "markdown",
   "id": "weekly-cookbook",
   "metadata": {},
   "source": [
    "# Part B\n",
    "Now, we are incorporating linear weighting."
   ]
  },
  {
   "cell_type": "code",
   "execution_count": 15,
   "id": "dirty-plate",
   "metadata": {},
   "outputs": [
    {
     "name": "stdout",
     "output_type": "stream",
     "text": [
      "[0.50125828 0.33688742 0.55860927 0.60324503]\n"
     ]
    }
   ],
   "source": [
    "A = np.array([\n",
    "    [23/7,-1/7,-3/7,-5/7],\n",
    "    [-1/7,22/7,-1,0],\n",
    "    [-3/7,-1,25/7,-1/7],\n",
    "    [-5/7,0,-1/7,20/7]\n",
    "])\n",
    "b = np.array([6.5/7,3/7,9.5/7,9/7])\n",
    "x = np.linalg.solve(A,b)\n",
    "print(x)"
   ]
  },
  {
   "cell_type": "code",
   "execution_count": null,
   "id": "agricultural-roman",
   "metadata": {},
   "outputs": [],
   "source": []
  }
 ],
 "metadata": {
  "kernelspec": {
   "display_name": "Python 3",
   "language": "python",
   "name": "python3"
  },
  "language_info": {
   "codemirror_mode": {
    "name": "ipython",
    "version": 3
   },
   "file_extension": ".py",
   "mimetype": "text/x-python",
   "name": "python",
   "nbconvert_exporter": "python",
   "pygments_lexer": "ipython3",
   "version": "3.7.9"
  }
 },
 "nbformat": 4,
 "nbformat_minor": 5
}
