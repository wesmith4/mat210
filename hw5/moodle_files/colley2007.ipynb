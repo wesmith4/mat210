{
 "cells": [
  {
   "cell_type": "markdown",
   "metadata": {},
   "source": [
    "# Colley weighted ranking\n",
    "\n",
    "Description: Construct a Colley ranking of data with weighted games\n",
    "  \n",
    "Created by Tim Chartier\n",
    "\n",
    "### Set parameters\n",
    "\n",
    "gameFilename - game data file, presumed to be in the format from \n",
    "the Massey rating data server, which can be found at \n",
    "http://www.masseyratings.com/. \n",
    "\n",
    "teamFilename - team data file\n",
    "\n",
    "k - number of teams to print in the final ranking - set to 0 to get all teams"
   ]
  },
  {
   "cell_type": "code",
   "execution_count": 2,
   "metadata": {},
   "outputs": [],
   "source": [
    "gameFilename = 'games2007.txt'\n",
    "teamFilename = 'teams2007.txt'\n",
    "\n",
    "k = 10"
   ]
  },
  {
   "cell_type": "code",
   "execution_count": 3,
   "metadata": {},
   "outputs": [],
   "source": [
    "# Set weights for home, away and neutral wins\n",
    "weightHomeWin = 1\n",
    "weightAwayWin = 1\n",
    "weightNeutralWin = 1\n",
    "segmentWeighting = [1/2,2]\n",
    "\n",
    "# Will you use weighting? \n",
    "useWeighting = False "
   ]
  },
  {
   "cell_type": "markdown",
   "metadata": {},
   "source": [
    "### Load the team names into an array"
   ]
  },
  {
   "cell_type": "code",
   "execution_count": 4,
   "metadata": {},
   "outputs": [],
   "source": [
    "import pandas as pd\n",
    "\n",
    "teamNames = pd.read_csv(teamFilename, header = None)\n",
    "numTeams = len(teamNames)"
   ]
  },
  {
   "cell_type": "markdown",
   "metadata": {},
   "source": [
    "### Load the games"
   ]
  },
  {
   "cell_type": "code",
   "execution_count": 5,
   "metadata": {},
   "outputs": [],
   "source": [
    "# columns of games are:\n",
    "#\tcolumn 0 = days since 1/1/0000\n",
    "#\tcolumn 1 = date in YYYYMMDD format\n",
    "#\tcolumn 2 = team1 index\n",
    "#\tcolumn 3 = team1 homefield (1 = home, -1 = away, 0 = neutral)\n",
    "#\tcolumn 4 = team1 score\n",
    "#\tcolumn 5 = team2 index\n",
    "#\tcolumn 6 = team2 homefield (1 = home, -1 = away, 0 = neutral)\n",
    "#\tcolumn 7 = team2 score\n",
    "games = pd.read_csv(gameFilename, header = None)\n",
    "numGames = len(games)"
   ]
  },
  {
   "cell_type": "markdown",
   "metadata": {},
   "source": [
    "### Create the Colley linear system"
   ]
  },
  {
   "cell_type": "code",
   "execution_count": 6,
   "metadata": {},
   "outputs": [],
   "source": [
    "import numpy as np\n",
    "from math import ceil \n",
    "\n",
    "colleyMatrix = 2*np.diag(np.ones(numTeams))\n",
    "b = np.ones(numTeams)\n",
    "\n",
    "dayBeforeSeason = games.loc[0,0] - 1\n",
    "lastDayOfSeason = games.loc[len(games)-1,0]\n",
    "\n",
    "for i in range(numGames):\n",
    "    team1ID = games.loc[i, 2] - 1 # subtracting 1 since python indexes at 0\n",
    "    team1Score = games.loc[i, 4]\n",
    "    team1Loc = games.loc[i, 3];\n",
    "\n",
    "    team2ID = games.loc[i, 5] - 1 # subtracting 1 since python indexes at 0\n",
    "    team2Score = games.loc[i, 7]\n",
    "    team2Loc = games.loc[i, 6];\n",
    "    \n",
    "    currentDay = games.loc[i,0]\n",
    "\n",
    "    # Find the weight for this game using time and home/away    \n",
    "    if useWeighting:\n",
    "        numberSegments = len(segmentWeighting)\n",
    "        weightIndex = ceil(numberSegments*((currentDay-dayBeforeSeason)/(lastDayOfSeason-dayBeforeSeason))) - 1\n",
    "        timeWeight = segmentWeighting[weightIndex]\n",
    "    else:\n",
    "        timeWeight = 1\n",
    "\n",
    "    if team1Score > team2Score:  # Team 1 won        \n",
    "        if (team1Loc == 1):      # Home win\n",
    "            gameWeight = weightHomeWin*timeWeight\n",
    "        elif (team1Loc == -1):   # Away win\n",
    "            gameWeight = weightAwayWin*timeWeight\n",
    "        else:                    # Neutral court win\n",
    "            gameWeight = weightNeutralWin*timeWeight\n",
    "    else:                        # Team 2 won\n",
    "        if (team2Loc == 1):      # Home win\n",
    "            gameWeight = weightHomeWin*timeWeight\n",
    "        elif (team2Loc == -1):   # Away win\n",
    "            gameWeight = weightAwayWin*timeWeight\n",
    "        else:                    # Neutral court win\n",
    "            gameWeight = weightNeutralWin*timeWeight\n",
    "                \n",
    "    # Update the Colley matrix and RHS\n",
    "    colleyMatrix[team1ID, team2ID] -= gameWeight\n",
    "    colleyMatrix[team2ID, team1ID] -= gameWeight\n",
    "\n",
    "    colleyMatrix[team1ID, team1ID] += gameWeight\n",
    "    colleyMatrix[team2ID, team2ID] += gameWeight\n",
    "    \n",
    "    if team1Score > team2Score:\n",
    "        b[team1ID] += 1/2*gameWeight\n",
    "        b[team2ID] -= 1/2*gameWeight\n",
    "    elif team1Score < team2Score:\n",
    "        b[team1ID] -= 1/2*gameWeight\n",
    "        b[team2ID] += 1/2*gameWeight\n",
    "    else:  # it is a tie and make 1/2 a win and 1/2 a loss for both teams\n",
    "        b[team1ID] += 0; # this equates to adding nothing\n",
    "        b[team2ID] += 0; # clearly this code could be deleted"
   ]
  },
  {
   "cell_type": "markdown",
   "metadata": {},
   "source": [
    "### Calculate linear system"
   ]
  },
  {
   "cell_type": "code",
   "execution_count": 7,
   "metadata": {},
   "outputs": [],
   "source": [
    "r = np.linalg.solve(colleyMatrix,b)\n",
    "iSort = np.argsort(-r) # returns ranked index values"
   ]
  },
  {
   "cell_type": "markdown",
   "metadata": {},
   "source": [
    "### Print the ranking of the teams"
   ]
  },
  {
   "cell_type": "code",
   "execution_count": 8,
   "metadata": {},
   "outputs": [
    {
     "name": "stdout",
     "output_type": "stream",
     "text": [
      "\n",
      "\n",
      "************** COLLEY Rating Method **************\n",
      "\n",
      "===========================\n",
      "Rank   Rating    Team   \n",
      "===========================\n",
      "   1   1.07193   Ohio_St\n",
      "   2   1.03407   UCLA\n",
      "   3   1.02738   Florida\n",
      "   4   1.01109   North_Carolina\n",
      "   5   0.99187   Kansas\n",
      "   6   0.98098   Georgetown\n",
      "   7   0.97608   Wisconsin\n",
      "   8   0.97041   Pittsburgh\n",
      "   9   0.96941   Memphis\n",
      "  10   0.95233   S_Illinois\n",
      "\n"
     ]
    }
   ],
   "source": [
    "print('\\n\\n************** COLLEY Rating Method **************\\n')\n",
    "print('===========================')\n",
    "print('Rank   Rating    Team   ')\n",
    "print('===========================')\n",
    "if k==0:\n",
    "    numberTeamToPrint = numTeams\n",
    "else:\n",
    "    numberTeamToPrint = k\n",
    "\n",
    "for i in range(numberTeamToPrint):\n",
    "    print(f'{i+1:4d}   {r[iSort[i]]:.5f}  {teamNames.loc[iSort[i],1]}')\n",
    "\n",
    "print('')   # extra carriage return\n"
   ]
  },
  {
   "cell_type": "code",
   "execution_count": 9,
   "metadata": {},
   "outputs": [],
   "source": [
    "f = open(\"rankings2007.txt\", \"w\")\n",
    "f.truncate(0)\n",
    "\n",
    "f.write('\\n\\n************** COLLEY Rating Method **************\\n')\n",
    "f.write('===========================\\n')\n",
    "f.write('Rank   Rating    Team   \\n')\n",
    "f.write('===========================\\n')\n",
    "\n",
    "\n",
    "for i in range(numTeams):\n",
    "    f.write(f'{i+1:4d}   {r[iSort[i]]:.5f}  {teamNames.loc[iSort[i],1]}\\n')\n",
    "\n",
    "\n",
    "f.write('')   # extra carriage return\n",
    "f.close()"
   ]
  },
  {
   "cell_type": "markdown",
   "metadata": {},
   "source": [
    "### Calculate predictability of method"
   ]
  },
  {
   "cell_type": "code",
   "execution_count": 10,
   "metadata": {},
   "outputs": [
    {
     "name": "stdout",
     "output_type": "stream",
     "text": [
      "Predictability: 76.31%\n"
     ]
    }
   ],
   "source": [
    "numberCorrectPredictions = 0\n",
    "for i in range(numGames):\n",
    "    team1ID = games.loc[i, 2] - 1 \n",
    "    team1Score = games.loc[i, 4]\n",
    "    team2ID = games.loc[i, 5] - 1 \n",
    "    team2Score = games.loc[i, 7]\n",
    "    \n",
    "    if team1Score > team2Score and r[team1ID] > r[team2ID]:\n",
    "        numberCorrectPredictions += 1\n",
    "    elif team2Score > team1Score and r[team2ID] > r[team1ID]:\n",
    "        numberCorrectPredictions += 1\n",
    "    elif team1Score == team2Score and r[team1ID] == r[team2ID]:\n",
    "        numberCorrectPredictions += 1\n",
    "\n",
    "print(f'Predictability: {numberCorrectPredictions/numGames*100:.2f}%') \n"
   ]
  },
  {
   "cell_type": "code",
   "execution_count": null,
   "metadata": {},
   "outputs": [],
   "source": []
  },
  {
   "cell_type": "code",
   "execution_count": null,
   "metadata": {},
   "outputs": [],
   "source": []
  }
 ],
 "metadata": {
  "kernelspec": {
   "display_name": "Python 3",
   "language": "python",
   "name": "python3"
  },
  "language_info": {
   "codemirror_mode": {
    "name": "ipython",
    "version": 3
   },
   "file_extension": ".py",
   "mimetype": "text/x-python",
   "name": "python",
   "nbconvert_exporter": "python",
   "pygments_lexer": "ipython3",
   "version": "3.7.9"
  }
 },
 "nbformat": 4,
 "nbformat_minor": 4
}
