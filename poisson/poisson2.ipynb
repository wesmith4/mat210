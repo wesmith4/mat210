{
 "cells": [
  {
   "cell_type": "markdown",
   "id": "sonic-funeral",
   "metadata": {},
   "source": [
    "## Poisson process probability computer\n",
    "\n",
    "Name: poisson2.ipynb<br>\n",
    "Author: Tim Chartier\n",
    "\n",
    "Math 210 - Davidson College\n",
    "\n",
    "This program runs for numberOfDays (initially set at 10000) days where \n",
    "each day is split into numberOfIntervals subintervals.  The average number \n",
    "of customers that arrive on a given day is a. \n",
    "\n",
    "The program simulates ndays of customers arriving and determines\n",
    "from this the estimated probabilities that customers arrive on \n",
    "days 0, 1, 2, ....  These estimated probabilities can be compared\n",
    "with the reported exact probabilities from the Poisson distribution. "
   ]
  },
  {
   "cell_type": "code",
   "execution_count": 1,
   "id": "animated-reading",
   "metadata": {},
   "outputs": [
    {
     "name": "stdout",
     "output_type": "stream",
     "text": [
      "Number of days with 0, 1, 2, ... customers:\n",
      "3545, 3803, 1907, 591, 127, 25, 2\n",
      "\n",
      "Percentage of days with 0, 1, 2, ... customers:\n",
      "0.3545, 0.3803, 0.1907, 0.0591, 0.0127, 0.0025, 0.0002\n",
      "\n",
      "Expected numbers from Poisson distribution:\n",
      "[0.3679 0.3679 0.1839 0.0613 0.0153]\n"
     ]
    }
   ],
   "source": [
    "import numpy as np\n",
    "\n",
    "numberOfDays = 10000  # number of days in the simulation\n",
    "numberOfIntervals = 20   # split up each day into this many subunits\n",
    "\n",
    "#To change to a fraction use something like: a = 1/3\n",
    "a = 1                    # average number of customers each day\n",
    "p = a/numberOfIntervals  # probability of a customer in each subunit\n",
    "\n",
    "randomNumberArray = np.random.rand(numberOfDays,numberOfIntervals)  # generate all the random numbers needed\n",
    "cust = np.zeros(numberOfDays)  # initialize number of customers on each day to 0\n",
    "for i in range(numberOfDays):\n",
    "  for j in range(numberOfIntervals):\n",
    "     if randomNumberArray[i,j] < p:\n",
    "        cust[i] += 1\n",
    "\n",
    "cust_ave = np.sum(cust)/numberOfDays\n",
    "cust_max = np.max(cust)  # max number appearing on any one day\n",
    "\n",
    "distribution, binEdges = np.histogram(cust,int(cust_max)+1)  # histogram\n",
    "print('Number of days with 0, 1, 2, ... customers:')\n",
    "print(*distribution, sep = \", \")\n",
    "\n",
    "percentageOfDays = distribution/numberOfDays\n",
    "print('\\nPercentage of days with 0, 1, 2, ... customers:')\n",
    "print(*percentageOfDays, sep = \", \")\n",
    "\n",
    "# compute expected percentage of days based on Poisson distribution:\n",
    "print('\\nExpected numbers from Poisson distribution:')\n",
    "pois = np.zeros(5)\n",
    "pois[0] = np.exp(-a)\n",
    "for k in range(1,5):\n",
    "  pois[k] = pois[k-1]*a/k\n",
    "\n",
    "np.set_printoptions(precision=4)\n",
    "print(pois)"
   ]
  },
  {
   "cell_type": "code",
   "execution_count": null,
   "id": "second-mirror",
   "metadata": {},
   "outputs": [],
   "source": []
  }
 ],
 "metadata": {
  "kernelspec": {
   "display_name": "Python 3",
   "language": "python",
   "name": "python3"
  },
  "language_info": {
   "codemirror_mode": {
    "name": "ipython",
    "version": 3
   },
   "file_extension": ".py",
   "mimetype": "text/x-python",
   "name": "python",
   "nbconvert_exporter": "python",
   "pygments_lexer": "ipython3",
   "version": "3.7.9"
  }
 },
 "nbformat": 4,
 "nbformat_minor": 5
}
