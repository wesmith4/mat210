{
  "nbformat": 4,
  "nbformat_minor": 5,
  "metadata": {
    "kernelspec": {
      "display_name": "Python 3",
      "language": "python",
      "name": "python3"
    },
    "language_info": {
      "codemirror_mode": {
        "name": "ipython",
        "version": 3
      },
      "file_extension": ".py",
      "mimetype": "text/x-python",
      "name": "python",
      "nbconvert_exporter": "python",
      "pygments_lexer": "ipython3",
      "version": "3.7.9"
    },
    "colab": {
      "name": "round2seeds.ipynb",
      "provenance": [],
      "include_colab_link": true
    }
  },
  "cells": [
    {
      "cell_type": "markdown",
      "metadata": {
        "id": "view-in-github",
        "colab_type": "text"
      },
      "source": [
        "<a href=\"https://colab.research.google.com/github/wesmith4/mat210/blob/main/sports/round2seeds.ipynb\" target=\"_parent\"><img src=\"https://colab.research.google.com/assets/colab-badge.svg\" alt=\"Open In Colab\"/></a>"
      ]
    },
    {
      "cell_type": "code",
      "metadata": {
        "id": "confidential-shanghai"
      },
      "source": [
        "from bs4 import BeautifulSoup\n",
        "from urllib.request import urlopen\n",
        "import pandas as pd\n",
        "import numpy as np\n",
        "from matplotlib import pyplot as plt"
      ],
      "id": "confidential-shanghai",
      "execution_count": 2,
      "outputs": []
    },
    {
      "cell_type": "code",
      "metadata": {
        "id": "major-teddy"
      },
      "source": [
        "def getWinners(round):\n",
        "    games = round.findChildren('div', recursive=False)\n",
        "    \n",
        "    seeds = []\n",
        "    for game in games:\n",
        "        teams = game.findChildren('div', recursive=False)\n",
        "        for team in teams:\n",
        "            seeds.append(int(team.find('span').string))\n",
        "    return seeds"
      ],
      "id": "major-teddy",
      "execution_count": 3,
      "outputs": []
    },
    {
      "cell_type": "code",
      "metadata": {
        "id": "coordinated-kuwait"
      },
      "source": [
        "def getRound2Seeds(year):\n",
        "    pageaddress = \"https://www.sports-reference.com/cbb/postseason/{}-ncaa.html\".format(year)\n",
        "    soup = BeautifulSoup(urlopen(pageaddress), \"html.parser\")\n",
        "    bracketDiv = soup.find_all('div', {'id': 'brackets'})[0]\n",
        "    print('Finding teams from {}'.format(year))\n",
        "       \n",
        "    allWinners = []\n",
        "    for region in range(4):\n",
        "        bracket = bracketDiv.findChildren('div',recursive=False)[region].find_all('div', {'class': 'round'})[1]\n",
        "        allWinners.extend(getWinners(bracket))\n",
        "    allWinners = np.array(allWinners)\n",
        "    \n",
        "    return allWinners"
      ],
      "id": "coordinated-kuwait",
      "execution_count": 4,
      "outputs": []
    },
    {
      "cell_type": "code",
      "metadata": {
        "id": "raising-midnight",
        "outputId": "f49c129e-c73c-44b6-f7eb-bb9fa189b76c",
        "colab": {
          "base_uri": "https://localhost:8080/"
        }
      },
      "source": [
        "allRound2Seeds = np.zeros((len(range(1990,2022)),32))\n",
        "counter = 0\n",
        "for year in range(1990,2022):\n",
        "    if not year == 2020:\n",
        "        allRound2Seeds[counter] = getRound2Seeds(year)\n",
        "    counter += 1\n",
        "allRound2Seeds = allRound2Seeds.astype(int)"
      ],
      "id": "raising-midnight",
      "execution_count": 5,
      "outputs": [
        {
          "output_type": "stream",
          "text": [
            "Finding teams from 1990\n",
            "Finding teams from 1991\n",
            "Finding teams from 1992\n",
            "Finding teams from 1993\n",
            "Finding teams from 1994\n",
            "Finding teams from 1995\n",
            "Finding teams from 1996\n",
            "Finding teams from 1997\n",
            "Finding teams from 1998\n",
            "Finding teams from 1999\n",
            "Finding teams from 2000\n",
            "Finding teams from 2001\n",
            "Finding teams from 2002\n",
            "Finding teams from 2003\n",
            "Finding teams from 2004\n",
            "Finding teams from 2005\n",
            "Finding teams from 2006\n",
            "Finding teams from 2007\n",
            "Finding teams from 2008\n",
            "Finding teams from 2009\n",
            "Finding teams from 2010\n",
            "Finding teams from 2011\n",
            "Finding teams from 2012\n",
            "Finding teams from 2013\n",
            "Finding teams from 2014\n",
            "Finding teams from 2015\n",
            "Finding teams from 2016\n",
            "Finding teams from 2017\n",
            "Finding teams from 2018\n",
            "Finding teams from 2019\n",
            "Finding teams from 2021\n"
          ],
          "name": "stdout"
        }
      ]
    },
    {
      "cell_type": "code",
      "metadata": {
        "id": "dangerous-pharmacy",
        "outputId": "d7ee6194-7e4c-4285-e357-37a54b7894e9",
        "colab": {
          "base_uri": "https://localhost:8080/"
        }
      },
      "source": [
        "df = pd.DataFrame(allRound2Seeds)\n",
        "means = np.mean(df, axis=1)\n",
        "variances = np.var(df,axis=1)"
      ],
      "id": "dangerous-pharmacy",
      "execution_count": 15,
      "outputs": [
        {
          "output_type": "execute_result",
          "data": {
            "text/plain": [
              "0     12.803711\n",
              "1     16.327148\n",
              "2     12.984375\n",
              "3     12.984375\n",
              "4     11.678711\n",
              "5     15.000000\n",
              "6     13.163086\n",
              "7     13.514648\n",
              "8     14.842773\n",
              "9     15.308594\n",
              "10     7.881836\n",
              "11    17.374023\n",
              "12    14.194336\n",
              "13    11.871094\n",
              "14     9.433594\n",
              "15    13.339844\n",
              "16    15.459961\n",
              "17     8.334961\n",
              "18    14.027344\n",
              "19    14.683594\n",
              "20    15.000000\n",
              "21    12.803711\n",
              "22    17.496094\n",
              "23    17.250000\n",
              "24    14.683594\n",
              "25    12.803711\n",
              "26    18.077148\n",
              "27    11.089844\n",
              "28    15.155273\n",
              "29    15.000000\n",
              "30     0.000000\n",
              "31    17.496094\n",
              "dtype: float64"
            ]
          },
          "metadata": {
            "tags": []
          },
          "execution_count": 15
        }
      ]
    },
    {
      "cell_type": "code",
      "metadata": {
        "id": "aboriginal-playing",
        "outputId": "48262685-7bbe-4807-fa76-ea838967a007",
        "colab": {
          "base_uri": "https://localhost:8080/",
          "height": 1000
        }
      },
      "source": [
        "stats = pd.DataFrame(range(1990,2022),columns=['year'])\n",
        "stats['avg_seed'] = means\n",
        "stats['variance'] = variances\n",
        "stats = stats.set_index('year')\n",
        "stats = stats.drop([2020])\n",
        "stats"
      ],
      "id": "aboriginal-playing",
      "execution_count": 16,
      "outputs": [
        {
          "output_type": "execute_result",
          "data": {
            "text/html": [
              "<div>\n",
              "<style scoped>\n",
              "    .dataframe tbody tr th:only-of-type {\n",
              "        vertical-align: middle;\n",
              "    }\n",
              "\n",
              "    .dataframe tbody tr th {\n",
              "        vertical-align: top;\n",
              "    }\n",
              "\n",
              "    .dataframe thead th {\n",
              "        text-align: right;\n",
              "    }\n",
              "</style>\n",
              "<table border=\"1\" class=\"dataframe\">\n",
              "  <thead>\n",
              "    <tr style=\"text-align: right;\">\n",
              "      <th></th>\n",
              "      <th>avg_seed</th>\n",
              "      <th>variance</th>\n",
              "    </tr>\n",
              "    <tr>\n",
              "      <th>year</th>\n",
              "      <th></th>\n",
              "      <th></th>\n",
              "    </tr>\n",
              "  </thead>\n",
              "  <tbody>\n",
              "    <tr>\n",
              "      <th>1990</th>\n",
              "      <td>5.59375</td>\n",
              "      <td>12.803711</td>\n",
              "    </tr>\n",
              "    <tr>\n",
              "      <th>1991</th>\n",
              "      <td>6.28125</td>\n",
              "      <td>16.327148</td>\n",
              "    </tr>\n",
              "    <tr>\n",
              "      <th>1992</th>\n",
              "      <td>5.62500</td>\n",
              "      <td>12.984375</td>\n",
              "    </tr>\n",
              "    <tr>\n",
              "      <th>1993</th>\n",
              "      <td>5.62500</td>\n",
              "      <td>12.984375</td>\n",
              "    </tr>\n",
              "    <tr>\n",
              "      <th>1994</th>\n",
              "      <td>5.40625</td>\n",
              "      <td>11.678711</td>\n",
              "    </tr>\n",
              "    <tr>\n",
              "      <th>1995</th>\n",
              "      <td>6.00000</td>\n",
              "      <td>15.000000</td>\n",
              "    </tr>\n",
              "    <tr>\n",
              "      <th>1996</th>\n",
              "      <td>5.65625</td>\n",
              "      <td>13.163086</td>\n",
              "    </tr>\n",
              "    <tr>\n",
              "      <th>1997</th>\n",
              "      <td>5.71875</td>\n",
              "      <td>13.514648</td>\n",
              "    </tr>\n",
              "    <tr>\n",
              "      <th>1998</th>\n",
              "      <td>5.96875</td>\n",
              "      <td>14.842773</td>\n",
              "    </tr>\n",
              "    <tr>\n",
              "      <th>1999</th>\n",
              "      <td>6.06250</td>\n",
              "      <td>15.308594</td>\n",
              "    </tr>\n",
              "    <tr>\n",
              "      <th>2000</th>\n",
              "      <td>4.84375</td>\n",
              "      <td>7.881836</td>\n",
              "    </tr>\n",
              "    <tr>\n",
              "      <th>2001</th>\n",
              "      <td>6.53125</td>\n",
              "      <td>17.374023</td>\n",
              "    </tr>\n",
              "    <tr>\n",
              "      <th>2002</th>\n",
              "      <td>5.84375</td>\n",
              "      <td>14.194336</td>\n",
              "    </tr>\n",
              "    <tr>\n",
              "      <th>2003</th>\n",
              "      <td>5.43750</td>\n",
              "      <td>11.871094</td>\n",
              "    </tr>\n",
              "    <tr>\n",
              "      <th>2004</th>\n",
              "      <td>5.06250</td>\n",
              "      <td>9.433594</td>\n",
              "    </tr>\n",
              "    <tr>\n",
              "      <th>2005</th>\n",
              "      <td>5.68750</td>\n",
              "      <td>13.339844</td>\n",
              "    </tr>\n",
              "    <tr>\n",
              "      <th>2006</th>\n",
              "      <td>6.09375</td>\n",
              "      <td>15.459961</td>\n",
              "    </tr>\n",
              "    <tr>\n",
              "      <th>2007</th>\n",
              "      <td>4.90625</td>\n",
              "      <td>8.334961</td>\n",
              "    </tr>\n",
              "    <tr>\n",
              "      <th>2008</th>\n",
              "      <td>5.81250</td>\n",
              "      <td>14.027344</td>\n",
              "    </tr>\n",
              "    <tr>\n",
              "      <th>2009</th>\n",
              "      <td>5.93750</td>\n",
              "      <td>14.683594</td>\n",
              "    </tr>\n",
              "    <tr>\n",
              "      <th>2010</th>\n",
              "      <td>6.00000</td>\n",
              "      <td>15.000000</td>\n",
              "    </tr>\n",
              "    <tr>\n",
              "      <th>2011</th>\n",
              "      <td>5.59375</td>\n",
              "      <td>12.803711</td>\n",
              "    </tr>\n",
              "    <tr>\n",
              "      <th>2012</th>\n",
              "      <td>6.56250</td>\n",
              "      <td>17.496094</td>\n",
              "    </tr>\n",
              "    <tr>\n",
              "      <th>2013</th>\n",
              "      <td>6.50000</td>\n",
              "      <td>17.250000</td>\n",
              "    </tr>\n",
              "    <tr>\n",
              "      <th>2014</th>\n",
              "      <td>5.93750</td>\n",
              "      <td>14.683594</td>\n",
              "    </tr>\n",
              "    <tr>\n",
              "      <th>2015</th>\n",
              "      <td>5.59375</td>\n",
              "      <td>12.803711</td>\n",
              "    </tr>\n",
              "    <tr>\n",
              "      <th>2016</th>\n",
              "      <td>6.71875</td>\n",
              "      <td>18.077148</td>\n",
              "    </tr>\n",
              "    <tr>\n",
              "      <th>2017</th>\n",
              "      <td>5.31250</td>\n",
              "      <td>11.089844</td>\n",
              "    </tr>\n",
              "    <tr>\n",
              "      <th>2018</th>\n",
              "      <td>6.03125</td>\n",
              "      <td>15.155273</td>\n",
              "    </tr>\n",
              "    <tr>\n",
              "      <th>2019</th>\n",
              "      <td>6.00000</td>\n",
              "      <td>15.000000</td>\n",
              "    </tr>\n",
              "    <tr>\n",
              "      <th>2021</th>\n",
              "      <td>6.56250</td>\n",
              "      <td>17.496094</td>\n",
              "    </tr>\n",
              "  </tbody>\n",
              "</table>\n",
              "</div>"
            ],
            "text/plain": [
              "      avg_seed   variance\n",
              "year                     \n",
              "1990   5.59375  12.803711\n",
              "1991   6.28125  16.327148\n",
              "1992   5.62500  12.984375\n",
              "1993   5.62500  12.984375\n",
              "1994   5.40625  11.678711\n",
              "1995   6.00000  15.000000\n",
              "1996   5.65625  13.163086\n",
              "1997   5.71875  13.514648\n",
              "1998   5.96875  14.842773\n",
              "1999   6.06250  15.308594\n",
              "2000   4.84375   7.881836\n",
              "2001   6.53125  17.374023\n",
              "2002   5.84375  14.194336\n",
              "2003   5.43750  11.871094\n",
              "2004   5.06250   9.433594\n",
              "2005   5.68750  13.339844\n",
              "2006   6.09375  15.459961\n",
              "2007   4.90625   8.334961\n",
              "2008   5.81250  14.027344\n",
              "2009   5.93750  14.683594\n",
              "2010   6.00000  15.000000\n",
              "2011   5.59375  12.803711\n",
              "2012   6.56250  17.496094\n",
              "2013   6.50000  17.250000\n",
              "2014   5.93750  14.683594\n",
              "2015   5.59375  12.803711\n",
              "2016   6.71875  18.077148\n",
              "2017   5.31250  11.089844\n",
              "2018   6.03125  15.155273\n",
              "2019   6.00000  15.000000\n",
              "2021   6.56250  17.496094"
            ]
          },
          "metadata": {
            "tags": []
          },
          "execution_count": 16
        }
      ]
    },
    {
      "cell_type": "code",
      "metadata": {
        "id": "charged-boards",
        "outputId": "49523292-c3e5-4471-b357-333f75b5e08d",
        "colab": {
          "base_uri": "https://localhost:8080/",
          "height": 281
        }
      },
      "source": [
        "plt.scatter(stats.index, stats.avg_seed)\n",
        "\n",
        "z = np.polyfit(stats.index, stats.avg_seed, 1)\n",
        "p = np.poly1d(z)\n",
        "plt.plot(stats.index,p(stats.index),\"r--\")\n",
        "plt.title('Average Seed of 2nd Round Teams')\n",
        "plt.show()"
      ],
      "id": "charged-boards",
      "execution_count": 13,
      "outputs": [
        {
          "output_type": "display_data",
          "data": {
            "image/png": "[encoded data removed]",
            "text/plain": [
              "<Figure size 432x288 with 1 Axes>"
            ]
          },
          "metadata": {
            "tags": [],
            "needs_background": "light"
          }
        }
      ]
    },
    {
      "cell_type": "code",
      "metadata": {
        "id": "bound-vietnam",
        "outputId": "353a0632-b89b-4a9b-8e22-4fd87b00f08f",
        "colab": {
          "base_uri": "https://localhost:8080/",
          "height": 235
        }
      },
      "source": [
        "stats.sort_values(by='avg_seed',ascending=False).head()"
      ],
      "id": "bound-vietnam",
      "execution_count": 14,
      "outputs": [
        {
          "output_type": "execute_result",
          "data": {
            "text/html": [
              "<div>\n",
              "<style scoped>\n",
              "    .dataframe tbody tr th:only-of-type {\n",
              "        vertical-align: middle;\n",
              "    }\n",
              "\n",
              "    .dataframe tbody tr th {\n",
              "        vertical-align: top;\n",
              "    }\n",
              "\n",
              "    .dataframe thead th {\n",
              "        text-align: right;\n",
              "    }\n",
              "</style>\n",
              "<table border=\"1\" class=\"dataframe\">\n",
              "  <thead>\n",
              "    <tr style=\"text-align: right;\">\n",
              "      <th></th>\n",
              "      <th>avg_seed</th>\n",
              "      <th>variance</th>\n",
              "    </tr>\n",
              "    <tr>\n",
              "      <th>year</th>\n",
              "      <th></th>\n",
              "      <th></th>\n",
              "    </tr>\n",
              "  </thead>\n",
              "  <tbody>\n",
              "    <tr>\n",
              "      <th>2016</th>\n",
              "      <td>6.71875</td>\n",
              "      <td>18.077148</td>\n",
              "    </tr>\n",
              "    <tr>\n",
              "      <th>2021</th>\n",
              "      <td>6.56250</td>\n",
              "      <td>17.496094</td>\n",
              "    </tr>\n",
              "    <tr>\n",
              "      <th>2012</th>\n",
              "      <td>6.56250</td>\n",
              "      <td>17.496094</td>\n",
              "    </tr>\n",
              "    <tr>\n",
              "      <th>2001</th>\n",
              "      <td>6.53125</td>\n",
              "      <td>17.374023</td>\n",
              "    </tr>\n",
              "    <tr>\n",
              "      <th>2013</th>\n",
              "      <td>6.50000</td>\n",
              "      <td>17.250000</td>\n",
              "    </tr>\n",
              "  </tbody>\n",
              "</table>\n",
              "</div>"
            ],
            "text/plain": [
              "      avg_seed   variance\n",
              "year                     \n",
              "2016   6.71875  18.077148\n",
              "2021   6.56250  17.496094\n",
              "2012   6.56250  17.496094\n",
              "2001   6.53125  17.374023\n",
              "2013   6.50000  17.250000"
            ]
          },
          "metadata": {
            "tags": []
          },
          "execution_count": 14
        }
      ]
    },
    {
      "cell_type": "code",
      "metadata": {
        "id": "YtqLoS627RlJ",
        "outputId": "4eeb53d4-4836-40c4-8602-3e0727dbdf00",
        "colab": {
          "base_uri": "https://localhost:8080/",
          "height": 235
        }
      },
      "source": [
        "stats.sort_values(by='variance',ascending=False).head()"
      ],
      "id": "YtqLoS627RlJ",
      "execution_count": 17,
      "outputs": [
        {
          "output_type": "execute_result",
          "data": {
            "text/html": [
              "<div>\n",
              "<style scoped>\n",
              "    .dataframe tbody tr th:only-of-type {\n",
              "        vertical-align: middle;\n",
              "    }\n",
              "\n",
              "    .dataframe tbody tr th {\n",
              "        vertical-align: top;\n",
              "    }\n",
              "\n",
              "    .dataframe thead th {\n",
              "        text-align: right;\n",
              "    }\n",
              "</style>\n",
              "<table border=\"1\" class=\"dataframe\">\n",
              "  <thead>\n",
              "    <tr style=\"text-align: right;\">\n",
              "      <th></th>\n",
              "      <th>avg_seed</th>\n",
              "      <th>variance</th>\n",
              "    </tr>\n",
              "    <tr>\n",
              "      <th>year</th>\n",
              "      <th></th>\n",
              "      <th></th>\n",
              "    </tr>\n",
              "  </thead>\n",
              "  <tbody>\n",
              "    <tr>\n",
              "      <th>2016</th>\n",
              "      <td>6.71875</td>\n",
              "      <td>18.077148</td>\n",
              "    </tr>\n",
              "    <tr>\n",
              "      <th>2021</th>\n",
              "      <td>6.56250</td>\n",
              "      <td>17.496094</td>\n",
              "    </tr>\n",
              "    <tr>\n",
              "      <th>2012</th>\n",
              "      <td>6.56250</td>\n",
              "      <td>17.496094</td>\n",
              "    </tr>\n",
              "    <tr>\n",
              "      <th>2001</th>\n",
              "      <td>6.53125</td>\n",
              "      <td>17.374023</td>\n",
              "    </tr>\n",
              "    <tr>\n",
              "      <th>2013</th>\n",
              "      <td>6.50000</td>\n",
              "      <td>17.250000</td>\n",
              "    </tr>\n",
              "  </tbody>\n",
              "</table>\n",
              "</div>"
            ],
            "text/plain": [
              "      avg_seed   variance\n",
              "year                     \n",
              "2016   6.71875  18.077148\n",
              "2021   6.56250  17.496094\n",
              "2012   6.56250  17.496094\n",
              "2001   6.53125  17.374023\n",
              "2013   6.50000  17.250000"
            ]
          },
          "metadata": {
            "tags": []
          },
          "execution_count": 17
        }
      ]
    },
    {
      "cell_type": "code",
      "metadata": {
        "id": "Ic1vH8q-73md"
      },
      "source": [
        ""
      ],
      "id": "Ic1vH8q-73md",
      "execution_count": null,
      "outputs": []
    }
  ]
}