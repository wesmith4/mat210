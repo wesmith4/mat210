{
 "cells": [
  {
   "cell_type": "code",
   "execution_count": 196,
   "id": "confidential-shanghai",
   "metadata": {},
   "outputs": [],
   "source": [
    "from bs4 import BeautifulSoup\n",
    "from urllib.request import urlopen\n",
    "import pandas as pd\n",
    "import numpy as np\n",
    "from matplotlib import pyplot as plt"
   ]
  },
  {
   "cell_type": "code",
   "execution_count": 155,
   "id": "major-teddy",
   "metadata": {},
   "outputs": [],
   "source": [
    "def getWinners(round):\n",
    "    games = round.findChildren('div', recursive=False)\n",
    "    \n",
    "    seeds = []\n",
    "    for game in games:\n",
    "        teams = game.findChildren('div', recursive=False)\n",
    "        for team in teams:\n",
    "            seeds.append(int(team.find('span').string))\n",
    "    return seeds"
   ]
  },
  {
   "cell_type": "code",
   "execution_count": 156,
   "id": "coordinated-kuwait",
   "metadata": {},
   "outputs": [],
   "source": [
    "def getRound2Seeds(year):\n",
    "    pageaddress = \"https://www.sports-reference.com/cbb/postseason/{}-ncaa.html\".format(year)\n",
    "    soup = BeautifulSoup(urlopen(pageaddress), \"html.parser\")\n",
    "    bracketDiv = soup.find_all('div', {'id': 'brackets'})[0]\n",
    "    print('Finding teams from {}'.format(year))\n",
    "       \n",
    "    allWinners = []\n",
    "    for region in range(4):\n",
    "        bracket = bracketDiv.findChildren('div',recursive=False)[region].find_all('div', {'class': 'round'})[1]\n",
    "        allWinners.extend(getWinners(bracket))\n",
    "    allWinners = np.array(allWinners)\n",
    "    \n",
    "    return allWinners"
   ]
  },
  {
   "cell_type": "code",
   "execution_count": 168,
   "id": "raising-midnight",
   "metadata": {},
   "outputs": [
    {
     "name": "stdout",
     "output_type": "stream",
     "text": [
      "Finding teams from 1990\n",
      "Finding teams from 1991\n",
      "Finding teams from 1992\n",
      "Finding teams from 1993\n",
      "Finding teams from 1994\n",
      "Finding teams from 1995\n",
      "Finding teams from 1996\n",
      "Finding teams from 1997\n",
      "Finding teams from 1998\n",
      "Finding teams from 1999\n",
      "Finding teams from 2000\n",
      "Finding teams from 2001\n",
      "Finding teams from 2002\n",
      "Finding teams from 2003\n",
      "Finding teams from 2004\n",
      "Finding teams from 2005\n",
      "Finding teams from 2006\n",
      "Finding teams from 2007\n",
      "Finding teams from 2008\n",
      "Finding teams from 2009\n",
      "Finding teams from 2010\n",
      "Finding teams from 2011\n",
      "Finding teams from 2012\n",
      "Finding teams from 2013\n",
      "Finding teams from 2014\n",
      "Finding teams from 2015\n",
      "Finding teams from 2016\n",
      "Finding teams from 2017\n",
      "Finding teams from 2018\n",
      "Finding teams from 2019\n",
      "Finding teams from 2021\n"
     ]
    }
   ],
   "source": [
    "allRound2Seeds = np.zeros((len(range(1990,2022)),32))\n",
    "counter = 0\n",
    "for year in range(1990,2022):\n",
    "    if not year == 2020:\n",
    "        allRound2Seeds[counter] = getRound2Seeds(year)\n",
    "    counter += 1\n",
    "allRound2Seeds = allRound2Seeds.astype(int)"
   ]
  },
  {
   "cell_type": "code",
   "execution_count": 240,
   "id": "dangerous-pharmacy",
   "metadata": {},
   "outputs": [],
   "source": [
    "df = pd.DataFrame(allRound2Seeds)\n",
    "means = np.mean(df, axis=1)"
   ]
  },
  {
   "cell_type": "code",
   "execution_count": 227,
   "id": "aboriginal-playing",
   "metadata": {},
   "outputs": [],
   "source": [
    "stats = pd.DataFrame(range(1990,2022),columns=['year'])\n",
    "stats['avg_seed'] = means\n",
    "stats = stats.set_index('year')\n",
    "stats = stats.drop([2020])"
   ]
  },
  {
   "cell_type": "code",
   "execution_count": 239,
   "id": "charged-boards",
   "metadata": {},
   "outputs": [
    {
     "data": {
      "image/png": "[encoded data removed]",
      "text/plain": [
       "<Figure size 432x288 with 1 Axes>"
      ]
     },
     "metadata": {
      "needs_background": "light"
     },
     "output_type": "display_data"
    }
   ],
   "source": [
    "plt.scatter(stats.index, stats.avg_seed)\n",
    "\n",
    "z = np.polyfit(stats.index, stats.avg_seed, 1)\n",
    "p = np.poly1d(z)\n",
    "plt.plot(stats.index,p(stats.index),\"r--\")\n",
    "plt.title('Average Seed of 2nd Round Teams')\n",
    "plt.show()"
   ]
  },
  {
   "cell_type": "code",
   "execution_count": 254,
   "id": "bound-vietnam",
   "metadata": {},
   "outputs": [
    {
     "data": {
      "text/html": [
       "<div>\n",
       "<style scoped>\n",
       "    .dataframe tbody tr th:only-of-type {\n",
       "        vertical-align: middle;\n",
       "    }\n",
       "\n",
       "    .dataframe tbody tr th {\n",
       "        vertical-align: top;\n",
       "    }\n",
       "\n",
       "    .dataframe thead th {\n",
       "        text-align: right;\n",
       "    }\n",
       "</style>\n",
       "<table border=\"1\" class=\"dataframe\">\n",
       "  <thead>\n",
       "    <tr style=\"text-align: right;\">\n",
       "      <th></th>\n",
       "      <th>avg_seed</th>\n",
       "    </tr>\n",
       "    <tr>\n",
       "      <th>year</th>\n",
       "      <th></th>\n",
       "    </tr>\n",
       "  </thead>\n",
       "  <tbody>\n",
       "    <tr>\n",
       "      <th>2016</th>\n",
       "      <td>6.71875</td>\n",
       "    </tr>\n",
       "    <tr>\n",
       "      <th>2021</th>\n",
       "      <td>6.56250</td>\n",
       "    </tr>\n",
       "    <tr>\n",
       "      <th>2012</th>\n",
       "      <td>6.56250</td>\n",
       "    </tr>\n",
       "    <tr>\n",
       "      <th>2001</th>\n",
       "      <td>6.53125</td>\n",
       "    </tr>\n",
       "    <tr>\n",
       "      <th>2013</th>\n",
       "      <td>6.50000</td>\n",
       "    </tr>\n",
       "  </tbody>\n",
       "</table>\n",
       "</div>"
      ],
      "text/plain": [
       "      avg_seed\n",
       "year          \n",
       "2016   6.71875\n",
       "2021   6.56250\n",
       "2012   6.56250\n",
       "2001   6.53125\n",
       "2013   6.50000"
      ]
     },
     "execution_count": 254,
     "metadata": {},
     "output_type": "execute_result"
    }
   ],
   "source": [
    "stats.sort_values(by='avg_seed',ascending=False).head()"
   ]
  }
 ],
 "metadata": {
  "kernelspec": {
   "display_name": "Python 3",
   "language": "python",
   "name": "python3"
  },
  "language_info": {
   "codemirror_mode": {
    "name": "ipython",
    "version": 3
   },
   "file_extension": ".py",
   "mimetype": "text/x-python",
   "name": "python",
   "nbconvert_exporter": "python",
   "pygments_lexer": "ipython3",
   "version": "3.7.9"
  }
 },
 "nbformat": 4,
 "nbformat_minor": 5
}
